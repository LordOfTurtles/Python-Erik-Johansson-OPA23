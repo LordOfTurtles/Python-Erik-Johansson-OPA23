{
 "cells": [
  {
   "cell_type": "markdown",
   "metadata": {},
   "source": [
    "# 0.01 Exercise - if-statements"
   ]
  },
  {
   "cell_type": "markdown",
   "metadata": {},
   "source": [
    "## 0. Check sign"
   ]
  },
  {
   "cell_type": "code",
   "execution_count": 3,
   "metadata": {},
   "outputs": [
    {
     "name": "stdout",
     "output_type": "stream",
     "text": [
      "The number is exactly 0\n"
     ]
    }
   ],
   "source": [
    "user_input = int(input(\"Please enter a number: \"))\n",
    "if user_input > 0:\n",
    "    print(\"The number is positive\")\n",
    "elif user_input < 0:\n",
    "    print(\"The number is negative\")\n",
    "else:\n",
    "    print(\"The number is exactly 0\")"
   ]
  },
  {
   "cell_type": "markdown",
   "metadata": {},
   "source": [
    "## 1. Smallest"
   ]
  },
  {
   "cell_type": "code",
   "execution_count": 6,
   "metadata": {},
   "outputs": [
    {
     "name": "stdout",
     "output_type": "stream",
     "text": [
      "The second number is bigger\n"
     ]
    }
   ],
   "source": [
    "user_input1 = int(input(\"Please enter a number: \"))\n",
    "user_input2 = int(input(\"Please enter another number: \"))\n",
    "if user_input1 > user_input2:\n",
    "    print(\"The first number is bigger\")\n",
    "elif user_input1 < user_input2:\n",
    "    print(\"The second number is bigger\")\n",
    "else:\n",
    "    print(\"The numbers are the same\")"
   ]
  },
  {
   "cell_type": "markdown",
   "metadata": {},
   "source": [
    "## 2. Right angle"
   ]
  },
  {
   "cell_type": "code",
   "execution_count": 9,
   "metadata": {},
   "outputs": [
    {
     "name": "stdout",
     "output_type": "stream",
     "text": [
      "The angles does not add up to a triangle\n"
     ]
    }
   ],
   "source": [
    "angle1 = int(input(\"Please enter the first angle: \"))\n",
    "angle2 = int(input(\"Please enter the second angle: \"))\n",
    "angle3 = int(input(\"Please enter the third angle: \"))\n",
    "if angle1 + angle2 + angle3 == 180:\n",
    "    if angle1 == 90 or angle2 == 90 or angle3 == 90:\n",
    "        print(\"The triangle has a right angle\")\n",
    "    else:\n",
    "        print(\"The triangle has no right angle\")\n",
    "else:\n",
    "    print(\"The angles does not add up to a triangle\")"
   ]
  },
  {
   "cell_type": "markdown",
   "metadata": {},
   "source": [
    "## 3. Medicine"
   ]
  },
  {
   "cell_type": "code",
   "execution_count": 13,
   "metadata": {},
   "outputs": [
    {
     "name": "stdout",
     "output_type": "stream",
     "text": [
      "The recommended dosage is 1/2-1 pill\n"
     ]
    }
   ],
   "source": [
    "age = int(input(\"Please enter your age: \"))\n",
    "weight = int(input(\"Please enter your weight in kilograms: \"))\n",
    "if age <= 12 and age >= 3:\n",
    "    if weight <=25 and weight >= 15:\n",
    "        print(\"The recommended dosage is 1/2 pill\")\n",
    "    elif weight <=40 and weight >=26:\n",
    "        print(\"The recommended dosage is 1/2-1 pill\")\n",
    "    else:\n",
    "        print(\"weight outside range\")\n",
    "elif age > 12:\n",
    "    print(\"The recommended dosage is 2-1 pills\")\n",
    "else:\n",
    "    print(\"Too young for the medicine\")"
   ]
  },
  {
   "cell_type": "markdown",
   "metadata": {},
   "source": [
    "## 4. Divisible"
   ]
  },
  {
   "cell_type": "code",
   "execution_count": 25,
   "metadata": {},
   "outputs": [
    {
     "name": "stdout",
     "output_type": "stream",
     "text": [
      "1. The number 20 is even\n",
      "2. The number 20 is divisible by 5\n",
      "3. The number 20 isn't both divisible by 5 and odd\n"
     ]
    }
   ],
   "source": [
    "user_input = int(input(\"Please enter a number: \"))\n",
    "if (user_input%2)==0:\n",
    "    result = \"even\"\n",
    "else:\n",
    "    result = \"odd\"\n",
    "print(f\"1. The number {user_input} is {result}\")\n",
    "if (user_input%5)==0:\n",
    "    result = \"is\"\n",
    "else:\n",
    "    result = \"isn't\"\n",
    "print(f\"2. The number {user_input} {result} divisible by 5\")\n",
    "if (user_input%2)!=0 and (user_input%5)==0:\n",
    "    result = \"is\"\n",
    "else:\n",
    "    result = \"isn't\"\n",
    "print(f\"3. The number {user_input} {result} both divisible by 5 and odd\")\n",
    "\n"
   ]
  },
  {
   "cell_type": "markdown",
   "metadata": {},
   "source": [
    "## 5. Luggage size"
   ]
  },
  {
   "cell_type": "code",
   "execution_count": 28,
   "metadata": {},
   "outputs": [
    {
     "name": "stdout",
     "output_type": "stream",
     "text": [
      "Luggage is too big\n"
     ]
    }
   ],
   "source": [
    "weight_limit = 8\n",
    "dimension_limit = dict(length = 55, width = 40, height = 23)\n",
    "weight = int(input(\"Please the weight of your luggage in kg: \"))\n",
    "if weight <= weight_limit:\n",
    "    length = int(input(\"Please the length of your luggage in cm: \"))\n",
    "    width = int(input(\"Please the width of your luggage in cm: \"))\n",
    "    height = int(input(\"Please the height of your luggage in cm: \"))    \n",
    "    if length <= dimension_limit[\"length\"] and width <= dimension_limit[\"width\"] and height <= dimension_limit[\"height\"]:\n",
    "        print(\"Luggage is allowed\")\n",
    "    else:\n",
    "        print(\"Luggage is too big\")\n",
    "else:\n",
    "    print(\"Luggage is too heavy\")"
   ]
  },
  {
   "cell_type": "code",
   "execution_count": null,
   "metadata": {},
   "outputs": [],
   "source": []
  }
 ],
 "metadata": {
  "kernelspec": {
   "display_name": "venv",
   "language": "python",
   "name": "python3"
  },
  "language_info": {
   "codemirror_mode": {
    "name": "ipython",
    "version": 3
   },
   "file_extension": ".py",
   "mimetype": "text/x-python",
   "name": "python",
   "nbconvert_exporter": "python",
   "pygments_lexer": "ipython3",
   "version": "3.11.7"
  }
 },
 "nbformat": 4,
 "nbformat_minor": 2
}
