{
 "cells": [
  {
   "cell_type": "markdown",
   "metadata": {},
   "source": [
    "# Exercice - while statement"
   ]
  },
  {
   "cell_type": "markdown",
   "metadata": {},
   "source": [
    "## 0. Count numbers\n",
    "\n",
    "Use a <b>while</b> statement to count from -10 to 10 with one increment."
   ]
  },
  {
   "cell_type": "code",
   "execution_count": 4,
   "metadata": {},
   "outputs": [
    {
     "name": "stdout",
     "output_type": "stream",
     "text": [
      "-10, -9, -8, -7, -6, -5, -4, -3, -2, -1, 0, 1, 2, 3, 4, 5, 6, 7, 8, 9, 10\n"
     ]
    }
   ],
   "source": [
    "number = -10\n",
    "output = f\"{number}\"\n",
    "while number < 10:\n",
    "    number += 1\n",
    "    output += f\", {number}\"\n",
    "print(output)\n"
   ]
  },
  {
   "cell_type": "markdown",
   "metadata": {},
   "source": [
    "## 1. Arithmetic sum\n",
    "\n",
    "Use a <b>while</b> statement to compute the following sums:\n",
    "\n",
    "&nbsp; a) &nbsp; <b>sum</b> = $1 + 2 + ... + 99 + 100$\n",
    "\n",
    "&nbsp; b) &nbsp; <b>sum</b> = $1 + 3 + 5 + ... + 97 + 99$"
   ]
  },
  {
   "cell_type": "code",
   "execution_count": 5,
   "metadata": {},
   "outputs": [
    {
     "name": "stdout",
     "output_type": "stream",
     "text": [
      "The sum is: 5050\n"
     ]
    }
   ],
   "source": [
    "# a)\n",
    "number = 1\n",
    "total = number\n",
    "while number < 100:\n",
    "    number += 1\n",
    "    total += number\n",
    "print(f\"The sum is: {total}\")"
   ]
  },
  {
   "cell_type": "code",
   "execution_count": 6,
   "metadata": {},
   "outputs": [
    {
     "name": "stdout",
     "output_type": "stream",
     "text": [
      "The sum is: 2500\n"
     ]
    }
   ],
   "source": [
    "# b)\n",
    "number = 1\n",
    "total = number\n",
    "while number < 99:\n",
    "    number += 2\n",
    "    total += number\n",
    "print(f\"The sum is: {total}\")"
   ]
  },
  {
   "cell_type": "code",
   "execution_count": null,
   "metadata": {},
   "outputs": [],
   "source": []
  }
 ],
 "metadata": {
  "kernelspec": {
   "display_name": "venv",
   "language": "python",
   "name": "python3"
  },
  "language_info": {
   "codemirror_mode": {
    "name": "ipython",
    "version": 3
   },
   "file_extension": ".py",
   "mimetype": "text/x-python",
   "name": "python",
   "nbconvert_exporter": "python",
   "pygments_lexer": "ipython3",
   "version": "3.11.7"
  }
 },
 "nbformat": 4,
 "nbformat_minor": 2
}
