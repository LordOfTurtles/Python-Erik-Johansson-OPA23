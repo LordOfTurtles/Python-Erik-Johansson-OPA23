{
 "cells": [
  {
   "cell_type": "markdown",
   "metadata": {},
   "source": [
    "# Exercice - while statement"
   ]
  },
  {
   "cell_type": "markdown",
   "metadata": {},
   "source": [
    "## 0. Count numbers\n",
    "\n",
    "Use a <b>while</b> statement to count from -10 to 10 with one increment."
   ]
  },
  {
   "cell_type": "code",
   "execution_count": 4,
   "metadata": {},
   "outputs": [
    {
     "name": "stdout",
     "output_type": "stream",
     "text": [
      "-10, -9, -8, -7, -6, -5, -4, -3, -2, -1, 0, 1, 2, 3, 4, 5, 6, 7, 8, 9, 10\n"
     ]
    }
   ],
   "source": [
    "number = -10\n",
    "output = f\"{number}\"\n",
    "while number < 10:\n",
    "    number += 1\n",
    "    output += f\", {number}\"\n",
    "print(output)\n"
   ]
  },
  {
   "cell_type": "markdown",
   "metadata": {},
   "source": [
    "## 1. Arithmetic sum\n",
    "\n",
    "Use a <b>while</b> statement to compute the following sums:\n",
    "\n",
    "&nbsp; a) &nbsp; <b>sum</b> = $1 + 2 + ... + 99 + 100$\n",
    "\n",
    "&nbsp; b) &nbsp; <b>sum</b> = $1 + 3 + 5 + ... + 97 + 99$"
   ]
  },
  {
   "cell_type": "code",
   "execution_count": 5,
   "metadata": {},
   "outputs": [
    {
     "name": "stdout",
     "output_type": "stream",
     "text": [
      "The sum is: 5050\n"
     ]
    }
   ],
   "source": [
    "# a)\n",
    "number = 1\n",
    "total = number\n",
    "while number < 100:\n",
    "    number += 1\n",
    "    total += number\n",
    "print(f\"The sum is: {total}\")"
   ]
  },
  {
   "cell_type": "code",
   "execution_count": 6,
   "metadata": {},
   "outputs": [
    {
     "name": "stdout",
     "output_type": "stream",
     "text": [
      "The sum is: 2500\n"
     ]
    }
   ],
   "source": [
    "# b)\n",
    "number = 1\n",
    "total = number\n",
    "while number < 99:\n",
    "    number += 2\n",
    "    total += number\n",
    "print(f\"The sum is: {total}\")"
   ]
  },
  {
   "cell_type": "markdown",
   "metadata": {},
   "source": [
    "## Guess number game"
   ]
  },
  {
   "cell_type": "code",
   "execution_count": 37,
   "metadata": {},
   "outputs": [
    {
     "name": "stdout",
     "output_type": "stream",
     "text": [
      "The correct number is smaller than 50\n",
      "The correct number is smaller than 25\n",
      "The correct number is smaller than 12\n",
      "The correct number is smaller than 6\n",
      "You won! The correct number was 3 and it took you 5 tries\n"
     ]
    }
   ],
   "source": [
    "# a)\n",
    "import numpy as np\n",
    "\n",
    "number_correct = np.random.randint(1, 101)\n",
    "total_guesses = 0\n",
    "has_won = False\n",
    "while not has_won:\n",
    "    number_guess = int(input(\"Guess a number between 1-100: \"))\n",
    "    total_guesses += 1\n",
    "    if number_guess == number_correct:\n",
    "        has_won=True\n",
    "    elif number_guess < number_correct:\n",
    "        print(f\"The correct number is bigger than {number_guess}\")\n",
    "    elif number_guess > number_correct:\n",
    "        print(f\"The correct number is smaller than {number_guess}\")\n",
    "print(f\"You won! The correct number was {number_correct} and it took you {total_guesses} tries\")\n",
    "\n",
    "\n"
   ]
  },
  {
   "cell_type": "code",
   "execution_count": 35,
   "metadata": {},
   "outputs": [
    {
     "name": "stdout",
     "output_type": "stream",
     "text": [
      "The correct number is smaller than 50\n",
      "The correct number is bigger than 25\n",
      "The correct number is smaller than 37\n",
      "The correct number is smaller than 31\n",
      "The correct number is smaller than 28\n",
      "The correct number is bigger than 26\n",
      "You won! The correct number was 27 and it took you 7 tries\n"
     ]
    }
   ],
   "source": [
    "# b)\n",
    "import math\n",
    "number_max = 100\n",
    "number_min = 1\n",
    "number_correct = np.random.randint(1, 101)\n",
    "total_guesses = 0\n",
    "has_won = False\n",
    "number_guess = math.floor((number_max+number_min)/2)\n",
    "while not has_won:\n",
    "    total_guesses += 1\n",
    "    if number_guess == number_correct:\n",
    "        has_won=True\n",
    "    elif number_guess < number_correct:\n",
    "        print(f\"The correct number is bigger than {number_guess}\")\n",
    "        number_min = number_guess + 1\n",
    "        number_guess = number_guess + math.ceil((number_max - number_guess)/2)\n",
    "        \n",
    "    elif number_guess > number_correct:\n",
    "        print(f\"The correct number is smaller than {number_guess}\")\n",
    "        number_max = number_guess - 1\n",
    "        number_guess = math.floor((number_max+number_min)/2)\n",
    "print(f\"You won! The correct number was {number_correct} and it took you {total_guesses} tries\")\n"
   ]
  },
  {
   "cell_type": "markdown",
   "metadata": {},
   "source": [
    "## 3. Multiplication game"
   ]
  },
  {
   "cell_type": "code",
   "execution_count": 39,
   "metadata": {},
   "outputs": [
    {
     "name": "stdout",
     "output_type": "stream",
     "text": [
      "Good work!\n",
      "Good work!\n",
      "Wrong, the correct answer is 72\n",
      "Thank you for playing! Your score was 2\n"
     ]
    }
   ],
   "source": [
    "# a)\n",
    "\n",
    "score = 0\n",
    "is_playing = True\n",
    "while is_playing:\n",
    "    x = np.random.randint(1, 11)\n",
    "    y = np.random.randint(1, 11)\n",
    "    user_input = int(input(f\"What is {x} times {y}\"))\n",
    "    if user_input == x*y:\n",
    "        print(\"Good work!\")\n",
    "        score += 1\n",
    "    else:\n",
    "        print(f\"Wrong, the correct answer is {x*y}\")\n",
    "    retry = input(\"Play again?\")\n",
    "    if retry == \"no\":\n",
    "        is_playing = False\n",
    "    elif retry == \"yes\":\n",
    "        continue\n",
    "    else:\n",
    "        print(\"invalid input\")\n",
    "print(f\"Thank you for playing! Your score was {score}\")"
   ]
  },
  {
   "cell_type": "code",
   "execution_count": null,
   "metadata": {},
   "outputs": [],
   "source": [
    "# b)\n",
    "\n"
   ]
  },
  {
   "cell_type": "code",
   "execution_count": 32,
   "metadata": {},
   "outputs": [
    {
     "data": {
      "text/plain": [
       "1.998046875"
      ]
     },
     "execution_count": 32,
     "metadata": {},
     "output_type": "execute_result"
    }
   ],
   "source": [
    "sum = 1\n",
    "n = 9\n",
    "f = 1\n",
    "while f > 1/2**n:\n",
    "    f /= 2\n",
    "    sum += f\n",
    "sum"
   ]
  },
  {
   "cell_type": "code",
   "execution_count": 44,
   "metadata": {},
   "outputs": [
    {
     "name": "stdout",
     "output_type": "stream",
     "text": [
      "0.790953033504689\n"
     ]
    }
   ],
   "source": [
    "sum = 1\n",
    "f = 1\n",
    "n = 45\n",
    "positive = False\n",
    "while f < n:\n",
    "    sum += (-1)**f/(2*f+1)\n",
    "    f += 1\n",
    "print(sum)"
   ]
  },
  {
   "cell_type": "code",
   "execution_count": null,
   "metadata": {},
   "outputs": [],
   "source": []
  }
 ],
 "metadata": {
  "kernelspec": {
   "display_name": "venv",
   "language": "python",
   "name": "python3"
  },
  "language_info": {
   "codemirror_mode": {
    "name": "ipython",
    "version": 3
   },
   "file_extension": ".py",
   "mimetype": "text/x-python",
   "name": "python",
   "nbconvert_exporter": "python",
   "pygments_lexer": "ipython3",
   "version": "3.11.7"
  }
 },
 "nbformat": 4,
 "nbformat_minor": 2
}
