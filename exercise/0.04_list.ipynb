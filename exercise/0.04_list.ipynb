{
 "cells": [
  {
   "cell_type": "markdown",
   "metadata": {},
   "source": [
    "# Exercise - lists\n",
    "\n",
    "<div style=\"max-width: 66ch;\">\n",
    "\n",
    "---\n",
    "These are introductory exercises in Python with focus in **lists**, which is a data structure that allows you to store and organize a collection of items.\n",
    "\n",
    "<p class = \"alert alert-info\" role=\"alert\"><b>Remember</b> to use <b>descriptive variables</b> in order to get readable code </p>\n",
    "\n",
    "<p class = \"alert alert-info\" role=\"alert\"><b>Remember</b> to format your answers in a neat way using <b>f-strings</b>\n",
    "\n",
    "<p class = \"alert alert-info\" role=\"alert\"><b>Remember</b> to format your input questions in a pedagogical way to guide the user\n",
    "\n",
    "The number of stars (\\*), (\\*\\*), (\\*\\*\\*) denotes the difficulty level of the task\n",
    "\n",
    "---\n",
    "\n",
    "</div>"
   ]
  },
  {
   "cell_type": "markdown",
   "metadata": {},
   "source": [
    "<div style=\"max-width:66ch;\">\n",
    "\n",
    "## 0. Dice rolls (*)\n",
    "\n",
    "Simulate 10 dice rolls and **append** the rolls to a list or use **list comprehension**.\n",
    "\n",
    "&nbsp; a) &nbsp; sort the list in **ascending** order (*)\n",
    "\n",
    "&nbsp; b) &nbsp; sort the list in **descending** order (*)\n",
    "\n",
    "&nbsp; c) &nbsp; find the **maximum** and **minimum** value in the list (*)\n",
    "\n",
    "--- \n",
    "## 1. Food menu (*)\n",
    "\n",
    "Create a:  \n",
    "\n",
    "&nbsp; a) &nbsp; **list** with the following elements: \"vegetarisk lasagne\", \"spaghetti\", \"fisk\", \"grönsakssoppa\", \"pannkakor\". (*)\n",
    "\n",
    "&nbsp; b) &nbsp; **list** with the weekdays (*)\n",
    "\n",
    "&nbsp; c) &nbsp; create a food menu with each day corresponding to each food item and print it out. (*)\n",
    "\n",
    "\n",
    "--- \n",
    "## 2. Squares (*)\n",
    "\n",
    "&nbsp; a) &nbsp; Use **list comprehension** to create a list of squares from -10 to 10 (*)\n",
    "\n",
    "&nbsp; b) &nbsp; Plot this list using **matplotlib**. (*)\n",
    "\n",
    "---\n",
    "## 3. Chessboard (**)\n",
    "\n",
    "&nbsp; a) &nbsp; Create this list using **list comprehension**: (*)\n",
    "\n",
    "```python\n",
    "['A1', 'B1', 'C1', 'D1', 'E1', 'F1', 'G1', 'H1']\n",
    "```\n",
    "\n",
    "&nbsp; b) &nbsp; Create a 2D list to hold the coordinates in a chessboard. (**)\n",
    "\n",
    "---\n",
    "## 4. Dice rolls convergence (**)\n",
    "\n",
    "Simulate: \n",
    "\n",
    "&nbsp; a) &nbsp; 100 dice rolls and count the number of outcome six. (*)\n",
    "\n",
    "&nbsp; b) &nbsp; 10, 100, 1000, 10000, 100000, 1000000 dice rolls. Count the number of outcome six in each simulation and store it in a list. Compute the probability of outcome six in each simulation. (**)\n",
    "\n",
    "&nbsp; c) &nbsp; Use matplotlib to plot this list. (*)\n",
    "\n",
    "--- \n",
    "## 5. Monte Carlo simulation (**)\n",
    "\n",
    "&nbsp; a) Simulate 5000 uniformly distributed points between -1 and 1, $X\\sim U(-1,1)$. Now calculate the Euclidean distances between each point and the origin (0,0), $d_i = \\sqrt{x_i^2 + y_i^2}$. For $d_i < 1$ plot the point with one color, and for $d_i > 1$ plot the point in another color, $i = \\{1,\\ldots, 5000\\}$.  (**)\n",
    "\n",
    "&nbsp; b) Calculate the fraction between number of inner points and number of outer points. What do you this will converge to when number of points reaches infinity? (**)\n",
    "\n",
    "--- \n",
    "## 6. A cute rabbit among two ferocious snakes (**)\n",
    "\n",
    "There are three identical doors, behind two of them, there are ferocious snakes and behind one of them is a cute little rabbit. Your aim is to pick a door and get the cute rabbit. You start picking one door randomly and suddenly another door opens and snake slithers away *pssss*. Now you have a choice to either stay with your door or change to the remaining door. \n",
    "\n",
    "<img src=\"https://github.com/kokchun/assets/blob/main/python/snakes_rabbits.png?raw=true\" width = 200>\n",
    "\n",
    "&nbsp; a) What is your choice and why? (**)\n",
    "\n",
    "&nbsp; b) Randomly assign which door has the rabbit, and randomly pick an initial door. Now simulate 10, 100, 1000, 10000, 100000, 1000000 times for staying and for switching doors. Calculate the proportion of finding the rabbits for each set of simulations. Plot the results (**)\n",
    "\n",
    "\n",
    "</div>\n",
    "\n",
    "\n"
   ]
  },
  {
   "cell_type": "code",
   "execution_count": 25,
   "metadata": {},
   "outputs": [
    {
     "name": "stdout",
     "output_type": "stream",
     "text": [
      "[1, 1, 1, 2, 2, 2, 2, 2, 2, 6]\n"
     ]
    }
   ],
   "source": [
    "# 0.a)\n",
    "\n",
    "import numpy as np\n",
    "throws = []\n",
    "for i in range(10):\n",
    "    throws.append(np.random.randint(1, 7))\n",
    "\n",
    "throws.sort()\n",
    "print(throws)"
   ]
  },
  {
   "cell_type": "code",
   "execution_count": 14,
   "metadata": {},
   "outputs": [
    {
     "name": "stdout",
     "output_type": "stream",
     "text": [
      "[6, 6, 5, 4, 4, 4, 4, 2, 1, 1]\n"
     ]
    }
   ],
   "source": [
    "# 0.b)\n",
    "\n",
    "throws.sort(reverse=True)\n",
    "print(throws)"
   ]
  },
  {
   "cell_type": "code",
   "execution_count": 26,
   "metadata": {},
   "outputs": [
    {
     "name": "stdout",
     "output_type": "stream",
     "text": [
      "The minimum value is 1, the maximum value is 6\n"
     ]
    }
   ],
   "source": [
    "# 0.c)\n",
    "\n",
    "throws.sort()\n",
    "minval = throws[0]\n",
    "maxval = throws[-1]\n",
    "print(f\"The minimum value is {minval}, the maximum value is {maxval}\")"
   ]
  },
  {
   "cell_type": "code",
   "execution_count": 27,
   "metadata": {},
   "outputs": [
    {
     "data": {
      "text/plain": [
       "['vegetarisk lasagne', 'spaghetti', 'fisk', 'grönsakssoppa', 'pannkakor']"
      ]
     },
     "execution_count": 27,
     "metadata": {},
     "output_type": "execute_result"
    }
   ],
   "source": [
    "# 1.a)\n",
    "\n",
    "meals = [\"vegetarisk lasagne\", \"spaghetti\", \"fisk\", \"grönsakssoppa\", \"pannkakor\"]\n",
    "meals"
   ]
  },
  {
   "cell_type": "code",
   "execution_count": 28,
   "metadata": {},
   "outputs": [
    {
     "data": {
      "text/plain": [
       "['Måndag', 'Tisdag', 'Onsdag', 'Torsdag', 'Fredag']"
      ]
     },
     "execution_count": 28,
     "metadata": {},
     "output_type": "execute_result"
    }
   ],
   "source": [
    "# 1.b)\n",
    "weekdays = [\"Måndag\", \"Tisdag\", \"Onsdag\", \"Torsdag\", \"Fredag\"]\n",
    "weekdays"
   ]
  },
  {
   "cell_type": "code",
   "execution_count": 34,
   "metadata": {},
   "outputs": [
    {
     "name": "stdout",
     "output_type": "stream",
     "text": [
      "Bambameny\n",
      "Måndag: vegetarisk lasagne\n",
      "Tisdag: spaghetti\n",
      "Onsdag: fisk\n",
      "Torsdag: grönsakssoppa\n",
      "Fredag: pannkakor\n"
     ]
    }
   ],
   "source": [
    "# 1.c)\n",
    "\n",
    "combos = []\n",
    "\n",
    "for weekday, meal in zip(weekdays, meals):\n",
    "    combos.append(f\"{weekday}: {meal}\")\n",
    "\n",
    "print(\"Bambameny\")\n",
    "for combo in combos:\n",
    "    print(combo)\n"
   ]
  },
  {
   "cell_type": "markdown",
   "metadata": {},
   "source": [
    "<div style=\"width: 66ch;\">\n",
    "\n",
    "\n",
    "</div>"
   ]
  },
  {
   "cell_type": "code",
   "execution_count": 40,
   "metadata": {},
   "outputs": [
    {
     "name": "stdout",
     "output_type": "stream",
     "text": [
      "[100, 81, 64, 49, 36, 25, 16, 9, 4, 1, 0, 1, 4, 9, 16, 25, 36, 49, 64, 81, 100]\n"
     ]
    }
   ],
   "source": [
    "# 2.a)\n",
    "\n",
    "numbers = [i for i in range(-10,11)]\n",
    "cubes = [number**2 for number in numbers]\n",
    "print(cubes)"
   ]
  },
  {
   "cell_type": "code",
   "execution_count": 42,
   "metadata": {},
   "outputs": [
    {
     "data": {
      "text/plain": [
       "Text(0.5, 1.0, 'x^2 for integers -10 to 10')"
      ]
     },
     "execution_count": 42,
     "metadata": {},
     "output_type": "execute_result"
    },
    {
     "data": {
      "image/png": "[encoded data removed]",
      "text/plain": [
       "<Figure size 640x480 with 1 Axes>"
      ]
     },
     "metadata": {},
     "output_type": "display_data"
    }
   ],
   "source": [
    "# 2.b)\n",
    "import matplotlib.pyplot as plt\n",
    "\n",
    "plt.plot(numbers, cubes)\n",
    "plt.title(\"x^2 for integers -10 to 10\")"
   ]
  },
  {
   "cell_type": "code",
   "execution_count": 53,
   "metadata": {},
   "outputs": [
    {
     "name": "stdout",
     "output_type": "stream",
     "text": [
      "A1\n",
      "B1\n",
      "C1\n",
      "D1\n",
      "E1\n",
      "F1\n",
      "G1\n",
      "H1\n"
     ]
    }
   ],
   "source": [
    "# 3.a)\n",
    "\n",
    "letters = list(\"ABCDEFGH\")\n",
    "for l in letters:\n",
    "    print(f\"{l}1\")"
   ]
  },
  {
   "cell_type": "code",
   "execution_count": 59,
   "metadata": {},
   "outputs": [
    {
     "data": {
      "text/plain": [
       "[['A1', 'B1', 'C1', 'D1', 'E1', 'F1', 'G1', 'H1'],\n",
       " ['A2', 'B2', 'C2', 'D2', 'E2', 'F2', 'G2', 'H2'],\n",
       " ['A3', 'B3', 'C3', 'D3', 'E3', 'F3', 'G3', 'H3'],\n",
       " ['A4', 'B4', 'C4', 'D4', 'E4', 'F4', 'G4', 'H4'],\n",
       " ['A5', 'B5', 'C5', 'D5', 'E5', 'F5', 'G5', 'H5'],\n",
       " ['A6', 'B6', 'C6', 'D6', 'E6', 'F6', 'G6', 'H6'],\n",
       " ['A7', 'B7', 'C7', 'D7', 'E7', 'F7', 'G7', 'H7'],\n",
       " ['A8', 'B8', 'C8', 'D8', 'E8', 'F8', 'G8', 'H8']]"
      ]
     },
     "execution_count": 59,
     "metadata": {},
     "output_type": "execute_result"
    }
   ],
   "source": [
    "# 3.b)\n",
    "\n",
    "numbers = [i for i in range(1, 9)]\n",
    "\n",
    "coordinates = []\n",
    "\n",
    "for i in range (0, 8):\n",
    "    coordinates.append([])\n",
    "    for l in letters:\n",
    "        coordinates[i].append(f\"{l}{i+1}\")\n",
    "\n",
    "coordinates"
   ]
  },
  {
   "cell_type": "code",
   "execution_count": 61,
   "metadata": {},
   "outputs": [
    {
     "name": "stdout",
     "output_type": "stream",
     "text": [
      "19\n"
     ]
    }
   ],
   "source": [
    "# 4.a)\n",
    "\n",
    "import numpy as np\n",
    "throws = []\n",
    "for i in range(100):\n",
    "    throws.append(np.random.randint(1, 7))\n",
    "\n",
    "print(throws.count(6))"
   ]
  },
  {
   "cell_type": "code",
   "execution_count": 75,
   "metadata": {},
   "outputs": [
    {
     "name": "stdout",
     "output_type": "stream",
     "text": [
      "10 throws: 1\n",
      "100 throws: 18\n",
      "1000 throws: 163\n",
      "10000 throws: 1619\n",
      "100000 throws: 16814\n",
      "1000000 throws: 167270\n"
     ]
    },
    {
     "data": {
      "text/plain": [
       "([1, 18, 163, 1619, 16814, 167270],\n",
       " [10, 100, 1000, 10000, 100000, 1000000],\n",
       " [0.1, 0.18, 0.163, 0.1619, 0.16814, 0.16727])"
      ]
     },
     "execution_count": 75,
     "metadata": {},
     "output_type": "execute_result"
    }
   ],
   "source": [
    "# 4.b)\n",
    "\n",
    "values = [10, 100, 1000, 10000, 100000, 1000000]\n",
    "\n",
    "throws = []\n",
    "number_sixes = []\n",
    "probability = []\n",
    "for n, v in enumerate(values):\n",
    "    throws.append([])\n",
    "    for i in range(v):\n",
    "        throws[n].append(np.random.randint(1, 7))\n",
    "    number_sixes.append(throws[n].count(6))\n",
    "    print(f\"{v} throws: {number_sixes[n]}\")\n",
    "    probability.append(number_sixes[n]/v)\n",
    "\n",
    "\n",
    "number_sixes, values, probability\n",
    "\n",
    "\n"
   ]
  },
  {
   "cell_type": "code",
   "execution_count": 76,
   "metadata": {},
   "outputs": [
    {
     "data": {
      "text/plain": [
       "Text(0, 0.5, 'Probability')"
      ]
     },
     "execution_count": 76,
     "metadata": {},
     "output_type": "execute_result"
    },
    {
     "data": {
      "image/png": "[encoded data removed]",
      "text/plain": [
       "<Figure size 640x480 with 1 Axes>"
      ]
     },
     "metadata": {},
     "output_type": "display_data"
    }
   ],
   "source": [
    "plt.plot(probability, '-*')\n",
    "plt.title(\"Probability of six for different number of rolls\")\n",
    "plt.xticks([0,1,2,3,4,5], values)\n",
    "plt.xlabel(\"Number of dice rolls\")\n",
    "plt.ylabel(\"Probability\")"
   ]
  },
  {
   "cell_type": "code",
   "execution_count": 103,
   "metadata": {},
   "outputs": [
    {
     "data": {
      "text/plain": [
       "<matplotlib.collections.PathCollection at 0x22e4cbadf50>"
      ]
     },
     "execution_count": 103,
     "metadata": {},
     "output_type": "execute_result"
    },
    {
     "data": {
      "image/png": "[encoded data removed]",
      "text/plain": [
       "<Figure size 640x480 with 1 Axes>"
      ]
     },
     "metadata": {},
     "output_type": "display_data"
    }
   ],
   "source": [
    "# 5.a)\n",
    "import math\n",
    "num_points = 500000\n",
    "xvalues = np.random.uniform(-1, 1, num_points)\n",
    "yvalues = np.random.uniform(-1, 1, num_points)\n",
    "\n",
    "red_x = []\n",
    "red_y = []\n",
    "blue_x = []\n",
    "blue_y = []\n",
    "total_inner = 0\n",
    "total_outer = 0\n",
    "for x, y in zip(xvalues, yvalues):\n",
    "    if math.sqrt(x**2 + y**2) < 1:\n",
    "        red_x.append(x)\n",
    "        red_y.append(y)\n",
    "        total_inner += 1\n",
    "    else:\n",
    "        blue_x.append(x)\n",
    "        blue_y.append(y)\n",
    "        total_outer += 1\n",
    "\n",
    "plt.scatter(red_x, red_y)   \n",
    "plt.scatter(blue_x, blue_y)\n",
    "\n",
    "        "
   ]
  },
  {
   "cell_type": "code",
   "execution_count": 104,
   "metadata": {},
   "outputs": [
    {
     "data": {
      "text/plain": [
       "0.7276868073845058"
      ]
     },
     "execution_count": 104,
     "metadata": {},
     "output_type": "execute_result"
    }
   ],
   "source": [
    "1 - total_outer/total_inner"
   ]
  },
  {
   "cell_type": "markdown",
   "metadata": {},
   "source": [
    "<div style=\"background-color: #FFF; color: #212121; border-radius: 20px; width:25ch; box-shadow: rgba(0, 0, 0, 0.16) 0px 1px 4px; display: flex; justify-content: center; align-items: center;\">\n",
    "<div style=\"padding: 1em; width: 60%;\">\n",
    "    <h2 style=\"font-size: 1.2rem;\">Kokchun Giang</h2>\n",
    "    <a href=\"https://www.linkedin.com/in/kokchungiang/\" target=\"_blank\" style=\"display: flex; align-items: center; gap: .4em; color:#0A66C2;\">\n",
    "        <img src=\"https://content.linkedin.com/content/dam/me/business/en-us/amp/brand-site/v2/bg/LI-Bug.svg.original.svg\" width=\"20\"> \n",
    "        LinkedIn profile\n",
    "    </a>\n",
    "    <a href=\"https://github.com/kokchun/Portfolio-Kokchun-Giang\" target=\"_blank\" style=\"display: flex; align-items: center; gap: .4em; margin: 1em 0; color:#0A66C2;\">\n",
    "        <img src=\"https://github.githubassets.com/images/modules/logos_page/GitHub-Mark.png\" width=\"20\"> \n",
    "        Github portfolio\n",
    "    </a>\n",
    "    <span>AIgineer AB</span>\n",
    "    <div>\n",
    "</div>"
   ]
  }
 ],
 "metadata": {
  "kernelspec": {
   "display_name": "Python 3.9.6 64-bit",
   "language": "python",
   "name": "python3"
  },
  "language_info": {
   "codemirror_mode": {
    "name": "ipython",
    "version": 3
   },
   "file_extension": ".py",
   "mimetype": "text/x-python",
   "name": "python",
   "nbconvert_exporter": "python",
   "pygments_lexer": "ipython3",
   "version": "3.11.7"
  },
  "orig_nbformat": 4,
  "vscode": {
   "interpreter": {
    "hash": "0da836a34428266995a795f1e1e27b816fa1c02f148d9728b3fbbbc5459afca6"
   }
  }
 },
 "nbformat": 4,
 "nbformat_minor": 2
}
