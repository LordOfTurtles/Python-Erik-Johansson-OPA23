{
 "cells": [
  {
   "cell_type": "markdown",
   "metadata": {},
   "source": [
    "# Count with python"
   ]
  },
  {
   "cell_type": "markdown",
   "metadata": {},
   "source": [
    "## 0. Pythagorean theorem"
   ]
  },
  {
   "cell_type": "code",
   "execution_count": 2,
   "metadata": {},
   "outputs": [
    {
     "name": "stdout",
     "output_type": "stream",
     "text": [
      "The hypothenuse is 5 units long\n"
     ]
    }
   ],
   "source": [
    "# a)\n",
    "\n",
    "import math\n",
    "\n",
    "side_a = 3\n",
    "side_b = 4\n",
    "side_c = int(math.sqrt(side_a**2+side_b**2))\n",
    "\n",
    "print(f\"The hypothenuse is {side_c} units long\")"
   ]
  },
  {
   "cell_type": "code",
   "execution_count": 3,
   "metadata": {},
   "outputs": [
    {
     "name": "stdout",
     "output_type": "stream",
     "text": [
      "The b cathetus is 4.9 units long\n"
     ]
    }
   ],
   "source": [
    "# b)\n",
    "\n",
    "side_c = 7.0\n",
    "side_a = 5.0\n",
    "side_b = round(math.sqrt(side_c**2-side_a**2), 1)\n",
    "\n",
    "print(f\"The b cathetus is {side_b} units long\")"
   ]
  },
  {
   "cell_type": "markdown",
   "metadata": {},
   "source": [
    "## 1. Classification accuracy"
   ]
  },
  {
   "cell_type": "code",
   "execution_count": 7,
   "metadata": {},
   "outputs": [
    {
     "name": "stdout",
     "output_type": "stream",
     "text": [
      "The algorithm has an accuracy of 82.19 %\n"
     ]
    }
   ],
   "source": [
    "total_predictions = 365\n",
    "accurate_predictions = 300\n",
    "accuracy = round(accurate_predictions/total_predictions * 100, 2)\n",
    "print(f\"The algorithm has an accuracy of {accuracy} %\")"
   ]
  },
  {
   "cell_type": "markdown",
   "metadata": {},
   "source": [
    "## 2. Classification accuracy"
   ]
  },
  {
   "cell_type": "code",
   "execution_count": 10,
   "metadata": {},
   "outputs": [
    {
     "name": "stdout",
     "output_type": "stream",
     "text": [
      "The accuracy for the model is: 98.7%\n"
     ]
    }
   ],
   "source": [
    "TP = 2\n",
    "FP = 2\n",
    "FN = 11\n",
    "TN = 985\n",
    "accuracy = (TP+TN)/(TP+TN+FP+FN)*100\n",
    "print(f\"The accuracy for the model is: {accuracy}%\")"
   ]
  },
  {
   "cell_type": "markdown",
   "metadata": {},
   "source": [
    "# 3. Line"
   ]
  },
  {
   "cell_type": "code",
   "execution_count": 15,
   "metadata": {},
   "outputs": [
    {
     "name": "stdout",
     "output_type": "stream",
     "text": [
      "The slope k is: 0.75 and the constant term m is: 1.0\n"
     ]
    }
   ],
   "source": [
    "y1 = 1\n",
    "y2 = 4\n",
    "x1 = 0\n",
    "x2 = 4\n",
    "k = (y2-y1)/(x2-x1)\n",
    "m = y1 - (k*x1)\n",
    "print(f\"The slope k is: {k} and the constant term m is: {m}\")"
   ]
  },
  {
   "cell_type": "markdown",
   "metadata": {},
   "source": [
    "## 4. Euclidean distance"
   ]
  },
  {
   "cell_type": "code",
   "execution_count": 23,
   "metadata": {},
   "outputs": [
    {
     "name": "stdout",
     "output_type": "stream",
     "text": [
      "The distance between P1 and P2 is around 5.1 units\n"
     ]
    }
   ],
   "source": [
    "P1_x = 3\n",
    "P1_y = 5\n",
    "P2_x = -2\n",
    "P2_y = 4\n",
    "distance = round(math.sqrt((P1_x - P2_x)**2 + (P1_y - P2_y)**2), 1)\n",
    "print(f\"The distance between P1 and P2 is around {distance} units\")"
   ]
  },
  {
   "cell_type": "markdown",
   "metadata": {},
   "source": [
    "## 5. Euclidean distance in 3D"
   ]
  },
  {
   "cell_type": "code",
   "execution_count": 24,
   "metadata": {},
   "outputs": [
    {
     "name": "stdout",
     "output_type": "stream",
     "text": [
      "The distance between P1 and P2 is around 4.12 units\n"
     ]
    }
   ],
   "source": [
    "P1_x = 2\n",
    "P1_y = 1\n",
    "P1_z = 4\n",
    "P2_x = 3\n",
    "P2_y = 1\n",
    "P2_z = 0\n",
    "distance = round(math.sqrt((P1_x - P2_x)**2 + (P1_y - P2_y)**2 + (P1_z - P2_z)**2), 2)\n",
    "print(f\"The distance between P1 and P2 is around {distance} units\")"
   ]
  },
  {
   "cell_type": "code",
   "execution_count": null,
   "metadata": {},
   "outputs": [],
   "source": []
  }
 ],
 "metadata": {
  "kernelspec": {
   "display_name": "venv",
   "language": "python",
   "name": "python3"
  },
  "language_info": {
   "codemirror_mode": {
    "name": "ipython",
    "version": 3
   },
   "file_extension": ".py",
   "mimetype": "text/x-python",
   "name": "python",
   "nbconvert_exporter": "python",
   "pygments_lexer": "ipython3",
   "version": "3.11.7"
  }
 },
 "nbformat": 4,
 "nbformat_minor": 2
}
