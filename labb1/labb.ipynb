{
 "cells": [
  {
   "cell_type": "markdown",
   "metadata": {},
   "source": [
    "## Classes and functions"
   ]
  },
  {
   "cell_type": "code",
   "execution_count": 195,
   "metadata": {},
   "outputs": [],
   "source": [
    "import numpy as np\n",
    "\n",
    "# Class for Pokémon where name specifies the type of Pokémon, i.e \"Pichu\", \"Pikachu\"\n",
    "class Pokemon:\n",
    "    def __init__(self, width, height, name):\n",
    "        self.width = width\n",
    "        self.height = height\n",
    "        self.name = name\n",
    "\n",
    "# Function for calculating euclidean distances between 2 points based on width/height of pokemon\n",
    "def EuclidPoke(poke1, poke2):\n",
    "    distance = np.sqrt((poke1.width - poke2.width)**2 + (poke1.height - poke2.height)**2)\n",
    "    return distance\n",
    "    \n",
    "# Function for checking if a string can be converted to int or float \n",
    "def CheckInput(value):\n",
    "    try:\n",
    "        int(value)\n",
    "        float(value)\n",
    "        return True\n",
    "    except ValueError:\n",
    "        return False"
   ]
  },
  {
   "cell_type": "markdown",
   "metadata": {},
   "source": [
    "## Read data from file"
   ]
  },
  {
   "cell_type": "markdown",
   "metadata": {},
   "source": [
    "### Pikachu Data"
   ]
  },
  {
   "cell_type": "code",
   "execution_count": 196,
   "metadata": {},
   "outputs": [
    {
     "data": {
      "text/plain": [
       "['18.137772263313835, 44.951493566608946',\n",
       " '26.648661832322336, 41.49878057639454',\n",
       " '26.180524428318897, 39.38100083914504',\n",
       " '24.44364396490554, 40.175758410355904',\n",
       " '21.201902279430513, 36.21004195868266',\n",
       " '25.691541582957697, 37.24697337031557',\n",
       " '19.338626083150515, 38.38085562147455',\n",
       " '23.21718300802926, 40.88308718457233',\n",
       " '23.444684475950478, 37.30114732596577',\n",
       " '29.445791130252964, 37.20217384451559',\n",
       " '28.51023528453833, 35.709930860090324',\n",
       " '21.16066860901309, 41.31102957270099',\n",
       " '24.00703335660358, 37.28941783811155',\n",
       " '20.143822566361578, 44.054200130061275',\n",
       " '28.951534072137846, 43.59635400253747',\n",
       " '28.4462228380412, 35.70857349888654',\n",
       " '21.581337497383593, 37.380046343689955',\n",
       " '25.66739393839206, 41.68977778296281',\n",
       " '25.30764253725807, 37.14236807370439',\n",
       " '19.834071222595618, 36.32311848725025',\n",
       " '27.150129600901813, 44.35514240580671',\n",
       " '24.472548361435507, 40.710430933252844',\n",
       " '27.3435177435667, 39.726710263117944',\n",
       " '24.36424406634213, 42.846194242907536',\n",
       " '18.006862753535323, 43.074969977666434',\n",
       " '21.889872684056076, 36.90409914361878',\n",
       " '18.233720908629987, 35.969308142288234',\n",
       " '29.149183395175406, 39.310511824063774',\n",
       " '28.54466253387821, 39.23578623019921',\n",
       " '27.97998635233415, 39.67024668036675',\n",
       " '21.690169504831935, 42.290758494598506',\n",
       " '18.69510199793025, 41.73364547293301',\n",
       " '28.536115190448484, 44.84165211365966',\n",
       " '29.36339334357593, 35.98417871151959',\n",
       " '19.027841424814547, 39.02621282102269',\n",
       " '23.831885559799368, 38.39302605394963',\n",
       " '18.830550221620605, 43.61672536352791',\n",
       " '27.12722598308678, 37.48656333920286',\n",
       " '27.190013151683853, 36.90208908440812',\n",
       " '19.540697573997154, 39.48613547833132',\n",
       " '23.703388537184775, 39.21881639834404',\n",
       " '24.597643121939328, 37.785451446669406',\n",
       " '21.18067954728071, 37.49806447882101',\n",
       " '28.46919649302309, 44.23265599276013',\n",
       " '23.077655282410642, 39.43130745053457',\n",
       " '20.541578465304983, 43.613491047618304',\n",
       " '24.4715530653535, 40.50325312449848',\n",
       " '26.759172829079716, 35.505883295248815',\n",
       " '20.41381276067635, 44.992824684127264',\n",
       " '21.74059549561074, 43.36027585079952']"
      ]
     },
     "execution_count": 196,
     "metadata": {},
     "output_type": "execute_result"
    }
   ],
   "source": [
    "text_path = \"./data/pikachu.txt\"\n",
    "\n",
    "with open(text_path, \"r\") as file:\n",
    "    # Load the relevant lines into a string and format it to be worked with more easily\n",
    "    pikachus_raw = [line.replace('(','').replace(')','').strip(\"\\n\") for line in file.readlines()[1:]]\n",
    "\n",
    "pikachus_raw"
   ]
  },
  {
   "cell_type": "markdown",
   "metadata": {},
   "source": [
    "### Pichu data"
   ]
  },
  {
   "cell_type": "code",
   "execution_count": 197,
   "metadata": {},
   "outputs": [
    {
     "data": {
      "text/plain": [
       "['20.11541438766307, 28.701809671168824',\n",
       " '15.200086041781336, 27.095070307714877',\n",
       " '17.200234546952956, 27.669778220491132',\n",
       " '16.785685905190583, 34.36654587712494',\n",
       " '20.8917697133121, 31.480353852465935',\n",
       " '20.41359589938329, 31.091310056669883',\n",
       " '22.137436541638763, 26.71138648198097',\n",
       " '15.695510661035328, 32.291267979503495',\n",
       " '18.375374557482164, 26.634024937619284',\n",
       " '15.238377755504562, 28.794554417576478',\n",
       " '16.749103798428827, 34.895233506365955',\n",
       " '19.042842304826898, 31.399997598540928',\n",
       " '15.212287757470909, 30.569497437746463',\n",
       " '16.59070120549319, 31.846142509898748',\n",
       " '20.199075502236184, 33.4285192018981',\n",
       " '19.35953184482573, 32.75999911546245',\n",
       " '16.763524976325574, 27.290480719641042',\n",
       " '19.71412547100727, 25.321002439040377',\n",
       " '21.475443653422612, 28.154530480590818',\n",
       " '15.051990077424488, 27.67740875975703',\n",
       " '21.446554014662464, 27.109828435863264',\n",
       " '20.585115159905815, 34.429097143350546',\n",
       " '17.722004132143937, 33.76367626472669',\n",
       " '16.24383599849425, 28.14677880798478',\n",
       " '22.65770457765425, 31.5543866529488',\n",
       " '17.692756360901015, 28.95631901060664',\n",
       " '15.741966747041182, 34.14547589740543',\n",
       " '15.773731014667712, 29.588518525873987',\n",
       " '21.779954930779677, 27.648801664980525',\n",
       " '19.82980825093513, 27.466275076939834',\n",
       " '21.45702618619504, 30.61368134163151',\n",
       " '20.837854293550542, 27.627416085229353',\n",
       " '19.289824731637605, 30.845859902235404',\n",
       " '22.784926111834963, 33.97822883602477',\n",
       " '18.02827501766683, 28.994005051403974',\n",
       " '19.416325050185815, 27.193207591572833',\n",
       " '21.63523731402396, 34.97537606495111',\n",
       " '19.94815801891397, 30.095262936764644',\n",
       " '21.89365520248622, 25.90909412173794',\n",
       " '19.618817162054096, 25.471163754247346',\n",
       " '20.63657468971939, 26.096491303506593',\n",
       " '15.366595069245298, 31.2744604170309',\n",
       " '16.823186205212373, 32.920793643629644',\n",
       " '17.315103708816856, 29.22159966799684',\n",
       " '15.63833581538902, 25.63527706151957',\n",
       " '16.862327090888243, 28.816192865065368',\n",
       " '15.808011435277834, 34.96121380240097',\n",
       " '17.223788824880735, 30.29114345099137',\n",
       " '20.085475554115202, 34.71078377613618',\n",
       " '17.918657431760675, 33.60779702234498']"
      ]
     },
     "execution_count": 197,
     "metadata": {},
     "output_type": "execute_result"
    }
   ],
   "source": [
    "text_path = \"./data/pichu.txt\"\n",
    "\n",
    "with open(text_path, \"r\") as file:\n",
    "    pichus_raw = [line.replace('(','').replace(')','').strip(\"\\n\") for line in file.readlines()[1:]]\n",
    "\n",
    "pichus_raw"
   ]
  },
  {
   "cell_type": "code",
   "execution_count": 198,
   "metadata": {},
   "outputs": [
    {
     "name": "stdout",
     "output_type": "stream",
     "text": [
      "18.14 44.95\n",
      "26.65 41.5\n",
      "26.18 39.38\n",
      "24.44 40.18\n",
      "21.2 36.21\n",
      "25.69 37.25\n",
      "19.34 38.38\n",
      "23.22 40.88\n",
      "23.44 37.3\n",
      "29.45 37.2\n",
      "28.51 35.71\n",
      "21.16 41.31\n",
      "24.01 37.29\n",
      "20.14 44.05\n",
      "28.95 43.6\n",
      "28.45 35.71\n",
      "21.58 37.38\n",
      "25.67 41.69\n",
      "25.31 37.14\n",
      "19.83 36.32\n",
      "27.15 44.36\n",
      "24.47 40.71\n",
      "27.34 39.73\n",
      "24.36 42.85\n",
      "18.01 43.07\n",
      "21.89 36.9\n",
      "18.23 35.97\n",
      "29.15 39.31\n",
      "28.54 39.24\n",
      "27.98 39.67\n",
      "21.69 42.29\n",
      "18.7 41.73\n",
      "28.54 44.84\n",
      "29.36 35.98\n",
      "19.03 39.03\n",
      "23.83 38.39\n",
      "18.83 43.62\n",
      "27.13 37.49\n",
      "27.19 36.9\n",
      "19.54 39.49\n",
      "23.7 39.22\n",
      "24.6 37.79\n",
      "21.18 37.5\n",
      "28.47 44.23\n",
      "23.08 39.43\n",
      "20.54 43.61\n",
      "24.47 40.5\n",
      "26.76 35.51\n",
      "20.41 44.99\n",
      "21.74 43.36\n"
     ]
    }
   ],
   "source": [
    "# Make data into Pokemon objects with width and height as 2 decimal float (more decimals seemed excessive)\n",
    "pikachus = [Pokemon(np.round(float(p.split(\", \")[0]), 2), np.round(float(p.split(\", \")[1]), 2), \"Pichu\") for p in pikachus_raw]\n",
    "\n",
    "for p in pikachus:\n",
    "    print(p.width, p.height)"
   ]
  },
  {
   "cell_type": "code",
   "execution_count": 199,
   "metadata": {},
   "outputs": [
    {
     "name": "stdout",
     "output_type": "stream",
     "text": [
      "20.12 28.7\n",
      "15.2 27.1\n",
      "17.2 27.67\n",
      "16.79 34.37\n",
      "20.89 31.48\n",
      "20.41 31.09\n",
      "22.14 26.71\n",
      "15.7 32.29\n",
      "18.38 26.63\n",
      "15.24 28.79\n",
      "16.75 34.9\n",
      "19.04 31.4\n",
      "15.21 30.57\n",
      "16.59 31.85\n",
      "20.2 33.43\n",
      "19.36 32.76\n",
      "16.76 27.29\n",
      "19.71 25.32\n",
      "21.48 28.15\n",
      "15.05 27.68\n",
      "21.45 27.11\n",
      "20.59 34.43\n",
      "17.72 33.76\n",
      "16.24 28.15\n",
      "22.66 31.55\n",
      "17.69 28.96\n",
      "15.74 34.15\n",
      "15.77 29.59\n",
      "21.78 27.65\n",
      "19.83 27.47\n",
      "21.46 30.61\n",
      "20.84 27.63\n",
      "19.29 30.85\n",
      "22.78 33.98\n",
      "18.03 28.99\n",
      "19.42 27.19\n",
      "21.64 34.98\n",
      "19.95 30.1\n",
      "21.89 25.91\n",
      "19.62 25.47\n",
      "20.64 26.1\n",
      "15.37 31.27\n",
      "16.82 32.92\n",
      "17.32 29.22\n",
      "15.64 25.64\n",
      "16.86 28.82\n",
      "15.81 34.96\n",
      "17.22 30.29\n",
      "20.09 34.71\n",
      "17.92 33.61\n"
     ]
    }
   ],
   "source": [
    "pichus = [Pokemon(np.round(float(p.split(\", \")[0]), 2), np.round(float(p.split(\", \")[1]), 2), \"Pichu\") for p in pichus_raw]\n",
    "\n",
    "for p in pichus:\n",
    "    print(p.width, p.height)"
   ]
  },
  {
   "cell_type": "markdown",
   "metadata": {},
   "source": [
    "## Plot data"
   ]
  },
  {
   "cell_type": "code",
   "execution_count": 200,
   "metadata": {},
   "outputs": [
    {
     "data": {
      "text/plain": [
       "Text(0, 0.5, 'Height')"
      ]
     },
     "execution_count": 200,
     "metadata": {},
     "output_type": "execute_result"
    },
    {
     "data": {
      "image/png": "[encoded data removed]",
      "text/plain": [
       "<Figure size 640x480 with 1 Axes>"
      ]
     },
     "metadata": {},
     "output_type": "display_data"
    }
   ],
   "source": [
    "import matplotlib.pyplot as plt\n",
    "\n",
    "plt.scatter([p.width for p in pikachus], [p.height for p in pikachus], label=\"Pikachu\")\n",
    "plt.scatter([p.width for p in pichus], [p.height for p in pichus], label=\"Pichu\")\n",
    "plt.xlabel(\"Width\")\n",
    "plt.ylabel(\"Height\")"
   ]
  },
  {
   "cell_type": "markdown",
   "metadata": {},
   "source": [
    "### Read test point data from file"
   ]
  },
  {
   "cell_type": "code",
   "execution_count": 201,
   "metadata": {},
   "outputs": [
    {
     "data": {
      "text/plain": [
       "['25,35', '15,14', '26,30', '22,45']"
      ]
     },
     "execution_count": 201,
     "metadata": {},
     "output_type": "execute_result"
    }
   ],
   "source": [
    "text_path = \"./data/test_points.txt\"\n",
    "\n",
    "with open(text_path, \"r\") as file:\n",
    "    # Clean up the data as much as possible on read\n",
    "    test_points = file.read().replace('(','').replace(', ', ',', 1).replace(')', '').split(', ')\n",
    "test_points"
   ]
  },
  {
   "cell_type": "code",
   "execution_count": 202,
   "metadata": {},
   "outputs": [
    {
     "name": "stdout",
     "output_type": "stream",
     "text": [
      "25 35\n",
      "15 14\n",
      "26 30\n",
      "22 45\n"
     ]
    }
   ],
   "source": [
    "\n",
    "test_pokes = [Pokemon(int(float(t.split(\",\")[0])), int(float(t.split(\",\")[1])), \"Unknown\") for t in test_points]\n",
    "\n",
    "for p in test_pokes:\n",
    "    print(p.width, p.height)"
   ]
  },
  {
   "cell_type": "markdown",
   "metadata": {},
   "source": [
    "### Classify test data as Pichu or Pikachu"
   ]
  },
  {
   "cell_type": "code",
   "execution_count": 203,
   "metadata": {},
   "outputs": [
    {
     "name": "stdout",
     "output_type": "stream",
     "text": [
      "Sample with (width, height): (25, 35) classified as Pikachu\n",
      "Sample with (width, height): (15, 14) classified as Pichu\n",
      "Sample with (width, height): (26, 30) classified as Pichu\n",
      "Sample with (width, height): (22, 45) classified as Pikachu\n"
     ]
    }
   ],
   "source": [
    "for test_p in test_pokes:\n",
    "    pikachu_distances = [EuclidPoke(test_p, p) for p in pikachus]\n",
    "    pichu_distances = [EuclidPoke(test_p, p) for p in pichus]\n",
    "    if min(pichu_distances) < min(pikachu_distances):\n",
    "        test_p.name = \"Pichu\"\n",
    "    elif min(pichu_distances) > min(pikachu_distances):\n",
    "        test_p.name = \"Pikachu\"\n",
    "    else:\n",
    "        print(\"Cannot classify\")\n",
    "    if test_p.name == \"Pikachu\" or test_p.name == \"Pichu\":\n",
    "        print(f\"Sample with (width, height): ({test_p.width}, {test_p.height}) classified as {test_p.name}\")\n",
    "    "
   ]
  },
  {
   "cell_type": "markdown",
   "metadata": {},
   "source": [
    "### 1. Classify user input data with error handling"
   ]
  },
  {
   "cell_type": "code",
   "execution_count": 204,
   "metadata": {},
   "outputs": [
    {
     "name": "stdout",
     "output_type": "stream",
     "text": [
      "Sample with (width, height): (15, 25) classified as Pichu\n"
     ]
    }
   ],
   "source": [
    "while True:\n",
    "    width_input = input(\"Please enter the Pokémon's width: \")\n",
    "    height_input = input(\"Please enter the Pokémon's height: \")\n",
    "    try:\n",
    "        #Check that both values are numbers\n",
    "        if CheckInput(width_input) and CheckInput(height_input):\n",
    "            width = int(width_input)\n",
    "            height = int(height_input)\n",
    "        else:\n",
    "            raise ValueError(f\"Both width({width_input}) and height({height_input}) need to be numbers\")\n",
    "        # Check if both values are positive\n",
    "        if width <= 0 or height <= 0:\n",
    "            raise ValueError(f\"Both width({width}) and height({height}) need to be larger than 0\")\n",
    "        input_p = Pokemon(width, height, \"Unknown\")\n",
    "        break\n",
    "    except ValueError as err:\n",
    "        print(err)\n",
    "\n",
    "pikachu_distances = [EuclidPoke(input_p, p) for p in pikachus]\n",
    "pichu_distances = [EuclidPoke(input_p, p) for p in pichus]\n",
    "if min(pichu_distances) < min(pikachu_distances):\n",
    "    input_p.name = \"Pichu\"\n",
    "elif min(pichu_distances) > min(pikachu_distances):\n",
    "    input_p.name = \"Pikachu\"\n",
    "else:\n",
    "    print(\"Cannot classify\")\n",
    "if input_p.name == \"Pikachu\" or input_p.name == \"Pichu\":\n",
    "    print(f\"Sample with (width, height): ({input_p.width}, {input_p.height}) classified as {input_p.name}\")"
   ]
  },
  {
   "cell_type": "markdown",
   "metadata": {},
   "source": [
    "### 2. Checking 5 closest points"
   ]
  },
  {
   "cell_type": "code",
   "execution_count": 205,
   "metadata": {},
   "outputs": [
    {
     "name": "stdout",
     "output_type": "stream",
     "text": [
      "Sample with (width, height): (15, 25) classified as Pichu\n"
     ]
    }
   ],
   "source": [
    "while True:\n",
    "    width_input = input(\"Please enter the Pokémon's width: \")\n",
    "    height_input = input(\"Please enter the Pokémon's height: \")\n",
    "    try:\n",
    "        #Check that both values are numbers\n",
    "        if CheckInput(width_input) and CheckInput(height_input):\n",
    "            width = int(width_input)\n",
    "            height = int(height_input)\n",
    "        else:\n",
    "            raise ValueError(f\"Both width({width_input}) and height({height_input}) need to be numbers\")\n",
    "        # Check if both values are positive\n",
    "        if width <= 0 or height <= 0:\n",
    "            raise ValueError(f\"Both width({width}) and height({height}) need to be larger than 0\")\n",
    "        input_p = Pokemon(width, height, \"Unknown\")\n",
    "        break\n",
    "    except ValueError as err:\n",
    "        print(err)\n",
    "\n",
    "pikachu_distances = [EuclidPoke(input_p, p) for p in pikachus]\n",
    "pichu_distances = [EuclidPoke(input_p, p) for p in pichus]\n",
    "pikachu_count = 0\n",
    "pichu_count = 0\n",
    "for i in range(5):\n",
    "    if min(pichu_distances) < min(pikachu_distances):\n",
    "        pichu_distances.remove(min(pichu_distances))\n",
    "        pichu_count += 1\n",
    "    elif min(pichu_distances) > min(pikachu_distances):\n",
    "        pikachu_distances.remove(min(pikachu_distances))\n",
    "        pikachu_count += 1\n",
    "    else:\n",
    "        pikachu_distances.remove(min(pikachu_distances))\n",
    "        pichu_distances.remove(min(pichu_distances))\n",
    "if pichu_count > pikachu_count:\n",
    "    input_p.name = \"Pichu\"\n",
    "elif pichu_count < pikachu_count:\n",
    "    input_p.name = \"Pikachu\"\n",
    "else:\n",
    "    print(\"Cannot classify\")\n",
    "if input_p.name == \"Pikachu\" or input_p.name == \"Pichu\":\n",
    "    print(f\"Sample with (width, height): ({input_p.width}, {input_p.height}) classified as {input_p.name}\")"
   ]
  },
  {
   "cell_type": "code",
   "execution_count": 206,
   "metadata": {},
   "outputs": [
    {
     "data": {
      "text/plain": [
       "(50, 50)"
      ]
     },
     "execution_count": 206,
     "metadata": {},
     "output_type": "execute_result"
    }
   ],
   "source": [
    "len(pichus), len(pikachus)"
   ]
  },
  {
   "cell_type": "markdown",
   "metadata": {},
   "source": [
    "## 3. Randomly sort data"
   ]
  },
  {
   "cell_type": "code",
   "execution_count": 239,
   "metadata": {},
   "outputs": [
    {
     "data": {
      "text/plain": [
       "(45, 5, 45, 5)"
      ]
     },
     "execution_count": 239,
     "metadata": {},
     "output_type": "execute_result"
    }
   ],
   "source": [
    "# Copy lists so that they don't affect the originals\n",
    "random_pikachus = pikachus.copy()\n",
    "random_pichus = pichus.copy()\n",
    "\n",
    "seed = np.random.choice(len(pikachus), size=5, replace=False)\n",
    "test_pikachus = [pikachus[n] for n in seed]\n",
    "for p in test_pikachus:\n",
    "    random_pikachus.remove(p)\n",
    "\n",
    "seed = np.random.choice(len(pichus), size=5, replace=False)\n",
    "test_pichus = [pichus[n] for n in seed]\n",
    "for p in test_pichus:\n",
    "    random_pichus.remove(p)\n",
    "\n",
    "len(random_pichus), len(test_pichus), len(random_pikachus), len(test_pikachus)"
   ]
  },
  {
   "cell_type": "code",
   "execution_count": 240,
   "metadata": {},
   "outputs": [
    {
     "name": "stdout",
     "output_type": "stream",
     "text": [
      "Sample with (width, height): (19.42, 27.19) classified as Pichu 5, 0\n",
      "Sample with (width, height): (22.14, 26.71) classified as Pichu 5, 0\n",
      "Sample with (width, height): (15.74, 34.15) classified as Pichu 5, 0\n",
      "Sample with (width, height): (16.82, 32.92) classified as Pichu 5, 0\n",
      "Sample with (width, height): (20.41, 31.09) classified as Pichu 5, 0\n"
     ]
    }
   ],
   "source": [
    "for test_p in test_pichus:\n",
    "    pikachu_distances = [EuclidPoke(test_p, p) for p in random_pikachus]\n",
    "    pichu_distances = [EuclidPoke(test_p, p) for p in random_pichus]\n",
    "    pikachu_count = 0\n",
    "    pichu_count = 0\n",
    "    for i in range(5):\n",
    "        if min(pichu_distances) < min(pikachu_distances):\n",
    "            pichu_distances.remove(min(pichu_distances))\n",
    "            pichu_count += 1\n",
    "        elif min(pichu_distances) > min(pikachu_distances):\n",
    "            pikachu_distances.remove(min(pikachu_distances))\n",
    "            pikachu_count += 1\n",
    "        else:\n",
    "            pikachu_distances.remove(min(pikachu_distances))\n",
    "            pichu_distances.remove(min(pichu_distances))\n",
    "    if pichu_count > pikachu_count:\n",
    "        test_p.name = \"Pichu\"\n",
    "    elif pichu_count < pikachu_count:\n",
    "        test_p.name = \"Pikachu\"\n",
    "    else:\n",
    "        print(\"Cannot classify\")\n",
    "    if test_p.name == \"Pikachu\" or test_p.name == \"Pichu\":\n",
    "        print(f\"Sample with (width, height): ({test_p.width}, {test_p.height}) classified as {test_p.name} {pichu_count}, {pikachu_count}\")\n"
   ]
  },
  {
   "cell_type": "code",
   "execution_count": null,
   "metadata": {},
   "outputs": [],
   "source": []
  }
 ],
 "metadata": {
  "kernelspec": {
   "display_name": "venv",
   "language": "python",
   "name": "python3"
  },
  "language_info": {
   "codemirror_mode": {
    "name": "ipython",
    "version": 3
   },
   "file_extension": ".py",
   "mimetype": "text/x-python",
   "name": "python",
   "nbconvert_exporter": "python",
   "pygments_lexer": "ipython3",
   "version": "3.11.7"
  }
 },
 "nbformat": 4,
 "nbformat_minor": 2
}
