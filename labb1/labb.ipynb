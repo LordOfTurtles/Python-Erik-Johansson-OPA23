{
 "cells": [
  {
   "cell_type": "code",
   "execution_count": 1,
   "metadata": {},
   "outputs": [],
   "source": [
    "class Pokemon:\n",
    "    def __init__(self, width, height, name):\n",
    "        # print(\"Dunder init running\")\n",
    "        self.width = width\n",
    "        self.height = height\n",
    "        self.name = name"
   ]
  },
  {
   "cell_type": "code",
   "execution_count": 2,
   "metadata": {},
   "outputs": [
    {
     "data": {
      "text/plain": [
       "['18.137772263313835, 44.951493566608946',\n",
       " '26.648661832322336, 41.49878057639454',\n",
       " '26.180524428318897, 39.38100083914504',\n",
       " '24.44364396490554, 40.175758410355904',\n",
       " '21.201902279430513, 36.21004195868266',\n",
       " '25.691541582957697, 37.24697337031557',\n",
       " '19.338626083150515, 38.38085562147455',\n",
       " '23.21718300802926, 40.88308718457233',\n",
       " '23.444684475950478, 37.30114732596577',\n",
       " '29.445791130252964, 37.20217384451559',\n",
       " '28.51023528453833, 35.709930860090324',\n",
       " '21.16066860901309, 41.31102957270099',\n",
       " '24.00703335660358, 37.28941783811155',\n",
       " '20.143822566361578, 44.054200130061275',\n",
       " '28.951534072137846, 43.59635400253747',\n",
       " '28.4462228380412, 35.70857349888654',\n",
       " '21.581337497383593, 37.380046343689955',\n",
       " '25.66739393839206, 41.68977778296281',\n",
       " '25.30764253725807, 37.14236807370439',\n",
       " '19.834071222595618, 36.32311848725025',\n",
       " '27.150129600901813, 44.35514240580671',\n",
       " '24.472548361435507, 40.710430933252844',\n",
       " '27.3435177435667, 39.726710263117944',\n",
       " '24.36424406634213, 42.846194242907536',\n",
       " '18.006862753535323, 43.074969977666434',\n",
       " '21.889872684056076, 36.90409914361878',\n",
       " '18.233720908629987, 35.969308142288234',\n",
       " '29.149183395175406, 39.310511824063774',\n",
       " '28.54466253387821, 39.23578623019921',\n",
       " '27.97998635233415, 39.67024668036675',\n",
       " '21.690169504831935, 42.290758494598506',\n",
       " '18.69510199793025, 41.73364547293301',\n",
       " '28.536115190448484, 44.84165211365966',\n",
       " '29.36339334357593, 35.98417871151959',\n",
       " '19.027841424814547, 39.02621282102269',\n",
       " '23.831885559799368, 38.39302605394963',\n",
       " '18.830550221620605, 43.61672536352791',\n",
       " '27.12722598308678, 37.48656333920286',\n",
       " '27.190013151683853, 36.90208908440812',\n",
       " '19.540697573997154, 39.48613547833132',\n",
       " '23.703388537184775, 39.21881639834404',\n",
       " '24.597643121939328, 37.785451446669406',\n",
       " '21.18067954728071, 37.49806447882101',\n",
       " '28.46919649302309, 44.23265599276013',\n",
       " '23.077655282410642, 39.43130745053457',\n",
       " '20.541578465304983, 43.613491047618304',\n",
       " '24.4715530653535, 40.50325312449848',\n",
       " '26.759172829079716, 35.505883295248815',\n",
       " '20.41381276067635, 44.992824684127264',\n",
       " '21.74059549561074, 43.36027585079952']"
      ]
     },
     "execution_count": 2,
     "metadata": {},
     "output_type": "execute_result"
    }
   ],
   "source": [
    "text_path = \"./data/pikachu.txt\"\n",
    "\n",
    "with open(text_path, \"r\") as file:\n",
    "    pikachus = [pikachu.replace('(','').replace(')','').strip(\"\\n\") for pikachu in file.readlines()[1:]]\n",
    "    #raw_text = file.read().split(\"\\n\", 1)[1]\n",
    "\n",
    "pikachus\n",
    "#print(raw_text)"
   ]
  },
  {
   "cell_type": "code",
   "execution_count": 3,
   "metadata": {},
   "outputs": [
    {
     "data": {
      "text/plain": [
       "['20.11541438766307, 28.701809671168824',\n",
       " '15.200086041781336, 27.095070307714877',\n",
       " '17.200234546952956, 27.669778220491132',\n",
       " '16.785685905190583, 34.36654587712494',\n",
       " '20.8917697133121, 31.480353852465935',\n",
       " '20.41359589938329, 31.091310056669883',\n",
       " '22.137436541638763, 26.71138648198097',\n",
       " '15.695510661035328, 32.291267979503495',\n",
       " '18.375374557482164, 26.634024937619284',\n",
       " '15.238377755504562, 28.794554417576478',\n",
       " '16.749103798428827, 34.895233506365955',\n",
       " '19.042842304826898, 31.399997598540928',\n",
       " '15.212287757470909, 30.569497437746463',\n",
       " '16.59070120549319, 31.846142509898748',\n",
       " '20.199075502236184, 33.4285192018981',\n",
       " '19.35953184482573, 32.75999911546245',\n",
       " '16.763524976325574, 27.290480719641042',\n",
       " '19.71412547100727, 25.321002439040377',\n",
       " '21.475443653422612, 28.154530480590818',\n",
       " '15.051990077424488, 27.67740875975703',\n",
       " '21.446554014662464, 27.109828435863264',\n",
       " '20.585115159905815, 34.429097143350546',\n",
       " '17.722004132143937, 33.76367626472669',\n",
       " '16.24383599849425, 28.14677880798478',\n",
       " '22.65770457765425, 31.5543866529488',\n",
       " '17.692756360901015, 28.95631901060664',\n",
       " '15.741966747041182, 34.14547589740543',\n",
       " '15.773731014667712, 29.588518525873987',\n",
       " '21.779954930779677, 27.648801664980525',\n",
       " '19.82980825093513, 27.466275076939834',\n",
       " '21.45702618619504, 30.61368134163151',\n",
       " '20.837854293550542, 27.627416085229353',\n",
       " '19.289824731637605, 30.845859902235404',\n",
       " '22.784926111834963, 33.97822883602477',\n",
       " '18.02827501766683, 28.994005051403974',\n",
       " '19.416325050185815, 27.193207591572833',\n",
       " '21.63523731402396, 34.97537606495111',\n",
       " '19.94815801891397, 30.095262936764644',\n",
       " '21.89365520248622, 25.90909412173794',\n",
       " '19.618817162054096, 25.471163754247346',\n",
       " '20.63657468971939, 26.096491303506593',\n",
       " '15.366595069245298, 31.2744604170309',\n",
       " '16.823186205212373, 32.920793643629644',\n",
       " '17.315103708816856, 29.22159966799684',\n",
       " '15.63833581538902, 25.63527706151957',\n",
       " '16.862327090888243, 28.816192865065368',\n",
       " '15.808011435277834, 34.96121380240097',\n",
       " '17.223788824880735, 30.29114345099137',\n",
       " '20.085475554115202, 34.71078377613618',\n",
       " '17.918657431760675, 33.60779702234498']"
      ]
     },
     "execution_count": 3,
     "metadata": {},
     "output_type": "execute_result"
    }
   ],
   "source": [
    "text_path = \"./data/pichu.txt\"\n",
    "\n",
    "with open(text_path, \"r\") as file:\n",
    "    pichus = [pichu.replace('(','').replace(')','').strip(\"\\n\") for pichu in file.readlines()[1:]]\n",
    "    #raw_text = file.read().split(\"\\n\", 1)[1]\n",
    "\n",
    "pichus\n",
    "#print(raw_text)"
   ]
  },
  {
   "cell_type": "code",
   "execution_count": 4,
   "metadata": {},
   "outputs": [
    {
     "data": {
      "text/plain": [
       "[18,\n",
       " 26,\n",
       " 26,\n",
       " 24,\n",
       " 21,\n",
       " 25,\n",
       " 19,\n",
       " 23,\n",
       " 23,\n",
       " 29,\n",
       " 28,\n",
       " 21,\n",
       " 24,\n",
       " 20,\n",
       " 28,\n",
       " 28,\n",
       " 21,\n",
       " 25,\n",
       " 25,\n",
       " 19,\n",
       " 27,\n",
       " 24,\n",
       " 27,\n",
       " 24,\n",
       " 18,\n",
       " 21,\n",
       " 18,\n",
       " 29,\n",
       " 28,\n",
       " 27,\n",
       " 21,\n",
       " 18,\n",
       " 28,\n",
       " 29,\n",
       " 19,\n",
       " 23,\n",
       " 18,\n",
       " 27,\n",
       " 27,\n",
       " 19,\n",
       " 23,\n",
       " 24,\n",
       " 21,\n",
       " 28,\n",
       " 23,\n",
       " 20,\n",
       " 24,\n",
       " 26,\n",
       " 20,\n",
       " 21]"
      ]
     },
     "execution_count": 4,
     "metadata": {},
     "output_type": "execute_result"
    }
   ],
   "source": [
    "pikachu_widths = []\n",
    "\n",
    "pikachu_heights = []\n",
    "\n",
    "for p in pikachus:\n",
    "    p = p.split(\", \")\n",
    "    pikachu_widths.append(int(float(p[0])))\n",
    "    pikachu_heights.append(int(float(p[1])))\n",
    "\n",
    "pikachu_widths"
   ]
  },
  {
   "cell_type": "code",
   "execution_count": 5,
   "metadata": {},
   "outputs": [
    {
     "data": {
      "text/plain": [
       "[20,\n",
       " 15,\n",
       " 17,\n",
       " 16,\n",
       " 20,\n",
       " 20,\n",
       " 22,\n",
       " 15,\n",
       " 18,\n",
       " 15,\n",
       " 16,\n",
       " 19,\n",
       " 15,\n",
       " 16,\n",
       " 20,\n",
       " 19,\n",
       " 16,\n",
       " 19,\n",
       " 21,\n",
       " 15,\n",
       " 21,\n",
       " 20,\n",
       " 17,\n",
       " 16,\n",
       " 22,\n",
       " 17,\n",
       " 15,\n",
       " 15,\n",
       " 21,\n",
       " 19,\n",
       " 21,\n",
       " 20,\n",
       " 19,\n",
       " 22,\n",
       " 18,\n",
       " 19,\n",
       " 21,\n",
       " 19,\n",
       " 21,\n",
       " 19,\n",
       " 20,\n",
       " 15,\n",
       " 16,\n",
       " 17,\n",
       " 15,\n",
       " 16,\n",
       " 15,\n",
       " 17,\n",
       " 20,\n",
       " 17]"
      ]
     },
     "execution_count": 5,
     "metadata": {},
     "output_type": "execute_result"
    }
   ],
   "source": [
    "pichu_widths = []\n",
    "\n",
    "pichu_heights = []\n",
    "\n",
    "for p in pichus:\n",
    "    p = p.split(\", \")\n",
    "    pichu_widths.append(int(float(p[0])))\n",
    "    pichu_heights.append(int(float(p[1])))\n",
    "\n",
    "pichu_widths"
   ]
  },
  {
   "cell_type": "code",
   "execution_count": 20,
   "metadata": {},
   "outputs": [
    {
     "data": {
      "text/plain": [
       "([<matplotlib.axis.YTick at 0x17bf77ed950>,\n",
       "  <matplotlib.axis.YTick at 0x17bf7942d50>,\n",
       "  <matplotlib.axis.YTick at 0x17bf794f150>,\n",
       "  <matplotlib.axis.YTick at 0x17bf797d250>,\n",
       "  <matplotlib.axis.YTick at 0x17bf797f3d0>,\n",
       "  <matplotlib.axis.YTick at 0x17bf7976ad0>,\n",
       "  <matplotlib.axis.YTick at 0x17bf7985ed0>],\n",
       " [Text(0, 20, '20'),\n",
       "  Text(0, 25, '25'),\n",
       "  Text(0, 30, '30'),\n",
       "  Text(0, 35, '35'),\n",
       "  Text(0, 40, '40'),\n",
       "  Text(0, 45, '45'),\n",
       "  Text(0, 50, '50')])"
      ]
     },
     "execution_count": 20,
     "metadata": {},
     "output_type": "execute_result"
    },
    {
     "data": {
      "image/png": "[encoded data removed]",
      "text/plain": [
       "<Figure size 640x480 with 1 Axes>"
      ]
     },
     "metadata": {},
     "output_type": "display_data"
    }
   ],
   "source": [
    "import matplotlib.pyplot as plt\n",
    "\n",
    "plt.scatter(pikachu_widths, pikachu_heights, label=\"Pikachu\")\n",
    "plt.scatter(pichu_widths, pichu_heights, label=\"Pichu\")\n",
    "plt.xlabel(\"Width\")\n",
    "plt.ylabel(\"Height\")\n",
    "plt.xticks(range(15, 31, 5))\n",
    "plt.yticks(range(20, 51, 5))"
   ]
  },
  {
   "cell_type": "code",
   "execution_count": 7,
   "metadata": {},
   "outputs": [
    {
     "ename": "NameError",
     "evalue": "name 'raw_text' is not defined",
     "output_type": "error",
     "traceback": [
      "\u001b[1;31m---------------------------------------------------------------------------\u001b[0m",
      "\u001b[1;31mNameError\u001b[0m                                 Traceback (most recent call last)",
      "Cell \u001b[1;32mIn[7], line 3\u001b[0m\n\u001b[0;32m      1\u001b[0m \u001b[38;5;28;01mimport\u001b[39;00m \u001b[38;5;21;01mre\u001b[39;00m\n\u001b[1;32m----> 3\u001b[0m cleaned_text \u001b[38;5;241m=\u001b[39m re\u001b[38;5;241m.\u001b[39msub(\u001b[38;5;124mr\u001b[39m\u001b[38;5;124m\"\u001b[39m\u001b[38;5;124m[, ]\u001b[39m\u001b[38;5;124m{\u001b[39m\u001b[38;5;124m2,}\u001b[39m\u001b[38;5;124m\"\u001b[39m, \u001b[38;5;124m\"\u001b[39m\u001b[38;5;124m \u001b[39m\u001b[38;5;124m\"\u001b[39m, \u001b[43mraw_text\u001b[49m)\u001b[38;5;241m.\u001b[39mreplace(\u001b[38;5;124m'\u001b[39m\u001b[38;5;124m(\u001b[39m\u001b[38;5;124m'\u001b[39m,\u001b[38;5;124m'\u001b[39m\u001b[38;5;124m'\u001b[39m)\u001b[38;5;241m.\u001b[39mreplace(\u001b[38;5;124m'\u001b[39m\u001b[38;5;124m)\u001b[39m\u001b[38;5;124m'\u001b[39m,\u001b[38;5;124m'\u001b[39m\u001b[38;5;124m'\u001b[39m)\n\u001b[0;32m      4\u001b[0m \u001b[38;5;28mprint\u001b[39m(cleaned_text)\n",
      "\u001b[1;31mNameError\u001b[0m: name 'raw_text' is not defined"
     ]
    }
   ],
   "source": [
    "import re\n",
    "\n",
    "cleaned_text = re.sub(r\"[, ]{2,}\", \" \", raw_text).replace('(','').replace(')','')\n",
    "print(cleaned_text)"
   ]
  },
  {
   "cell_type": "code",
   "execution_count": null,
   "metadata": {},
   "outputs": [
    {
     "name": "stdout",
     "output_type": "stream",
     "text": [
      "width: 18, height: 44\n",
      "width: 26, height: 41\n",
      "width: 26, height: 39\n",
      "width: 24, height: 40\n",
      "width: 21, height: 36\n",
      "width: 25, height: 37\n",
      "width: 19, height: 38\n",
      "width: 23, height: 40\n",
      "width: 23, height: 37\n",
      "width: 29, height: 37\n",
      "width: 28, height: 35\n",
      "width: 21, height: 41\n",
      "width: 24, height: 37\n",
      "width: 20, height: 44\n",
      "width: 28, height: 43\n",
      "width: 28, height: 35\n",
      "width: 21, height: 37\n",
      "width: 25, height: 41\n",
      "width: 25, height: 37\n",
      "width: 19, height: 36\n",
      "width: 27, height: 44\n",
      "width: 24, height: 40\n",
      "width: 27, height: 39\n",
      "width: 24, height: 42\n",
      "width: 18, height: 43\n",
      "width: 21, height: 36\n",
      "width: 18, height: 35\n",
      "width: 29, height: 39\n",
      "width: 28, height: 39\n",
      "width: 27, height: 39\n",
      "width: 21, height: 42\n",
      "width: 18, height: 41\n",
      "width: 28, height: 44\n",
      "width: 29, height: 35\n",
      "width: 19, height: 39\n",
      "width: 23, height: 38\n",
      "width: 18, height: 43\n",
      "width: 27, height: 37\n",
      "width: 27, height: 36\n",
      "width: 19, height: 39\n",
      "width: 23, height: 39\n",
      "width: 24, height: 37\n",
      "width: 21, height: 37\n",
      "width: 28, height: 44\n",
      "width: 23, height: 39\n",
      "width: 20, height: 43\n",
      "width: 24, height: 40\n",
      "width: 26, height: 35\n",
      "width: 20, height: 44\n",
      "width: 21, height: 43\n"
     ]
    }
   ],
   "source": [
    "pikachus = []\n",
    "for line in cleaned_text.split(\"\\n\"):\n",
    "    if line != \"\":\n",
    "        line = line.split(\" \")\n",
    "        pikachus.append(Pokemon(int(float(line[0])), int(float(line[1])), \"Pikachu\"))\n",
    "\n",
    "for p in pikachus:\n",
    "    print(f\"width: {p.width}, height: {p.height}\")"
   ]
  },
  {
   "cell_type": "code",
   "execution_count": null,
   "metadata": {},
   "outputs": [],
   "source": []
  }
 ],
 "metadata": {
  "kernelspec": {
   "display_name": "venv",
   "language": "python",
   "name": "python3"
  },
  "language_info": {
   "codemirror_mode": {
    "name": "ipython",
    "version": 3
   },
   "file_extension": ".py",
   "mimetype": "text/x-python",
   "name": "python",
   "nbconvert_exporter": "python",
   "pygments_lexer": "ipython3",
   "version": "3.11.7"
  }
 },
 "nbformat": 4,
 "nbformat_minor": 2
}
