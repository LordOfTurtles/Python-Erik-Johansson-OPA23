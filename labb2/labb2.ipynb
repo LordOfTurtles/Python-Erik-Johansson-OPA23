{
 "cells": [
  {
   "cell_type": "markdown",
   "metadata": {},
   "source": [
    "# Laboration - skolstatistik"
   ]
  },
  {
   "cell_type": "markdown",
   "metadata": {},
   "source": [
    "## Uppgift 0 - uppvärmning med riket"
   ]
  },
  {
   "cell_type": "markdown",
   "metadata": {},
   "source": [
    "### a)"
   ]
  },
  {
   "cell_type": "code",
   "execution_count": 274,
   "metadata": {},
   "outputs": [
    {
     "data": {
      "text/html": [
       "<div>\n",
       "<style scoped>\n",
       "    .dataframe tbody tr th:only-of-type {\n",
       "        vertical-align: middle;\n",
       "    }\n",
       "\n",
       "    .dataframe tbody tr th {\n",
       "        vertical-align: top;\n",
       "    }\n",
       "\n",
       "    .dataframe thead th {\n",
       "        text-align: right;\n",
       "    }\n",
       "</style>\n",
       "<table border=\"1\" class=\"dataframe\">\n",
       "  <thead>\n",
       "    <tr style=\"text-align: right;\">\n",
       "      <th></th>\n",
       "      <th>Plats</th>\n",
       "      <th>Huvudman</th>\n",
       "      <th>Totalt (A-F)</th>\n",
       "      <th>Flickor (A-F)</th>\n",
       "      <th>Pojkar (A-F)</th>\n",
       "      <th>Totalt (A-E)</th>\n",
       "      <th>Flickor (A-E)</th>\n",
       "      <th>Pojkar (A-E)</th>\n",
       "      <th>Totalt (poäng)</th>\n",
       "      <th>Flickor (poäng)</th>\n",
       "      <th>Pojkar (poäng)</th>\n",
       "    </tr>\n",
       "  </thead>\n",
       "  <tbody>\n",
       "    <tr>\n",
       "      <th>0</th>\n",
       "      <td>Riket</td>\n",
       "      <td>Samtliga</td>\n",
       "      <td>14092</td>\n",
       "      <td>6447</td>\n",
       "      <td>7645</td>\n",
       "      <td>77.7</td>\n",
       "      <td>81.6</td>\n",
       "      <td>74.3</td>\n",
       "      <td>9.4</td>\n",
       "      <td>10.2</td>\n",
       "      <td>8.7</td>\n",
       "    </tr>\n",
       "    <tr>\n",
       "      <th>1</th>\n",
       "      <td>Riket</td>\n",
       "      <td>Kommunal</td>\n",
       "      <td>11963</td>\n",
       "      <td>5495</td>\n",
       "      <td>6468</td>\n",
       "      <td>75.9</td>\n",
       "      <td>80</td>\n",
       "      <td>72.4</td>\n",
       "      <td>9</td>\n",
       "      <td>9.9</td>\n",
       "      <td>8.3</td>\n",
       "    </tr>\n",
       "    <tr>\n",
       "      <th>2</th>\n",
       "      <td>Riket</td>\n",
       "      <td>Enskild</td>\n",
       "      <td>2122</td>\n",
       "      <td>949</td>\n",
       "      <td>1173</td>\n",
       "      <td>87.7</td>\n",
       "      <td>90.9</td>\n",
       "      <td>85.2</td>\n",
       "      <td>11.1</td>\n",
       "      <td>12</td>\n",
       "      <td>10.4</td>\n",
       "    </tr>\n",
       "    <tr>\n",
       "      <th>3</th>\n",
       "      <td>Riket</td>\n",
       "      <td>Skolverket</td>\n",
       "      <td>..</td>\n",
       "      <td>..</td>\n",
       "      <td>..</td>\n",
       "      <td>..</td>\n",
       "      <td>..</td>\n",
       "      <td>..</td>\n",
       "      <td>..</td>\n",
       "      <td>..</td>\n",
       "      <td>..</td>\n",
       "    </tr>\n",
       "  </tbody>\n",
       "</table>\n",
       "</div>"
      ],
      "text/plain": [
       "   Plats    Huvudman Totalt (A-F) Flickor (A-F) Pojkar (A-F) Totalt (A-E)  \\\n",
       "0  Riket    Samtliga        14092          6447         7645         77.7   \n",
       "1  Riket    Kommunal        11963          5495         6468         75.9   \n",
       "2  Riket     Enskild         2122           949         1173         87.7   \n",
       "3  Riket  Skolverket           ..            ..           ..           ..   \n",
       "\n",
       "  Flickor (A-E) Pojkar (A-E) Totalt (poäng) Flickor (poäng) Pojkar (poäng)  \n",
       "0          81.6         74.3            9.4            10.2            8.7  \n",
       "1            80         72.4              9             9.9            8.3  \n",
       "2          90.9         85.2           11.1              12           10.4  \n",
       "3            ..           ..             ..              ..             ..  "
      ]
     },
     "execution_count": 274,
     "metadata": {},
     "output_type": "execute_result"
    }
   ],
   "source": [
    "import pandas as pd\n",
    "# Make dataframes by reading relevant data from excel sheets for each subject\n",
    "[df_math, df_english, df_swedish, df_sfi] = [\n",
    "    pd.read_excel(\"./data/riket2023_åk9_np.xlsx\", sheet_name=sheet, skiprows=8)\n",
    "    for sheet in [\"Matematik\", \"Engelska\", \"Svenska\", \"Svenska som andraspråk\"]\n",
    "]\n",
    "#Fix column names\n",
    "for df in [df_math, df_english, df_swedish, df_sfi]:\n",
    "    df.columns = [\n",
    "        \"Plats\",\n",
    "        \"Huvudman\",\n",
    "        \"Totalt (A-F)\",\n",
    "        \"Flickor (A-F)\",\n",
    "        \"Pojkar (A-F)\",\n",
    "        \"Totalt (A-E)\",\n",
    "        \"Flickor (A-E)\",\n",
    "        \"Pojkar (A-E)\",\n",
    "        \"Totalt (poäng)\",\n",
    "        \"Flickor (poäng)\",\n",
    "        \"Pojkar (poäng)\",\n",
    "    ]\n",
    "# Check that it looks ok\n",
    "df_sfi"
   ]
  },
  {
   "cell_type": "markdown",
   "metadata": {},
   "source": [
    "### b)"
   ]
  },
  {
   "cell_type": "code",
   "execution_count": 275,
   "metadata": {},
   "outputs": [
    {
     "name": "stdout",
     "output_type": "stream",
     "text": [
      "Totalt fick circa 11637 elever underkänt i matte, av dessa så var 5825 flickor och 5798 pojkar.\n"
     ]
    }
   ],
   "source": [
    "# calculate number of failed students\n",
    "[total_f, girls_f, boys_f] = [\n",
    "    int(round(df_math.at[0, f\"{name} (A-F)\"] * ((100 - df_math.at[0, f\"{name} (A-E)\"]) / 100)))\n",
    "    for name in [\"Totalt\", \"Flickor\", \"Pojkar\"]\n",
    "]\n",
    "\n",
    "# The amount of failed grades for boys and girls don't quite add up to the total failed grades.\n",
    "# This could be because of the imprecise ~100 values from \"skolverket\" or because some students identify as nonbinary or similar.\n",
    "print(\n",
    "    f\"Totalt fick circa {total_f} elever underkänt i matte, av dessa så var {girls_f} flickor och {boys_f} pojkar.\"\n",
    ")"
   ]
  },
  {
   "cell_type": "markdown",
   "metadata": {},
   "source": [
    "### c)"
   ]
  },
  {
   "cell_type": "code",
   "execution_count": 276,
   "metadata": {},
   "outputs": [
    {
     "data": {
      "image/png": "[encoded data removed]",
      "text/plain": [
       "<Figure size 640x480 with 1 Axes>"
      ]
     },
     "metadata": {},
     "output_type": "display_data"
    }
   ],
   "source": [
    "import matplotlib.pyplot as plt\n",
    "import numpy as np\n",
    "\n",
    "\n",
    "# Gotten from: https://www.geeksforgeeks.org/adding-value-labels-on-a-matplotlib-bar-chart/\n",
    "def addlabels(x, y):\n",
    "    for i in range(len(x)):\n",
    "        plt.text(i, y[i] + 1, y[i], ha=\"center\")\n",
    "\n",
    "# make arrays for each subject and the average score\n",
    "x = np.array([\"Engelska\", \"Matematik\", \"Svenska\", \"Svenska som\\nandraspråk\"])\n",
    "y = np.array(\n",
    "    [df.at[0, \"Totalt (poäng)\"] for df in [df_english, df_math, df_swedish, df_sfi]]\n",
    ")\n",
    "\n",
    "GRAY1 = \"#6b7280\"\n",
    "\n",
    "color = [\"#A2D5EB\", \"#E8A2EB\", \"#EBBA8B\", \"#CBEBA2\"]\n",
    "\n",
    "ax = plt.subplot(111)\n",
    "\n",
    "ax.bar(x, y, color=color)\n",
    "ax.set_title(\n",
    "    \"Genomsnittliga poäng för nationella prov i årkurs 9 - 2023\",\n",
    "    fontdict={\"fontsize\": 14},\n",
    "    fontweight=\"bold\",\n",
    "    pad=20,\n",
    ")\n",
    "ax.set_xlabel(\"Ämne\", color=GRAY1, fontweight=\"bold\")\n",
    "ax.set_ylabel(\"Poäng\", rotation=0, labelpad=20, color=GRAY1, fontweight=\"bold\")\n",
    "ax.set_yticks(range(0, 21, 5))\n",
    "ax.spines[[\"top\", \"right\"]].set_visible(False)\n",
    "ax.spines[[\"bottom\", \"left\"]].set_color(GRAY1)\n",
    "ax.tick_params(colors=GRAY1)\n",
    "addlabels(x, y)"
   ]
  },
  {
   "cell_type": "markdown",
   "metadata": {},
   "source": [
    "### d)"
   ]
  },
  {
   "cell_type": "code",
   "execution_count": 277,
   "metadata": {},
   "outputs": [
    {
     "data": {
      "image/png": "[encoded data removed]",
      "text/plain": [
       "<Figure size 1200x600 with 4 Axes>"
      ]
     },
     "metadata": {},
     "output_type": "display_data"
    }
   ],
   "source": [
    "fig, axes = plt.subplots(2, 2, dpi=100, figsize=(12, 6))\n",
    "admin_type = {0:\"Samtliga\", 1:\"Kommunal\", 2:\"Enskild\", 3:\"Skolverket\"}\n",
    "# make a bar subplot for each administrative principal\n",
    "for admin, ax in zip(admin_type, axes.flatten()):\n",
    "    # Skip \"Svenska som andraspråk\" for skolverket since they don't have results for that subject\n",
    "    if admin_type[admin] == \"Skolverket\":\n",
    "        x = [\"Engelska\", \"Matematik\", \"Svenska\"]\n",
    "        y = [df.at[admin, \"Totalt (poäng)\"] for df in [df_english, df_math, df_swedish]]\n",
    "    else:\n",
    "        x = [\"Engelska\", \"Matematik\", \"Svenska\", \"Svenska som\\nandraspråk\"]\n",
    "        y = [\n",
    "            df.at[admin, \"Totalt (poäng)\"]\n",
    "            for df in [df_english, df_math, df_swedish, df_sfi]\n",
    "        ]\n",
    "    ax.bar(x, y, color=color)\n",
    "    ax.set_title(f\"{admin_type[admin]}\", pad=10)\n",
    "    ax.set_xlabel(\"Ämne\", color=GRAY1, fontweight=\"bold\")\n",
    "    ax.set_ylabel(\"Poäng\", rotation=0, labelpad=20, color=GRAY1, fontweight=\"bold\")\n",
    "    ax.set_yticks(range(0, 21, 5))\n",
    "    ax.spines[[\"top\", \"right\"]].set_visible(False)\n",
    "    ax.spines[[\"bottom\", \"left\"]].set_color(GRAY1)\n",
    "    ax.tick_params(colors=GRAY1)\n",
    "    ax.bar_label(ax.containers[0], fmt=lambda x: x if x > 0 else \"\", label_type=\"edge\")\n",
    "\n",
    "fig.suptitle(\n",
    "    \"Genomsnittliga poäng för nationella prov i årkurs 9 - 2023\\nsorterat per typ av huvudman\",\n",
    "    y=1.03,\n",
    "    fontweight=\"bold\",\n",
    "    fontsize=15\n",
    ")\n",
    "fig.tight_layout()"
   ]
  },
  {
   "cell_type": "markdown",
   "metadata": {},
   "source": [
    "## Uppgift 1 - uppvärmning betyg och prov"
   ]
  },
  {
   "cell_type": "markdown",
   "metadata": {},
   "source": [
    "### a)"
   ]
  },
  {
   "cell_type": "code",
   "execution_count": 278,
   "metadata": {},
   "outputs": [
    {
     "data": {
      "text/html": [
       "<div>\n",
       "<style scoped>\n",
       "    .dataframe tbody tr th:only-of-type {\n",
       "        vertical-align: middle;\n",
       "    }\n",
       "\n",
       "    .dataframe tbody tr th {\n",
       "        vertical-align: top;\n",
       "    }\n",
       "\n",
       "    .dataframe thead th {\n",
       "        text-align: right;\n",
       "    }\n",
       "</style>\n",
       "<table border=\"1\" class=\"dataframe\">\n",
       "  <thead>\n",
       "    <tr style=\"text-align: right;\">\n",
       "      <th></th>\n",
       "      <th>Läsår</th>\n",
       "      <th>Totalt</th>\n",
       "      <th>Flickor</th>\n",
       "      <th>Pojkar</th>\n",
       "    </tr>\n",
       "  </thead>\n",
       "  <tbody>\n",
       "    <tr>\n",
       "      <th>0</th>\n",
       "      <td>2018/19</td>\n",
       "      <td>24.5</td>\n",
       "      <td>21.7</td>\n",
       "      <td>27.2</td>\n",
       "    </tr>\n",
       "    <tr>\n",
       "      <th>1</th>\n",
       "      <td>2019/20</td>\n",
       "      <td>23.9</td>\n",
       "      <td>21.4</td>\n",
       "      <td>26.3</td>\n",
       "    </tr>\n",
       "    <tr>\n",
       "      <th>2</th>\n",
       "      <td>2020/21</td>\n",
       "      <td>23.9</td>\n",
       "      <td>21.9</td>\n",
       "      <td>25.9</td>\n",
       "    </tr>\n",
       "    <tr>\n",
       "      <th>3</th>\n",
       "      <td>2021/22</td>\n",
       "      <td>25.9</td>\n",
       "      <td>24.2</td>\n",
       "      <td>27.5</td>\n",
       "    </tr>\n",
       "    <tr>\n",
       "      <th>4</th>\n",
       "      <td>2022/23</td>\n",
       "      <td>26.8</td>\n",
       "      <td>25.5</td>\n",
       "      <td>28.0</td>\n",
       "    </tr>\n",
       "  </tbody>\n",
       "</table>\n",
       "</div>"
      ],
      "text/plain": [
       "     Läsår  Totalt  Flickor  Pojkar\n",
       "0  2018/19    24.5     21.7    27.2\n",
       "1  2019/20    23.9     21.4    26.3\n",
       "2  2020/21    23.9     21.9    25.9\n",
       "3  2021/22    25.9     24.2    27.5\n",
       "4  2022/23    26.8     25.5    28.0"
      ]
     },
     "execution_count": 278,
     "metadata": {},
     "output_type": "execute_result"
    }
   ],
   "source": [
    "# Make dataframe using only the necessary columns and rows\n",
    "df_results_yearly = pd.read_excel(\n",
    "    \"./data/betyg_o_prov_riksnivå.xlsx\", sheet_name=\"Tabell 1B\", skiprows=7, usecols=([0, 7, 8, 9])\n",
    ").head()\n",
    "\n",
    "df_results_yearly.columns = [\n",
    "    \"Läsår\",\n",
    "    \"Totalt\",\n",
    "    \"Flickor\",\n",
    "    \"Pojkar\",\n",
    "]\n",
    "\n",
    "df_results_yearly"
   ]
  },
  {
   "cell_type": "code",
   "execution_count": 326,
   "metadata": {},
   "outputs": [
    {
     "data": {
      "application/vnd.plotly.v1+json": {
       "config": {
        "plotlyServerURL": "https://plot.ly"
       },
       "data": [
        {
         "hovertemplate": "Kön=Totalt<br>Läsår=%{x}<br>%=%{y}<extra></extra>",
         "legendgroup": "Totalt",
         "line": {
          "color": "gray",
          "dash": "solid"
         },
         "marker": {
          "symbol": "circle"
         },
         "mode": "lines+markers",
         "name": "Totalt",
         "orientation": "v",
         "showlegend": true,
         "type": "scatter",
         "x": [
          "2018/19",
          "2019/20",
          "2020/21",
          "2021/22",
          "2022/23"
         ],
         "xaxis": "x",
         "y": [
          24.5,
          23.9,
          23.9,
          25.9,
          26.8
         ],
         "yaxis": "y"
        },
        {
         "hovertemplate": "Kön=Flickor<br>Läsår=%{x}<br>%=%{y}<extra></extra>",
         "legendgroup": "Flickor",
         "line": {
          "color": "#F073C3",
          "dash": "solid"
         },
         "marker": {
          "symbol": "circle"
         },
         "mode": "lines+markers",
         "name": "Flickor",
         "orientation": "v",
         "showlegend": true,
         "type": "scatter",
         "x": [
          "2018/19",
          "2019/20",
          "2020/21",
          "2021/22",
          "2022/23"
         ],
         "xaxis": "x",
         "y": [
          21.7,
          21.4,
          21.9,
          24.2,
          25.5
         ],
         "yaxis": "y"
        },
        {
         "hovertemplate": "Kön=Pojkar<br>Läsår=%{x}<br>%=%{y}<extra></extra>",
         "legendgroup": "Pojkar",
         "line": {
          "color": "#769BF0",
          "dash": "solid"
         },
         "marker": {
          "symbol": "circle"
         },
         "mode": "lines+markers",
         "name": "Pojkar",
         "orientation": "v",
         "showlegend": true,
         "type": "scatter",
         "x": [
          "2018/19",
          "2019/20",
          "2020/21",
          "2021/22",
          "2022/23"
         ],
         "xaxis": "x",
         "y": [
          27.2,
          26.3,
          25.9,
          27.5,
          28
         ],
         "yaxis": "y"
        }
       ],
       "layout": {
        "hovermode": "x",
        "legend": {
         "title": {
          "text": "Kön"
         },
         "tracegroupgap": 0
        },
        "template": {
         "data": {
          "bar": [
           {
            "error_x": {
             "color": "#2a3f5f"
            },
            "error_y": {
             "color": "#2a3f5f"
            },
            "marker": {
             "line": {
              "color": "#E5ECF6",
              "width": 0.5
             },
             "pattern": {
              "fillmode": "overlay",
              "size": 10,
              "solidity": 0.2
             }
            },
            "type": "bar"
           }
          ],
          "barpolar": [
           {
            "marker": {
             "line": {
              "color": "#E5ECF6",
              "width": 0.5
             },
             "pattern": {
              "fillmode": "overlay",
              "size": 10,
              "solidity": 0.2
             }
            },
            "type": "barpolar"
           }
          ],
          "carpet": [
           {
            "aaxis": {
             "endlinecolor": "#2a3f5f",
             "gridcolor": "white",
             "linecolor": "white",
             "minorgridcolor": "white",
             "startlinecolor": "#2a3f5f"
            },
            "baxis": {
             "endlinecolor": "#2a3f5f",
             "gridcolor": "white",
             "linecolor": "white",
             "minorgridcolor": "white",
             "startlinecolor": "#2a3f5f"
            },
            "type": "carpet"
           }
          ],
          "choropleth": [
           {
            "colorbar": {
             "outlinewidth": 0,
             "ticks": ""
            },
            "type": "choropleth"
           }
          ],
          "contour": [
           {
            "colorbar": {
             "outlinewidth": 0,
             "ticks": ""
            },
            "colorscale": [
             [
              0,
              "#0d0887"
             ],
             [
              0.1111111111111111,
              "#46039f"
             ],
             [
              0.2222222222222222,
              "#7201a8"
             ],
             [
              0.3333333333333333,
              "#9c179e"
             ],
             [
              0.4444444444444444,
              "#bd3786"
             ],
             [
              0.5555555555555556,
              "#d8576b"
             ],
             [
              0.6666666666666666,
              "#ed7953"
             ],
             [
              0.7777777777777778,
              "#fb9f3a"
             ],
             [
              0.8888888888888888,
              "#fdca26"
             ],
             [
              1,
              "#f0f921"
             ]
            ],
            "type": "contour"
           }
          ],
          "contourcarpet": [
           {
            "colorbar": {
             "outlinewidth": 0,
             "ticks": ""
            },
            "type": "contourcarpet"
           }
          ],
          "heatmap": [
           {
            "colorbar": {
             "outlinewidth": 0,
             "ticks": ""
            },
            "colorscale": [
             [
              0,
              "#0d0887"
             ],
             [
              0.1111111111111111,
              "#46039f"
             ],
             [
              0.2222222222222222,
              "#7201a8"
             ],
             [
              0.3333333333333333,
              "#9c179e"
             ],
             [
              0.4444444444444444,
              "#bd3786"
             ],
             [
              0.5555555555555556,
              "#d8576b"
             ],
             [
              0.6666666666666666,
              "#ed7953"
             ],
             [
              0.7777777777777778,
              "#fb9f3a"
             ],
             [
              0.8888888888888888,
              "#fdca26"
             ],
             [
              1,
              "#f0f921"
             ]
            ],
            "type": "heatmap"
           }
          ],
          "heatmapgl": [
           {
            "colorbar": {
             "outlinewidth": 0,
             "ticks": ""
            },
            "colorscale": [
             [
              0,
              "#0d0887"
             ],
             [
              0.1111111111111111,
              "#46039f"
             ],
             [
              0.2222222222222222,
              "#7201a8"
             ],
             [
              0.3333333333333333,
              "#9c179e"
             ],
             [
              0.4444444444444444,
              "#bd3786"
             ],
             [
              0.5555555555555556,
              "#d8576b"
             ],
             [
              0.6666666666666666,
              "#ed7953"
             ],
             [
              0.7777777777777778,
              "#fb9f3a"
             ],
             [
              0.8888888888888888,
              "#fdca26"
             ],
             [
              1,
              "#f0f921"
             ]
            ],
            "type": "heatmapgl"
           }
          ],
          "histogram": [
           {
            "marker": {
             "pattern": {
              "fillmode": "overlay",
              "size": 10,
              "solidity": 0.2
             }
            },
            "type": "histogram"
           }
          ],
          "histogram2d": [
           {
            "colorbar": {
             "outlinewidth": 0,
             "ticks": ""
            },
            "colorscale": [
             [
              0,
              "#0d0887"
             ],
             [
              0.1111111111111111,
              "#46039f"
             ],
             [
              0.2222222222222222,
              "#7201a8"
             ],
             [
              0.3333333333333333,
              "#9c179e"
             ],
             [
              0.4444444444444444,
              "#bd3786"
             ],
             [
              0.5555555555555556,
              "#d8576b"
             ],
             [
              0.6666666666666666,
              "#ed7953"
             ],
             [
              0.7777777777777778,
              "#fb9f3a"
             ],
             [
              0.8888888888888888,
              "#fdca26"
             ],
             [
              1,
              "#f0f921"
             ]
            ],
            "type": "histogram2d"
           }
          ],
          "histogram2dcontour": [
           {
            "colorbar": {
             "outlinewidth": 0,
             "ticks": ""
            },
            "colorscale": [
             [
              0,
              "#0d0887"
             ],
             [
              0.1111111111111111,
              "#46039f"
             ],
             [
              0.2222222222222222,
              "#7201a8"
             ],
             [
              0.3333333333333333,
              "#9c179e"
             ],
             [
              0.4444444444444444,
              "#bd3786"
             ],
             [
              0.5555555555555556,
              "#d8576b"
             ],
             [
              0.6666666666666666,
              "#ed7953"
             ],
             [
              0.7777777777777778,
              "#fb9f3a"
             ],
             [
              0.8888888888888888,
              "#fdca26"
             ],
             [
              1,
              "#f0f921"
             ]
            ],
            "type": "histogram2dcontour"
           }
          ],
          "mesh3d": [
           {
            "colorbar": {
             "outlinewidth": 0,
             "ticks": ""
            },
            "type": "mesh3d"
           }
          ],
          "parcoords": [
           {
            "line": {
             "colorbar": {
              "outlinewidth": 0,
              "ticks": ""
             }
            },
            "type": "parcoords"
           }
          ],
          "pie": [
           {
            "automargin": true,
            "type": "pie"
           }
          ],
          "scatter": [
           {
            "fillpattern": {
             "fillmode": "overlay",
             "size": 10,
             "solidity": 0.2
            },
            "type": "scatter"
           }
          ],
          "scatter3d": [
           {
            "line": {
             "colorbar": {
              "outlinewidth": 0,
              "ticks": ""
             }
            },
            "marker": {
             "colorbar": {
              "outlinewidth": 0,
              "ticks": ""
             }
            },
            "type": "scatter3d"
           }
          ],
          "scattercarpet": [
           {
            "marker": {
             "colorbar": {
              "outlinewidth": 0,
              "ticks": ""
             }
            },
            "type": "scattercarpet"
           }
          ],
          "scattergeo": [
           {
            "marker": {
             "colorbar": {
              "outlinewidth": 0,
              "ticks": ""
             }
            },
            "type": "scattergeo"
           }
          ],
          "scattergl": [
           {
            "marker": {
             "colorbar": {
              "outlinewidth": 0,
              "ticks": ""
             }
            },
            "type": "scattergl"
           }
          ],
          "scattermapbox": [
           {
            "marker": {
             "colorbar": {
              "outlinewidth": 0,
              "ticks": ""
             }
            },
            "type": "scattermapbox"
           }
          ],
          "scatterpolar": [
           {
            "marker": {
             "colorbar": {
              "outlinewidth": 0,
              "ticks": ""
             }
            },
            "type": "scatterpolar"
           }
          ],
          "scatterpolargl": [
           {
            "marker": {
             "colorbar": {
              "outlinewidth": 0,
              "ticks": ""
             }
            },
            "type": "scatterpolargl"
           }
          ],
          "scatterternary": [
           {
            "marker": {
             "colorbar": {
              "outlinewidth": 0,
              "ticks": ""
             }
            },
            "type": "scatterternary"
           }
          ],
          "surface": [
           {
            "colorbar": {
             "outlinewidth": 0,
             "ticks": ""
            },
            "colorscale": [
             [
              0,
              "#0d0887"
             ],
             [
              0.1111111111111111,
              "#46039f"
             ],
             [
              0.2222222222222222,
              "#7201a8"
             ],
             [
              0.3333333333333333,
              "#9c179e"
             ],
             [
              0.4444444444444444,
              "#bd3786"
             ],
             [
              0.5555555555555556,
              "#d8576b"
             ],
             [
              0.6666666666666666,
              "#ed7953"
             ],
             [
              0.7777777777777778,
              "#fb9f3a"
             ],
             [
              0.8888888888888888,
              "#fdca26"
             ],
             [
              1,
              "#f0f921"
             ]
            ],
            "type": "surface"
           }
          ],
          "table": [
           {
            "cells": {
             "fill": {
              "color": "#EBF0F8"
             },
             "line": {
              "color": "white"
             }
            },
            "header": {
             "fill": {
              "color": "#C8D4E3"
             },
             "line": {
              "color": "white"
             }
            },
            "type": "table"
           }
          ]
         },
         "layout": {
          "annotationdefaults": {
           "arrowcolor": "#2a3f5f",
           "arrowhead": 0,
           "arrowwidth": 1
          },
          "autotypenumbers": "strict",
          "coloraxis": {
           "colorbar": {
            "outlinewidth": 0,
            "ticks": ""
           }
          },
          "colorscale": {
           "diverging": [
            [
             0,
             "#8e0152"
            ],
            [
             0.1,
             "#c51b7d"
            ],
            [
             0.2,
             "#de77ae"
            ],
            [
             0.3,
             "#f1b6da"
            ],
            [
             0.4,
             "#fde0ef"
            ],
            [
             0.5,
             "#f7f7f7"
            ],
            [
             0.6,
             "#e6f5d0"
            ],
            [
             0.7,
             "#b8e186"
            ],
            [
             0.8,
             "#7fbc41"
            ],
            [
             0.9,
             "#4d9221"
            ],
            [
             1,
             "#276419"
            ]
           ],
           "sequential": [
            [
             0,
             "#0d0887"
            ],
            [
             0.1111111111111111,
             "#46039f"
            ],
            [
             0.2222222222222222,
             "#7201a8"
            ],
            [
             0.3333333333333333,
             "#9c179e"
            ],
            [
             0.4444444444444444,
             "#bd3786"
            ],
            [
             0.5555555555555556,
             "#d8576b"
            ],
            [
             0.6666666666666666,
             "#ed7953"
            ],
            [
             0.7777777777777778,
             "#fb9f3a"
            ],
            [
             0.8888888888888888,
             "#fdca26"
            ],
            [
             1,
             "#f0f921"
            ]
           ],
           "sequentialminus": [
            [
             0,
             "#0d0887"
            ],
            [
             0.1111111111111111,
             "#46039f"
            ],
            [
             0.2222222222222222,
             "#7201a8"
            ],
            [
             0.3333333333333333,
             "#9c179e"
            ],
            [
             0.4444444444444444,
             "#bd3786"
            ],
            [
             0.5555555555555556,
             "#d8576b"
            ],
            [
             0.6666666666666666,
             "#ed7953"
            ],
            [
             0.7777777777777778,
             "#fb9f3a"
            ],
            [
             0.8888888888888888,
             "#fdca26"
            ],
            [
             1,
             "#f0f921"
            ]
           ]
          },
          "colorway": [
           "#636efa",
           "#EF553B",
           "#00cc96",
           "#ab63fa",
           "#FFA15A",
           "#19d3f3",
           "#FF6692",
           "#B6E880",
           "#FF97FF",
           "#FECB52"
          ],
          "font": {
           "color": "#2a3f5f"
          },
          "geo": {
           "bgcolor": "white",
           "lakecolor": "white",
           "landcolor": "#E5ECF6",
           "showlakes": true,
           "showland": true,
           "subunitcolor": "white"
          },
          "hoverlabel": {
           "align": "left"
          },
          "hovermode": "closest",
          "mapbox": {
           "style": "light"
          },
          "paper_bgcolor": "white",
          "plot_bgcolor": "#E5ECF6",
          "polar": {
           "angularaxis": {
            "gridcolor": "white",
            "linecolor": "white",
            "ticks": ""
           },
           "bgcolor": "#E5ECF6",
           "radialaxis": {
            "gridcolor": "white",
            "linecolor": "white",
            "ticks": ""
           }
          },
          "scene": {
           "xaxis": {
            "backgroundcolor": "#E5ECF6",
            "gridcolor": "white",
            "gridwidth": 2,
            "linecolor": "white",
            "showbackground": true,
            "ticks": "",
            "zerolinecolor": "white"
           },
           "yaxis": {
            "backgroundcolor": "#E5ECF6",
            "gridcolor": "white",
            "gridwidth": 2,
            "linecolor": "white",
            "showbackground": true,
            "ticks": "",
            "zerolinecolor": "white"
           },
           "zaxis": {
            "backgroundcolor": "#E5ECF6",
            "gridcolor": "white",
            "gridwidth": 2,
            "linecolor": "white",
            "showbackground": true,
            "ticks": "",
            "zerolinecolor": "white"
           }
          },
          "shapedefaults": {
           "line": {
            "color": "#2a3f5f"
           }
          },
          "ternary": {
           "aaxis": {
            "gridcolor": "white",
            "linecolor": "white",
            "ticks": ""
           },
           "baxis": {
            "gridcolor": "white",
            "linecolor": "white",
            "ticks": ""
           },
           "bgcolor": "#E5ECF6",
           "caxis": {
            "gridcolor": "white",
            "linecolor": "white",
            "ticks": ""
           }
          },
          "title": {
           "x": 0.05
          },
          "xaxis": {
           "automargin": true,
           "gridcolor": "white",
           "linecolor": "white",
           "ticks": "",
           "title": {
            "standoff": 15
           },
           "zerolinecolor": "white",
           "zerolinewidth": 2
          },
          "yaxis": {
           "automargin": true,
           "gridcolor": "white",
           "linecolor": "white",
           "ticks": "",
           "title": {
            "standoff": 15
           },
           "zerolinecolor": "white",
           "zerolinewidth": 2
          }
         }
        },
        "title": {
         "text": "Andel av elever utan godkänt betyg i ett eller flera ämnen under i årskurs 9 läsår 2018-2023"
        },
        "xaxis": {
         "anchor": "y",
         "domain": [
          0,
          1
         ],
         "linecolor": "gray",
         "linewidth": 2,
         "showgrid": false,
         "showline": true,
         "showspikes": true,
         "showticklabels": true,
         "spikecolor": "gray",
         "spikedash": "solid",
         "spikemode": "across",
         "spikesnap": "cursor",
         "tickcolor": "gray",
         "ticks": "outside",
         "title": {
          "text": "Läsår"
         }
        },
        "yaxis": {
         "anchor": "x",
         "domain": [
          0,
          1
         ],
         "linecolor": "gray",
         "linewidth": 2,
         "range": [
          19,
          30
         ],
         "showgrid": false,
         "showline": true,
         "showticklabels": true,
         "ticksuffix": " ",
         "title": {
          "text": "% utan godkänt"
         }
        }
       }
      }
     },
     "metadata": {},
     "output_type": "display_data"
    }
   ],
   "source": [
    "import plotly_express as px\n",
    "\n",
    "\n",
    "fig = px.line(\n",
    "    df_results_yearly,\n",
    "    x=\"Läsår\",\n",
    "    y=[\"Totalt\", \"Flickor\", \"Pojkar\"],\n",
    "    title=\"Andel av elever utan godkänt betyg i ett eller flera ämnen under i årskurs 9 läsår 2018-2023\",\n",
    "    markers=True,\n",
    "    color_discrete_map={\"Totalt\": \"gray\", \"Flickor\": \"#F073C3\", \"Pojkar\": \"#769BF0\"},\n",
    ").update_layout(yaxis_title=\"% utan godkänt\", legend_title=\"Kön\", hovermode=\"x\", yaxis_range=[19, 30])\n",
    "# Code for changing labels at hover from: https://stackoverflow.com/questions/72773775/plotly-express-line-chart-renaming-variable-in-legend-title-and-hover-text\n",
    "names = {\"variable\": \"Kön\", \"value\": \"%\"}\n",
    "fig.for_each_trace(\n",
    "    lambda t: t.update(\n",
    "        hovertemplate=t.hovertemplate.replace(\"variable\", names[\"variable\"]).replace(\n",
    "            \"value\", names[\"value\"]\n",
    "        )\n",
    "    )\n",
    ")\n",
    "fig.update_yaxes(\n",
    "    ticksuffix=\" \",\n",
    "    showline=True,\n",
    "    linewidth=2,\n",
    "    linecolor=\"gray\",\n",
    "    showticklabels=True,\n",
    "    showgrid=False,\n",
    ")\n",
    "fig.update_xaxes(\n",
    "    showspikes=True,\n",
    "    spikemode=\"across\",\n",
    "    spikecolor=\"gray\",\n",
    "    spikesnap=\"cursor\",\n",
    "    spikedash=\"solid\",\n",
    "    showgrid=False,\n",
    "    showline=True,\n",
    "    linewidth=2,\n",
    "    linecolor=\"gray\",\n",
    "    showticklabels=True,\n",
    "    ticks=\"outside\",\n",
    "    tickcolor=\"gray\",\n",
    ")\n",
    "fig.show()\n",
    "fig.write_html(\"./Visualiseringar/elever_saknatbetyg_årskurs9.html\")"
   ]
  },
  {
   "cell_type": "markdown",
   "metadata": {},
   "source": [
    "### b)"
   ]
  },
  {
   "cell_type": "code",
   "execution_count": 280,
   "metadata": {},
   "outputs": [
    {
     "data": {
      "text/html": [
       "<div>\n",
       "<style scoped>\n",
       "    .dataframe tbody tr th:only-of-type {\n",
       "        vertical-align: middle;\n",
       "    }\n",
       "\n",
       "    .dataframe tbody tr th {\n",
       "        vertical-align: top;\n",
       "    }\n",
       "\n",
       "    .dataframe thead th {\n",
       "        text-align: right;\n",
       "    }\n",
       "</style>\n",
       "<table border=\"1\" class=\"dataframe\">\n",
       "  <thead>\n",
       "    <tr style=\"text-align: right;\">\n",
       "      <th></th>\n",
       "      <th>Läsår</th>\n",
       "      <th>Totalt</th>\n",
       "      <th>Flickor</th>\n",
       "      <th>Pojkar</th>\n",
       "    </tr>\n",
       "  </thead>\n",
       "  <tbody>\n",
       "    <tr>\n",
       "      <th>0</th>\n",
       "      <td>2018/19</td>\n",
       "      <td>221.7</td>\n",
       "      <td>234.3</td>\n",
       "      <td>209.8</td>\n",
       "    </tr>\n",
       "    <tr>\n",
       "      <th>1</th>\n",
       "      <td>2019/20</td>\n",
       "      <td>222.9</td>\n",
       "      <td>235.7</td>\n",
       "      <td>210.9</td>\n",
       "    </tr>\n",
       "    <tr>\n",
       "      <th>2</th>\n",
       "      <td>2020/21</td>\n",
       "      <td>223.9</td>\n",
       "      <td>235.4</td>\n",
       "      <td>212.9</td>\n",
       "    </tr>\n",
       "    <tr>\n",
       "      <th>3</th>\n",
       "      <td>2021/22</td>\n",
       "      <td>221.2</td>\n",
       "      <td>231.6</td>\n",
       "      <td>211.4</td>\n",
       "    </tr>\n",
       "    <tr>\n",
       "      <th>4</th>\n",
       "      <td>2022/23</td>\n",
       "      <td>220.6</td>\n",
       "      <td>229.7</td>\n",
       "      <td>211.9</td>\n",
       "    </tr>\n",
       "  </tbody>\n",
       "</table>\n",
       "</div>"
      ],
      "text/plain": [
       "     Läsår  Totalt  Flickor  Pojkar\n",
       "0  2018/19   221.7    234.3   209.8\n",
       "1  2019/20   222.9    235.7   210.9\n",
       "2  2020/21   223.9    235.4   212.9\n",
       "3  2021/22   221.2    231.6   211.4\n",
       "4  2022/23   220.6    229.7   211.9"
      ]
     },
     "execution_count": 280,
     "metadata": {},
     "output_type": "execute_result"
    }
   ],
   "source": [
    "df_16merits_yearly = pd.read_excel(\n",
    "    \"./data/betyg_o_prov_riksnivå.xlsx\", sheet_name=\"Tabell 1B\", skiprows=7, usecols=([0, 1, 2, 3])\n",
    ").head()\n",
    "df_16merits_yearly.columns = [\n",
    "    \"Läsår\",\n",
    "    \"Totalt\",\n",
    "    \"Flickor\",\n",
    "    \"Pojkar\",\n",
    "]\n",
    "df_16merits_yearly"
   ]
  },
  {
   "cell_type": "code",
   "execution_count": 325,
   "metadata": {},
   "outputs": [
    {
     "data": {
      "application/vnd.plotly.v1+json": {
       "config": {
        "plotlyServerURL": "https://plot.ly"
       },
       "data": [
        {
         "hovertemplate": "Kön=Totalt<br>Läsår=%{x}<br>Meritvärde=%{y}<extra></extra>",
         "legendgroup": "Totalt",
         "line": {
          "color": "gray",
          "dash": "solid"
         },
         "marker": {
          "symbol": "circle"
         },
         "mode": "lines+markers",
         "name": "Totalt",
         "orientation": "v",
         "showlegend": true,
         "type": "scatter",
         "x": [
          "2018/19",
          "2019/20",
          "2020/21",
          "2021/22",
          "2022/23"
         ],
         "xaxis": "x",
         "y": [
          221.7,
          222.9,
          223.9,
          221.2,
          220.6
         ],
         "yaxis": "y"
        },
        {
         "hovertemplate": "Kön=Flickor<br>Läsår=%{x}<br>Meritvärde=%{y}<extra></extra>",
         "legendgroup": "Flickor",
         "line": {
          "color": "#F073C3",
          "dash": "solid"
         },
         "marker": {
          "symbol": "circle"
         },
         "mode": "lines+markers",
         "name": "Flickor",
         "orientation": "v",
         "showlegend": true,
         "type": "scatter",
         "x": [
          "2018/19",
          "2019/20",
          "2020/21",
          "2021/22",
          "2022/23"
         ],
         "xaxis": "x",
         "y": [
          234.3,
          235.7,
          235.4,
          231.6,
          229.7
         ],
         "yaxis": "y"
        },
        {
         "hovertemplate": "Kön=Pojkar<br>Läsår=%{x}<br>Meritvärde=%{y}<extra></extra>",
         "legendgroup": "Pojkar",
         "line": {
          "color": "#769BF0",
          "dash": "solid"
         },
         "marker": {
          "symbol": "circle"
         },
         "mode": "lines+markers",
         "name": "Pojkar",
         "orientation": "v",
         "showlegend": true,
         "type": "scatter",
         "x": [
          "2018/19",
          "2019/20",
          "2020/21",
          "2021/22",
          "2022/23"
         ],
         "xaxis": "x",
         "y": [
          209.8,
          210.9,
          212.9,
          211.4,
          211.9
         ],
         "yaxis": "y"
        }
       ],
       "layout": {
        "hovermode": "x",
        "legend": {
         "title": {
          "text": "Kön"
         },
         "tracegroupgap": 0
        },
        "template": {
         "data": {
          "bar": [
           {
            "error_x": {
             "color": "#2a3f5f"
            },
            "error_y": {
             "color": "#2a3f5f"
            },
            "marker": {
             "line": {
              "color": "#E5ECF6",
              "width": 0.5
             },
             "pattern": {
              "fillmode": "overlay",
              "size": 10,
              "solidity": 0.2
             }
            },
            "type": "bar"
           }
          ],
          "barpolar": [
           {
            "marker": {
             "line": {
              "color": "#E5ECF6",
              "width": 0.5
             },
             "pattern": {
              "fillmode": "overlay",
              "size": 10,
              "solidity": 0.2
             }
            },
            "type": "barpolar"
           }
          ],
          "carpet": [
           {
            "aaxis": {
             "endlinecolor": "#2a3f5f",
             "gridcolor": "white",
             "linecolor": "white",
             "minorgridcolor": "white",
             "startlinecolor": "#2a3f5f"
            },
            "baxis": {
             "endlinecolor": "#2a3f5f",
             "gridcolor": "white",
             "linecolor": "white",
             "minorgridcolor": "white",
             "startlinecolor": "#2a3f5f"
            },
            "type": "carpet"
           }
          ],
          "choropleth": [
           {
            "colorbar": {
             "outlinewidth": 0,
             "ticks": ""
            },
            "type": "choropleth"
           }
          ],
          "contour": [
           {
            "colorbar": {
             "outlinewidth": 0,
             "ticks": ""
            },
            "colorscale": [
             [
              0,
              "#0d0887"
             ],
             [
              0.1111111111111111,
              "#46039f"
             ],
             [
              0.2222222222222222,
              "#7201a8"
             ],
             [
              0.3333333333333333,
              "#9c179e"
             ],
             [
              0.4444444444444444,
              "#bd3786"
             ],
             [
              0.5555555555555556,
              "#d8576b"
             ],
             [
              0.6666666666666666,
              "#ed7953"
             ],
             [
              0.7777777777777778,
              "#fb9f3a"
             ],
             [
              0.8888888888888888,
              "#fdca26"
             ],
             [
              1,
              "#f0f921"
             ]
            ],
            "type": "contour"
           }
          ],
          "contourcarpet": [
           {
            "colorbar": {
             "outlinewidth": 0,
             "ticks": ""
            },
            "type": "contourcarpet"
           }
          ],
          "heatmap": [
           {
            "colorbar": {
             "outlinewidth": 0,
             "ticks": ""
            },
            "colorscale": [
             [
              0,
              "#0d0887"
             ],
             [
              0.1111111111111111,
              "#46039f"
             ],
             [
              0.2222222222222222,
              "#7201a8"
             ],
             [
              0.3333333333333333,
              "#9c179e"
             ],
             [
              0.4444444444444444,
              "#bd3786"
             ],
             [
              0.5555555555555556,
              "#d8576b"
             ],
             [
              0.6666666666666666,
              "#ed7953"
             ],
             [
              0.7777777777777778,
              "#fb9f3a"
             ],
             [
              0.8888888888888888,
              "#fdca26"
             ],
             [
              1,
              "#f0f921"
             ]
            ],
            "type": "heatmap"
           }
          ],
          "heatmapgl": [
           {
            "colorbar": {
             "outlinewidth": 0,
             "ticks": ""
            },
            "colorscale": [
             [
              0,
              "#0d0887"
             ],
             [
              0.1111111111111111,
              "#46039f"
             ],
             [
              0.2222222222222222,
              "#7201a8"
             ],
             [
              0.3333333333333333,
              "#9c179e"
             ],
             [
              0.4444444444444444,
              "#bd3786"
             ],
             [
              0.5555555555555556,
              "#d8576b"
             ],
             [
              0.6666666666666666,
              "#ed7953"
             ],
             [
              0.7777777777777778,
              "#fb9f3a"
             ],
             [
              0.8888888888888888,
              "#fdca26"
             ],
             [
              1,
              "#f0f921"
             ]
            ],
            "type": "heatmapgl"
           }
          ],
          "histogram": [
           {
            "marker": {
             "pattern": {
              "fillmode": "overlay",
              "size": 10,
              "solidity": 0.2
             }
            },
            "type": "histogram"
           }
          ],
          "histogram2d": [
           {
            "colorbar": {
             "outlinewidth": 0,
             "ticks": ""
            },
            "colorscale": [
             [
              0,
              "#0d0887"
             ],
             [
              0.1111111111111111,
              "#46039f"
             ],
             [
              0.2222222222222222,
              "#7201a8"
             ],
             [
              0.3333333333333333,
              "#9c179e"
             ],
             [
              0.4444444444444444,
              "#bd3786"
             ],
             [
              0.5555555555555556,
              "#d8576b"
             ],
             [
              0.6666666666666666,
              "#ed7953"
             ],
             [
              0.7777777777777778,
              "#fb9f3a"
             ],
             [
              0.8888888888888888,
              "#fdca26"
             ],
             [
              1,
              "#f0f921"
             ]
            ],
            "type": "histogram2d"
           }
          ],
          "histogram2dcontour": [
           {
            "colorbar": {
             "outlinewidth": 0,
             "ticks": ""
            },
            "colorscale": [
             [
              0,
              "#0d0887"
             ],
             [
              0.1111111111111111,
              "#46039f"
             ],
             [
              0.2222222222222222,
              "#7201a8"
             ],
             [
              0.3333333333333333,
              "#9c179e"
             ],
             [
              0.4444444444444444,
              "#bd3786"
             ],
             [
              0.5555555555555556,
              "#d8576b"
             ],
             [
              0.6666666666666666,
              "#ed7953"
             ],
             [
              0.7777777777777778,
              "#fb9f3a"
             ],
             [
              0.8888888888888888,
              "#fdca26"
             ],
             [
              1,
              "#f0f921"
             ]
            ],
            "type": "histogram2dcontour"
           }
          ],
          "mesh3d": [
           {
            "colorbar": {
             "outlinewidth": 0,
             "ticks": ""
            },
            "type": "mesh3d"
           }
          ],
          "parcoords": [
           {
            "line": {
             "colorbar": {
              "outlinewidth": 0,
              "ticks": ""
             }
            },
            "type": "parcoords"
           }
          ],
          "pie": [
           {
            "automargin": true,
            "type": "pie"
           }
          ],
          "scatter": [
           {
            "fillpattern": {
             "fillmode": "overlay",
             "size": 10,
             "solidity": 0.2
            },
            "type": "scatter"
           }
          ],
          "scatter3d": [
           {
            "line": {
             "colorbar": {
              "outlinewidth": 0,
              "ticks": ""
             }
            },
            "marker": {
             "colorbar": {
              "outlinewidth": 0,
              "ticks": ""
             }
            },
            "type": "scatter3d"
           }
          ],
          "scattercarpet": [
           {
            "marker": {
             "colorbar": {
              "outlinewidth": 0,
              "ticks": ""
             }
            },
            "type": "scattercarpet"
           }
          ],
          "scattergeo": [
           {
            "marker": {
             "colorbar": {
              "outlinewidth": 0,
              "ticks": ""
             }
            },
            "type": "scattergeo"
           }
          ],
          "scattergl": [
           {
            "marker": {
             "colorbar": {
              "outlinewidth": 0,
              "ticks": ""
             }
            },
            "type": "scattergl"
           }
          ],
          "scattermapbox": [
           {
            "marker": {
             "colorbar": {
              "outlinewidth": 0,
              "ticks": ""
             }
            },
            "type": "scattermapbox"
           }
          ],
          "scatterpolar": [
           {
            "marker": {
             "colorbar": {
              "outlinewidth": 0,
              "ticks": ""
             }
            },
            "type": "scatterpolar"
           }
          ],
          "scatterpolargl": [
           {
            "marker": {
             "colorbar": {
              "outlinewidth": 0,
              "ticks": ""
             }
            },
            "type": "scatterpolargl"
           }
          ],
          "scatterternary": [
           {
            "marker": {
             "colorbar": {
              "outlinewidth": 0,
              "ticks": ""
             }
            },
            "type": "scatterternary"
           }
          ],
          "surface": [
           {
            "colorbar": {
             "outlinewidth": 0,
             "ticks": ""
            },
            "colorscale": [
             [
              0,
              "#0d0887"
             ],
             [
              0.1111111111111111,
              "#46039f"
             ],
             [
              0.2222222222222222,
              "#7201a8"
             ],
             [
              0.3333333333333333,
              "#9c179e"
             ],
             [
              0.4444444444444444,
              "#bd3786"
             ],
             [
              0.5555555555555556,
              "#d8576b"
             ],
             [
              0.6666666666666666,
              "#ed7953"
             ],
             [
              0.7777777777777778,
              "#fb9f3a"
             ],
             [
              0.8888888888888888,
              "#fdca26"
             ],
             [
              1,
              "#f0f921"
             ]
            ],
            "type": "surface"
           }
          ],
          "table": [
           {
            "cells": {
             "fill": {
              "color": "#EBF0F8"
             },
             "line": {
              "color": "white"
             }
            },
            "header": {
             "fill": {
              "color": "#C8D4E3"
             },
             "line": {
              "color": "white"
             }
            },
            "type": "table"
           }
          ]
         },
         "layout": {
          "annotationdefaults": {
           "arrowcolor": "#2a3f5f",
           "arrowhead": 0,
           "arrowwidth": 1
          },
          "autotypenumbers": "strict",
          "coloraxis": {
           "colorbar": {
            "outlinewidth": 0,
            "ticks": ""
           }
          },
          "colorscale": {
           "diverging": [
            [
             0,
             "#8e0152"
            ],
            [
             0.1,
             "#c51b7d"
            ],
            [
             0.2,
             "#de77ae"
            ],
            [
             0.3,
             "#f1b6da"
            ],
            [
             0.4,
             "#fde0ef"
            ],
            [
             0.5,
             "#f7f7f7"
            ],
            [
             0.6,
             "#e6f5d0"
            ],
            [
             0.7,
             "#b8e186"
            ],
            [
             0.8,
             "#7fbc41"
            ],
            [
             0.9,
             "#4d9221"
            ],
            [
             1,
             "#276419"
            ]
           ],
           "sequential": [
            [
             0,
             "#0d0887"
            ],
            [
             0.1111111111111111,
             "#46039f"
            ],
            [
             0.2222222222222222,
             "#7201a8"
            ],
            [
             0.3333333333333333,
             "#9c179e"
            ],
            [
             0.4444444444444444,
             "#bd3786"
            ],
            [
             0.5555555555555556,
             "#d8576b"
            ],
            [
             0.6666666666666666,
             "#ed7953"
            ],
            [
             0.7777777777777778,
             "#fb9f3a"
            ],
            [
             0.8888888888888888,
             "#fdca26"
            ],
            [
             1,
             "#f0f921"
            ]
           ],
           "sequentialminus": [
            [
             0,
             "#0d0887"
            ],
            [
             0.1111111111111111,
             "#46039f"
            ],
            [
             0.2222222222222222,
             "#7201a8"
            ],
            [
             0.3333333333333333,
             "#9c179e"
            ],
            [
             0.4444444444444444,
             "#bd3786"
            ],
            [
             0.5555555555555556,
             "#d8576b"
            ],
            [
             0.6666666666666666,
             "#ed7953"
            ],
            [
             0.7777777777777778,
             "#fb9f3a"
            ],
            [
             0.8888888888888888,
             "#fdca26"
            ],
            [
             1,
             "#f0f921"
            ]
           ]
          },
          "colorway": [
           "#636efa",
           "#EF553B",
           "#00cc96",
           "#ab63fa",
           "#FFA15A",
           "#19d3f3",
           "#FF6692",
           "#B6E880",
           "#FF97FF",
           "#FECB52"
          ],
          "font": {
           "color": "#2a3f5f"
          },
          "geo": {
           "bgcolor": "white",
           "lakecolor": "white",
           "landcolor": "#E5ECF6",
           "showlakes": true,
           "showland": true,
           "subunitcolor": "white"
          },
          "hoverlabel": {
           "align": "left"
          },
          "hovermode": "closest",
          "mapbox": {
           "style": "light"
          },
          "paper_bgcolor": "white",
          "plot_bgcolor": "#E5ECF6",
          "polar": {
           "angularaxis": {
            "gridcolor": "white",
            "linecolor": "white",
            "ticks": ""
           },
           "bgcolor": "#E5ECF6",
           "radialaxis": {
            "gridcolor": "white",
            "linecolor": "white",
            "ticks": ""
           }
          },
          "scene": {
           "xaxis": {
            "backgroundcolor": "#E5ECF6",
            "gridcolor": "white",
            "gridwidth": 2,
            "linecolor": "white",
            "showbackground": true,
            "ticks": "",
            "zerolinecolor": "white"
           },
           "yaxis": {
            "backgroundcolor": "#E5ECF6",
            "gridcolor": "white",
            "gridwidth": 2,
            "linecolor": "white",
            "showbackground": true,
            "ticks": "",
            "zerolinecolor": "white"
           },
           "zaxis": {
            "backgroundcolor": "#E5ECF6",
            "gridcolor": "white",
            "gridwidth": 2,
            "linecolor": "white",
            "showbackground": true,
            "ticks": "",
            "zerolinecolor": "white"
           }
          },
          "shapedefaults": {
           "line": {
            "color": "#2a3f5f"
           }
          },
          "ternary": {
           "aaxis": {
            "gridcolor": "white",
            "linecolor": "white",
            "ticks": ""
           },
           "baxis": {
            "gridcolor": "white",
            "linecolor": "white",
            "ticks": ""
           },
           "bgcolor": "#E5ECF6",
           "caxis": {
            "gridcolor": "white",
            "linecolor": "white",
            "ticks": ""
           }
          },
          "title": {
           "x": 0.05
          },
          "xaxis": {
           "automargin": true,
           "gridcolor": "white",
           "linecolor": "white",
           "ticks": "",
           "title": {
            "standoff": 15
           },
           "zerolinecolor": "white",
           "zerolinewidth": 2
          },
          "yaxis": {
           "automargin": true,
           "gridcolor": "white",
           "linecolor": "white",
           "ticks": "",
           "title": {
            "standoff": 15
           },
           "zerolinecolor": "white",
           "zerolinewidth": 2
          }
         }
        },
        "title": {
         "text": "Elevers genomsnittliga meritvärde för 16 ämnen i årskurs 9 under läsår 2018-2023"
        },
        "xaxis": {
         "anchor": "y",
         "domain": [
          0,
          1
         ],
         "linecolor": "gray",
         "linewidth": 2,
         "showgrid": false,
         "showline": true,
         "showspikes": true,
         "showticklabels": true,
         "spikecolor": "gray",
         "spikedash": "solid",
         "spikemode": "across",
         "spikesnap": "cursor",
         "tickcolor": "gray",
         "ticks": "outside",
         "title": {
          "text": "Läsår"
         }
        },
        "yaxis": {
         "anchor": "x",
         "domain": [
          0,
          1
         ],
         "linecolor": "gray",
         "linewidth": 2,
         "range": [
          200,
          250
         ],
         "showgrid": false,
         "showline": true,
         "showticklabels": true,
         "ticksuffix": " ",
         "title": {
          "text": "Meritvärde"
         }
        }
       }
      }
     },
     "metadata": {},
     "output_type": "display_data"
    }
   ],
   "source": [
    "fig = px.line(\n",
    "    df_16merits_yearly,\n",
    "    x=\"Läsår\",\n",
    "    y=[\"Totalt\", \"Flickor\", \"Pojkar\"],\n",
    "    title=\"Elevers genomsnittliga meritvärde för 16 ämnen i årskurs 9 under läsår 2018-2023\",\n",
    "    markers=True,\n",
    "    color_discrete_map={\"Totalt\": \"gray\", \"Flickor\": \"#F073C3\", \"Pojkar\": \"#769BF0\"},\n",
    ").update_layout(\n",
    "    yaxis_title=\"Meritvärde\", legend_title=\"Kön\", hovermode=\"x\", yaxis_range=[200, 250]\n",
    ")\n",
    "names = {\"variable\": \"Kön\", \"value\": \"Meritvärde\"}\n",
    "fig.for_each_trace(\n",
    "    lambda t: t.update(\n",
    "        hovertemplate=t.hovertemplate.replace(\"variable\", names[\"variable\"]).replace(\n",
    "            \"value\", names[\"value\"]\n",
    "        )\n",
    "    )\n",
    ")\n",
    "\n",
    "fig.update_yaxes(\n",
    "    ticksuffix=\" \",\n",
    "    showline=True,\n",
    "    linewidth=2,\n",
    "    linecolor=\"gray\",\n",
    "    showticklabels=True,\n",
    "    showgrid=False,\n",
    ")\n",
    "fig.update_xaxes(\n",
    "    showspikes=True,\n",
    "    spikemode=\"across\",\n",
    "    spikecolor=\"gray\",\n",
    "    spikesnap=\"cursor\",\n",
    "    spikedash=\"solid\",\n",
    "    showgrid=False,\n",
    "    showline=True,\n",
    "    linewidth=2,\n",
    "    linecolor=\"gray\",\n",
    "    showticklabels=True,\n",
    "    ticks=\"outside\",\n",
    "    tickcolor=\"gray\",\n",
    ")\n",
    "\n",
    "fig.show()\n",
    "#fig.write_html(\"./Visualiseringar/elever_meritvärde_årskurs9.html\")"
   ]
  },
  {
   "cell_type": "markdown",
   "metadata": {},
   "source": [
    "### c)"
   ]
  },
  {
   "cell_type": "code",
   "execution_count": 282,
   "metadata": {},
   "outputs": [
    {
     "data": {
      "text/html": [
       "<div>\n",
       "<style scoped>\n",
       "    .dataframe tbody tr th:only-of-type {\n",
       "        vertical-align: middle;\n",
       "    }\n",
       "\n",
       "    .dataframe tbody tr th {\n",
       "        vertical-align: top;\n",
       "    }\n",
       "\n",
       "    .dataframe thead th {\n",
       "        text-align: right;\n",
       "    }\n",
       "</style>\n",
       "<table border=\"1\" class=\"dataframe\">\n",
       "  <thead>\n",
       "    <tr style=\"text-align: right;\">\n",
       "      <th></th>\n",
       "      <th>Föräldrarnas högsta utbildning</th>\n",
       "      <th>Totalt</th>\n",
       "      <th>Flickor</th>\n",
       "      <th>Pojkar</th>\n",
       "    </tr>\n",
       "  </thead>\n",
       "  <tbody>\n",
       "    <tr>\n",
       "      <th>0</th>\n",
       "      <td>Förgymnasial utbildning</td>\n",
       "      <td>63.5</td>\n",
       "      <td>61.5</td>\n",
       "      <td>65.3</td>\n",
       "    </tr>\n",
       "    <tr>\n",
       "      <th>1</th>\n",
       "      <td>Gymnasial utbildning</td>\n",
       "      <td>37.4</td>\n",
       "      <td>35.2</td>\n",
       "      <td>39.5</td>\n",
       "    </tr>\n",
       "    <tr>\n",
       "      <th>2</th>\n",
       "      <td>Eftergymnasial utbildning</td>\n",
       "      <td>16.8</td>\n",
       "      <td>16.1</td>\n",
       "      <td>17.5</td>\n",
       "    </tr>\n",
       "  </tbody>\n",
       "</table>\n",
       "</div>"
      ],
      "text/plain": [
       "  Föräldrarnas högsta utbildning  Totalt  Flickor  Pojkar\n",
       "0        Förgymnasial utbildning    63.5     61.5    65.3\n",
       "1           Gymnasial utbildning    37.4     35.2    39.5\n",
       "2      Eftergymnasial utbildning    16.8     16.1    17.5"
      ]
     },
     "execution_count": 282,
     "metadata": {},
     "output_type": "execute_result"
    }
   ],
   "source": [
    "df_parent_edu_23 = pd.read_excel(\n",
    "    \"./data/betyg_o_prov_riksnivå.xlsx\", sheet_name=\"Tabell 1B\", skiprows=29, usecols=([0, 7, 8, 9])\n",
    ").head(3)\n",
    "df_parent_edu_23.columns = [\n",
    "    \"Föräldrarnas högsta utbildning\",\n",
    "    \"Totalt\",\n",
    "    \"Flickor\",\n",
    "    \"Pojkar\",\n",
    "]\n",
    "df_parent_edu_23"
   ]
  },
  {
   "cell_type": "code",
   "execution_count": 324,
   "metadata": {},
   "outputs": [
    {
     "data": {
      "application/vnd.plotly.v1+json": {
       "config": {
        "plotlyServerURL": "https://plot.ly"
       },
       "data": [
        {
         "alignmentgroup": "True",
         "hovertemplate": "Kön=Flickor<br>Föräldrarnas högsta utbildning=%{x}<br>%=%{y}<extra></extra>",
         "legendgroup": "Flickor",
         "marker": {
          "color": "#F073C3",
          "pattern": {
           "shape": ""
          }
         },
         "name": "Flickor",
         "offsetgroup": "Flickor",
         "orientation": "v",
         "showlegend": true,
         "textposition": "outside",
         "texttemplate": "%{y}",
         "type": "bar",
         "x": [
          "Förgymnasial utbildning",
          "Gymnasial utbildning",
          "Eftergymnasial utbildning"
         ],
         "xaxis": "x",
         "y": [
          61.5,
          35.2,
          16.1
         ],
         "yaxis": "y"
        },
        {
         "alignmentgroup": "True",
         "hovertemplate": "Kön=Pojkar<br>Föräldrarnas högsta utbildning=%{x}<br>%=%{y}<extra></extra>",
         "legendgroup": "Pojkar",
         "marker": {
          "color": "#769BF0",
          "pattern": {
           "shape": ""
          }
         },
         "name": "Pojkar",
         "offsetgroup": "Pojkar",
         "orientation": "v",
         "showlegend": true,
         "textposition": "outside",
         "texttemplate": "%{y}",
         "type": "bar",
         "x": [
          "Förgymnasial utbildning",
          "Gymnasial utbildning",
          "Eftergymnasial utbildning"
         ],
         "xaxis": "x",
         "y": [
          65.3,
          39.5,
          17.5
         ],
         "yaxis": "y"
        }
       ],
       "layout": {
        "barmode": "group",
        "legend": {
         "title": {
          "text": "Kön"
         },
         "tracegroupgap": 0
        },
        "template": {
         "data": {
          "bar": [
           {
            "error_x": {
             "color": "#2a3f5f"
            },
            "error_y": {
             "color": "#2a3f5f"
            },
            "marker": {
             "line": {
              "color": "#E5ECF6",
              "width": 0.5
             },
             "pattern": {
              "fillmode": "overlay",
              "size": 10,
              "solidity": 0.2
             }
            },
            "type": "bar"
           }
          ],
          "barpolar": [
           {
            "marker": {
             "line": {
              "color": "#E5ECF6",
              "width": 0.5
             },
             "pattern": {
              "fillmode": "overlay",
              "size": 10,
              "solidity": 0.2
             }
            },
            "type": "barpolar"
           }
          ],
          "carpet": [
           {
            "aaxis": {
             "endlinecolor": "#2a3f5f",
             "gridcolor": "white",
             "linecolor": "white",
             "minorgridcolor": "white",
             "startlinecolor": "#2a3f5f"
            },
            "baxis": {
             "endlinecolor": "#2a3f5f",
             "gridcolor": "white",
             "linecolor": "white",
             "minorgridcolor": "white",
             "startlinecolor": "#2a3f5f"
            },
            "type": "carpet"
           }
          ],
          "choropleth": [
           {
            "colorbar": {
             "outlinewidth": 0,
             "ticks": ""
            },
            "type": "choropleth"
           }
          ],
          "contour": [
           {
            "colorbar": {
             "outlinewidth": 0,
             "ticks": ""
            },
            "colorscale": [
             [
              0,
              "#0d0887"
             ],
             [
              0.1111111111111111,
              "#46039f"
             ],
             [
              0.2222222222222222,
              "#7201a8"
             ],
             [
              0.3333333333333333,
              "#9c179e"
             ],
             [
              0.4444444444444444,
              "#bd3786"
             ],
             [
              0.5555555555555556,
              "#d8576b"
             ],
             [
              0.6666666666666666,
              "#ed7953"
             ],
             [
              0.7777777777777778,
              "#fb9f3a"
             ],
             [
              0.8888888888888888,
              "#fdca26"
             ],
             [
              1,
              "#f0f921"
             ]
            ],
            "type": "contour"
           }
          ],
          "contourcarpet": [
           {
            "colorbar": {
             "outlinewidth": 0,
             "ticks": ""
            },
            "type": "contourcarpet"
           }
          ],
          "heatmap": [
           {
            "colorbar": {
             "outlinewidth": 0,
             "ticks": ""
            },
            "colorscale": [
             [
              0,
              "#0d0887"
             ],
             [
              0.1111111111111111,
              "#46039f"
             ],
             [
              0.2222222222222222,
              "#7201a8"
             ],
             [
              0.3333333333333333,
              "#9c179e"
             ],
             [
              0.4444444444444444,
              "#bd3786"
             ],
             [
              0.5555555555555556,
              "#d8576b"
             ],
             [
              0.6666666666666666,
              "#ed7953"
             ],
             [
              0.7777777777777778,
              "#fb9f3a"
             ],
             [
              0.8888888888888888,
              "#fdca26"
             ],
             [
              1,
              "#f0f921"
             ]
            ],
            "type": "heatmap"
           }
          ],
          "heatmapgl": [
           {
            "colorbar": {
             "outlinewidth": 0,
             "ticks": ""
            },
            "colorscale": [
             [
              0,
              "#0d0887"
             ],
             [
              0.1111111111111111,
              "#46039f"
             ],
             [
              0.2222222222222222,
              "#7201a8"
             ],
             [
              0.3333333333333333,
              "#9c179e"
             ],
             [
              0.4444444444444444,
              "#bd3786"
             ],
             [
              0.5555555555555556,
              "#d8576b"
             ],
             [
              0.6666666666666666,
              "#ed7953"
             ],
             [
              0.7777777777777778,
              "#fb9f3a"
             ],
             [
              0.8888888888888888,
              "#fdca26"
             ],
             [
              1,
              "#f0f921"
             ]
            ],
            "type": "heatmapgl"
           }
          ],
          "histogram": [
           {
            "marker": {
             "pattern": {
              "fillmode": "overlay",
              "size": 10,
              "solidity": 0.2
             }
            },
            "type": "histogram"
           }
          ],
          "histogram2d": [
           {
            "colorbar": {
             "outlinewidth": 0,
             "ticks": ""
            },
            "colorscale": [
             [
              0,
              "#0d0887"
             ],
             [
              0.1111111111111111,
              "#46039f"
             ],
             [
              0.2222222222222222,
              "#7201a8"
             ],
             [
              0.3333333333333333,
              "#9c179e"
             ],
             [
              0.4444444444444444,
              "#bd3786"
             ],
             [
              0.5555555555555556,
              "#d8576b"
             ],
             [
              0.6666666666666666,
              "#ed7953"
             ],
             [
              0.7777777777777778,
              "#fb9f3a"
             ],
             [
              0.8888888888888888,
              "#fdca26"
             ],
             [
              1,
              "#f0f921"
             ]
            ],
            "type": "histogram2d"
           }
          ],
          "histogram2dcontour": [
           {
            "colorbar": {
             "outlinewidth": 0,
             "ticks": ""
            },
            "colorscale": [
             [
              0,
              "#0d0887"
             ],
             [
              0.1111111111111111,
              "#46039f"
             ],
             [
              0.2222222222222222,
              "#7201a8"
             ],
             [
              0.3333333333333333,
              "#9c179e"
             ],
             [
              0.4444444444444444,
              "#bd3786"
             ],
             [
              0.5555555555555556,
              "#d8576b"
             ],
             [
              0.6666666666666666,
              "#ed7953"
             ],
             [
              0.7777777777777778,
              "#fb9f3a"
             ],
             [
              0.8888888888888888,
              "#fdca26"
             ],
             [
              1,
              "#f0f921"
             ]
            ],
            "type": "histogram2dcontour"
           }
          ],
          "mesh3d": [
           {
            "colorbar": {
             "outlinewidth": 0,
             "ticks": ""
            },
            "type": "mesh3d"
           }
          ],
          "parcoords": [
           {
            "line": {
             "colorbar": {
              "outlinewidth": 0,
              "ticks": ""
             }
            },
            "type": "parcoords"
           }
          ],
          "pie": [
           {
            "automargin": true,
            "type": "pie"
           }
          ],
          "scatter": [
           {
            "fillpattern": {
             "fillmode": "overlay",
             "size": 10,
             "solidity": 0.2
            },
            "type": "scatter"
           }
          ],
          "scatter3d": [
           {
            "line": {
             "colorbar": {
              "outlinewidth": 0,
              "ticks": ""
             }
            },
            "marker": {
             "colorbar": {
              "outlinewidth": 0,
              "ticks": ""
             }
            },
            "type": "scatter3d"
           }
          ],
          "scattercarpet": [
           {
            "marker": {
             "colorbar": {
              "outlinewidth": 0,
              "ticks": ""
             }
            },
            "type": "scattercarpet"
           }
          ],
          "scattergeo": [
           {
            "marker": {
             "colorbar": {
              "outlinewidth": 0,
              "ticks": ""
             }
            },
            "type": "scattergeo"
           }
          ],
          "scattergl": [
           {
            "marker": {
             "colorbar": {
              "outlinewidth": 0,
              "ticks": ""
             }
            },
            "type": "scattergl"
           }
          ],
          "scattermapbox": [
           {
            "marker": {
             "colorbar": {
              "outlinewidth": 0,
              "ticks": ""
             }
            },
            "type": "scattermapbox"
           }
          ],
          "scatterpolar": [
           {
            "marker": {
             "colorbar": {
              "outlinewidth": 0,
              "ticks": ""
             }
            },
            "type": "scatterpolar"
           }
          ],
          "scatterpolargl": [
           {
            "marker": {
             "colorbar": {
              "outlinewidth": 0,
              "ticks": ""
             }
            },
            "type": "scatterpolargl"
           }
          ],
          "scatterternary": [
           {
            "marker": {
             "colorbar": {
              "outlinewidth": 0,
              "ticks": ""
             }
            },
            "type": "scatterternary"
           }
          ],
          "surface": [
           {
            "colorbar": {
             "outlinewidth": 0,
             "ticks": ""
            },
            "colorscale": [
             [
              0,
              "#0d0887"
             ],
             [
              0.1111111111111111,
              "#46039f"
             ],
             [
              0.2222222222222222,
              "#7201a8"
             ],
             [
              0.3333333333333333,
              "#9c179e"
             ],
             [
              0.4444444444444444,
              "#bd3786"
             ],
             [
              0.5555555555555556,
              "#d8576b"
             ],
             [
              0.6666666666666666,
              "#ed7953"
             ],
             [
              0.7777777777777778,
              "#fb9f3a"
             ],
             [
              0.8888888888888888,
              "#fdca26"
             ],
             [
              1,
              "#f0f921"
             ]
            ],
            "type": "surface"
           }
          ],
          "table": [
           {
            "cells": {
             "fill": {
              "color": "#EBF0F8"
             },
             "line": {
              "color": "white"
             }
            },
            "header": {
             "fill": {
              "color": "#C8D4E3"
             },
             "line": {
              "color": "white"
             }
            },
            "type": "table"
           }
          ]
         },
         "layout": {
          "annotationdefaults": {
           "arrowcolor": "#2a3f5f",
           "arrowhead": 0,
           "arrowwidth": 1
          },
          "autotypenumbers": "strict",
          "coloraxis": {
           "colorbar": {
            "outlinewidth": 0,
            "ticks": ""
           }
          },
          "colorscale": {
           "diverging": [
            [
             0,
             "#8e0152"
            ],
            [
             0.1,
             "#c51b7d"
            ],
            [
             0.2,
             "#de77ae"
            ],
            [
             0.3,
             "#f1b6da"
            ],
            [
             0.4,
             "#fde0ef"
            ],
            [
             0.5,
             "#f7f7f7"
            ],
            [
             0.6,
             "#e6f5d0"
            ],
            [
             0.7,
             "#b8e186"
            ],
            [
             0.8,
             "#7fbc41"
            ],
            [
             0.9,
             "#4d9221"
            ],
            [
             1,
             "#276419"
            ]
           ],
           "sequential": [
            [
             0,
             "#0d0887"
            ],
            [
             0.1111111111111111,
             "#46039f"
            ],
            [
             0.2222222222222222,
             "#7201a8"
            ],
            [
             0.3333333333333333,
             "#9c179e"
            ],
            [
             0.4444444444444444,
             "#bd3786"
            ],
            [
             0.5555555555555556,
             "#d8576b"
            ],
            [
             0.6666666666666666,
             "#ed7953"
            ],
            [
             0.7777777777777778,
             "#fb9f3a"
            ],
            [
             0.8888888888888888,
             "#fdca26"
            ],
            [
             1,
             "#f0f921"
            ]
           ],
           "sequentialminus": [
            [
             0,
             "#0d0887"
            ],
            [
             0.1111111111111111,
             "#46039f"
            ],
            [
             0.2222222222222222,
             "#7201a8"
            ],
            [
             0.3333333333333333,
             "#9c179e"
            ],
            [
             0.4444444444444444,
             "#bd3786"
            ],
            [
             0.5555555555555556,
             "#d8576b"
            ],
            [
             0.6666666666666666,
             "#ed7953"
            ],
            [
             0.7777777777777778,
             "#fb9f3a"
            ],
            [
             0.8888888888888888,
             "#fdca26"
            ],
            [
             1,
             "#f0f921"
            ]
           ]
          },
          "colorway": [
           "#636efa",
           "#EF553B",
           "#00cc96",
           "#ab63fa",
           "#FFA15A",
           "#19d3f3",
           "#FF6692",
           "#B6E880",
           "#FF97FF",
           "#FECB52"
          ],
          "font": {
           "color": "#2a3f5f"
          },
          "geo": {
           "bgcolor": "white",
           "lakecolor": "white",
           "landcolor": "#E5ECF6",
           "showlakes": true,
           "showland": true,
           "subunitcolor": "white"
          },
          "hoverlabel": {
           "align": "left"
          },
          "hovermode": "closest",
          "mapbox": {
           "style": "light"
          },
          "paper_bgcolor": "white",
          "plot_bgcolor": "#E5ECF6",
          "polar": {
           "angularaxis": {
            "gridcolor": "white",
            "linecolor": "white",
            "ticks": ""
           },
           "bgcolor": "#E5ECF6",
           "radialaxis": {
            "gridcolor": "white",
            "linecolor": "white",
            "ticks": ""
           }
          },
          "scene": {
           "xaxis": {
            "backgroundcolor": "#E5ECF6",
            "gridcolor": "white",
            "gridwidth": 2,
            "linecolor": "white",
            "showbackground": true,
            "ticks": "",
            "zerolinecolor": "white"
           },
           "yaxis": {
            "backgroundcolor": "#E5ECF6",
            "gridcolor": "white",
            "gridwidth": 2,
            "linecolor": "white",
            "showbackground": true,
            "ticks": "",
            "zerolinecolor": "white"
           },
           "zaxis": {
            "backgroundcolor": "#E5ECF6",
            "gridcolor": "white",
            "gridwidth": 2,
            "linecolor": "white",
            "showbackground": true,
            "ticks": "",
            "zerolinecolor": "white"
           }
          },
          "shapedefaults": {
           "line": {
            "color": "#2a3f5f"
           }
          },
          "ternary": {
           "aaxis": {
            "gridcolor": "white",
            "linecolor": "white",
            "ticks": ""
           },
           "baxis": {
            "gridcolor": "white",
            "linecolor": "white",
            "ticks": ""
           },
           "bgcolor": "#E5ECF6",
           "caxis": {
            "gridcolor": "white",
            "linecolor": "white",
            "ticks": ""
           }
          },
          "title": {
           "x": 0.05
          },
          "xaxis": {
           "automargin": true,
           "gridcolor": "white",
           "linecolor": "white",
           "ticks": "",
           "title": {
            "standoff": 15
           },
           "zerolinecolor": "white",
           "zerolinewidth": 2
          },
          "yaxis": {
           "automargin": true,
           "gridcolor": "white",
           "linecolor": "white",
           "ticks": "",
           "title": {
            "standoff": 15
           },
           "zerolinecolor": "white",
           "zerolinewidth": 2
          }
         }
        },
        "title": {
         "text": "Andel flickor och pojkar i årskurs 9 som saknar godkänt betyg i ett eller flera ämnen<br>för läsåret 2022/2023 baserat på föräldrarnas högsta utbildningnivå"
        },
        "xaxis": {
         "anchor": "y",
         "domain": [
          0,
          1
         ],
         "linecolor": "gray",
         "linewidth": 2,
         "showline": true,
         "showticklabels": true,
         "tickcolor": "gray",
         "ticks": "outside",
         "title": {
          "text": "Föräldrarnas högsta utbildning"
         }
        },
        "yaxis": {
         "anchor": "x",
         "domain": [
          0,
          1
         ],
         "dtick": 25,
         "linecolor": "gray",
         "linewidth": 2,
         "range": [
          0,
          100
         ],
         "showline": true,
         "showticklabels": true,
         "tick0": 0,
         "tickmode": "linear",
         "ticksuffix": " ",
         "title": {
          "text": "Procent %"
         }
        }
       }
      }
     },
     "metadata": {},
     "output_type": "display_data"
    }
   ],
   "source": [
    "fig = px.bar(\n",
    "    df_parent_edu_23,\n",
    "    x=\"Föräldrarnas högsta utbildning\",\n",
    "    y=[\"Flickor\", \"Pojkar\"],\n",
    "    barmode=\"group\",\n",
    "    title=\"Andel flickor och pojkar i årskurs 9 som saknar godkänt betyg i ett eller flera ämnen<br>för läsåret 2022/2023 baserat på föräldrarnas högsta utbildningnivå\",\n",
    "    color_discrete_map={\"Flickor\": \"#F073C3\", \"Pojkar\": \"#769BF0\"},\n",
    "    text_auto=True\n",
    ").update_layout(\n",
    "    yaxis_title=\"Procent %\",\n",
    "    legend_title=\"Kön\",\n",
    "    yaxis_range=[0, 100],\n",
    "    yaxis=dict(tickmode=\"linear\", tick0=0, dtick=25),\n",
    ")\n",
    "names = {\"variable\": \"Kön\", \"value\": \"%\"}\n",
    "fig.for_each_trace(\n",
    "    lambda t: t.update(\n",
    "        hovertemplate=t.hovertemplate.replace(\"variable\", names[\"variable\"]).replace(\n",
    "            \"value\", names[\"value\"]\n",
    "        )\n",
    "    )\n",
    ")\n",
    "fig.update_traces(textposition=\"outside\")\n",
    "fig.update_yaxes(\n",
    "    ticksuffix=\" \",\n",
    "    showline=True,\n",
    "    linewidth=2,\n",
    "    linecolor=\"gray\",\n",
    "    showticklabels=True,\n",
    ")\n",
    "fig.update_xaxes(\n",
    "    showline=True,\n",
    "    linewidth=2,\n",
    "    linecolor=\"gray\",\n",
    "    showticklabels=True,\n",
    "    ticks=\"outside\",\n",
    "    tickcolor=\"gray\",\n",
    ")\n",
    "\n",
    "fig.show()\n",
    "#fig.write_html(\"./Visualiseringar/pojkarflickor_saknatbetyg_årskurs9.html\")"
   ]
  },
  {
   "cell_type": "code",
   "execution_count": 284,
   "metadata": {},
   "outputs": [
    {
     "data": {
      "text/html": [
       "<div>\n",
       "<style scoped>\n",
       "    .dataframe tbody tr th:only-of-type {\n",
       "        vertical-align: middle;\n",
       "    }\n",
       "\n",
       "    .dataframe tbody tr th {\n",
       "        vertical-align: top;\n",
       "    }\n",
       "\n",
       "    .dataframe thead th {\n",
       "        text-align: right;\n",
       "    }\n",
       "</style>\n",
       "<table border=\"1\" class=\"dataframe\">\n",
       "  <thead>\n",
       "    <tr style=\"text-align: right;\">\n",
       "      <th></th>\n",
       "      <th>Elevers bakgrund</th>\n",
       "      <th>Totalt</th>\n",
       "      <th>Flickor</th>\n",
       "      <th>Pojkar</th>\n",
       "    </tr>\n",
       "  </thead>\n",
       "  <tbody>\n",
       "    <tr>\n",
       "      <th>0</th>\n",
       "      <td>Elever med svensk bakgrund</td>\n",
       "      <td>236.0</td>\n",
       "      <td>245.4</td>\n",
       "      <td>227.1</td>\n",
       "    </tr>\n",
       "    <tr>\n",
       "      <th>1</th>\n",
       "      <td>Elever med utländsk bakgrund</td>\n",
       "      <td>210.2</td>\n",
       "      <td>221.0</td>\n",
       "      <td>200.1</td>\n",
       "    </tr>\n",
       "    <tr>\n",
       "      <th>8</th>\n",
       "      <td>Elever med okänd bakgrund</td>\n",
       "      <td>135.2</td>\n",
       "      <td>135.8</td>\n",
       "      <td>134.6</td>\n",
       "    </tr>\n",
       "  </tbody>\n",
       "</table>\n",
       "</div>"
      ],
      "text/plain": [
       "               Elevers bakgrund  Totalt  Flickor  Pojkar\n",
       "0    Elever med svensk bakgrund   236.0    245.4   227.1\n",
       "1  Elever med utländsk bakgrund   210.2    221.0   200.1\n",
       "8     Elever med okänd bakgrund   135.2    135.8   134.6"
      ]
     },
     "execution_count": 284,
     "metadata": {},
     "output_type": "execute_result"
    }
   ],
   "source": [
    "df_student_origin_23 = pd.read_excel(\n",
    "    \"./data/betyg_o_prov_riksnivå.xlsx\", sheet_name=\"Tabell 1B\", skiprows=19, usecols=([0, 4, 5, 6])\n",
    ").head(9).drop(index=(range(2, 8)))\n",
    "df_student_origin_23.columns = [\n",
    "    \"Elevers bakgrund\",\n",
    "    \"Totalt\",\n",
    "    \"Flickor\",\n",
    "    \"Pojkar\",\n",
    "]\n",
    "\n",
    "df_student_origin_23"
   ]
  },
  {
   "cell_type": "code",
   "execution_count": 323,
   "metadata": {},
   "outputs": [
    {
     "data": {
      "application/vnd.plotly.v1+json": {
       "config": {
        "plotlyServerURL": "https://plot.ly"
       },
       "data": [
        {
         "alignmentgroup": "True",
         "hovertemplate": "Kön=Totalt<br>Elevers bakgrund=%{x}<br>%=%{y}<extra></extra>",
         "legendgroup": "Totalt",
         "marker": {
          "color": "gray",
          "pattern": {
           "shape": ""
          }
         },
         "name": "Totalt",
         "offsetgroup": "Totalt",
         "orientation": "v",
         "showlegend": true,
         "textposition": "outside",
         "texttemplate": "%{y}",
         "type": "bar",
         "x": [
          "Elever med svensk bakgrund",
          "Elever med utländsk bakgrund",
          "Elever med okänd bakgrund"
         ],
         "xaxis": "x",
         "y": [
          236,
          210.2,
          135.2
         ],
         "yaxis": "y"
        },
        {
         "alignmentgroup": "True",
         "hovertemplate": "Kön=Flickor<br>Elevers bakgrund=%{x}<br>%=%{y}<extra></extra>",
         "legendgroup": "Flickor",
         "marker": {
          "color": "#F073C3",
          "pattern": {
           "shape": ""
          }
         },
         "name": "Flickor",
         "offsetgroup": "Flickor",
         "orientation": "v",
         "showlegend": true,
         "textposition": "outside",
         "texttemplate": "%{y}",
         "type": "bar",
         "x": [
          "Elever med svensk bakgrund",
          "Elever med utländsk bakgrund",
          "Elever med okänd bakgrund"
         ],
         "xaxis": "x",
         "y": [
          245.4,
          221,
          135.8
         ],
         "yaxis": "y"
        },
        {
         "alignmentgroup": "True",
         "hovertemplate": "Kön=Pojkar<br>Elevers bakgrund=%{x}<br>%=%{y}<extra></extra>",
         "legendgroup": "Pojkar",
         "marker": {
          "color": "#769BF0",
          "pattern": {
           "shape": ""
          }
         },
         "name": "Pojkar",
         "offsetgroup": "Pojkar",
         "orientation": "v",
         "showlegend": true,
         "textposition": "outside",
         "texttemplate": "%{y}",
         "type": "bar",
         "x": [
          "Elever med svensk bakgrund",
          "Elever med utländsk bakgrund",
          "Elever med okänd bakgrund"
         ],
         "xaxis": "x",
         "y": [
          227.1,
          200.1,
          134.6
         ],
         "yaxis": "y"
        }
       ],
       "layout": {
        "barmode": "group",
        "legend": {
         "title": {
          "text": "Kön"
         },
         "tracegroupgap": 0
        },
        "template": {
         "data": {
          "bar": [
           {
            "error_x": {
             "color": "#2a3f5f"
            },
            "error_y": {
             "color": "#2a3f5f"
            },
            "marker": {
             "line": {
              "color": "#E5ECF6",
              "width": 0.5
             },
             "pattern": {
              "fillmode": "overlay",
              "size": 10,
              "solidity": 0.2
             }
            },
            "type": "bar"
           }
          ],
          "barpolar": [
           {
            "marker": {
             "line": {
              "color": "#E5ECF6",
              "width": 0.5
             },
             "pattern": {
              "fillmode": "overlay",
              "size": 10,
              "solidity": 0.2
             }
            },
            "type": "barpolar"
           }
          ],
          "carpet": [
           {
            "aaxis": {
             "endlinecolor": "#2a3f5f",
             "gridcolor": "white",
             "linecolor": "white",
             "minorgridcolor": "white",
             "startlinecolor": "#2a3f5f"
            },
            "baxis": {
             "endlinecolor": "#2a3f5f",
             "gridcolor": "white",
             "linecolor": "white",
             "minorgridcolor": "white",
             "startlinecolor": "#2a3f5f"
            },
            "type": "carpet"
           }
          ],
          "choropleth": [
           {
            "colorbar": {
             "outlinewidth": 0,
             "ticks": ""
            },
            "type": "choropleth"
           }
          ],
          "contour": [
           {
            "colorbar": {
             "outlinewidth": 0,
             "ticks": ""
            },
            "colorscale": [
             [
              0,
              "#0d0887"
             ],
             [
              0.1111111111111111,
              "#46039f"
             ],
             [
              0.2222222222222222,
              "#7201a8"
             ],
             [
              0.3333333333333333,
              "#9c179e"
             ],
             [
              0.4444444444444444,
              "#bd3786"
             ],
             [
              0.5555555555555556,
              "#d8576b"
             ],
             [
              0.6666666666666666,
              "#ed7953"
             ],
             [
              0.7777777777777778,
              "#fb9f3a"
             ],
             [
              0.8888888888888888,
              "#fdca26"
             ],
             [
              1,
              "#f0f921"
             ]
            ],
            "type": "contour"
           }
          ],
          "contourcarpet": [
           {
            "colorbar": {
             "outlinewidth": 0,
             "ticks": ""
            },
            "type": "contourcarpet"
           }
          ],
          "heatmap": [
           {
            "colorbar": {
             "outlinewidth": 0,
             "ticks": ""
            },
            "colorscale": [
             [
              0,
              "#0d0887"
             ],
             [
              0.1111111111111111,
              "#46039f"
             ],
             [
              0.2222222222222222,
              "#7201a8"
             ],
             [
              0.3333333333333333,
              "#9c179e"
             ],
             [
              0.4444444444444444,
              "#bd3786"
             ],
             [
              0.5555555555555556,
              "#d8576b"
             ],
             [
              0.6666666666666666,
              "#ed7953"
             ],
             [
              0.7777777777777778,
              "#fb9f3a"
             ],
             [
              0.8888888888888888,
              "#fdca26"
             ],
             [
              1,
              "#f0f921"
             ]
            ],
            "type": "heatmap"
           }
          ],
          "heatmapgl": [
           {
            "colorbar": {
             "outlinewidth": 0,
             "ticks": ""
            },
            "colorscale": [
             [
              0,
              "#0d0887"
             ],
             [
              0.1111111111111111,
              "#46039f"
             ],
             [
              0.2222222222222222,
              "#7201a8"
             ],
             [
              0.3333333333333333,
              "#9c179e"
             ],
             [
              0.4444444444444444,
              "#bd3786"
             ],
             [
              0.5555555555555556,
              "#d8576b"
             ],
             [
              0.6666666666666666,
              "#ed7953"
             ],
             [
              0.7777777777777778,
              "#fb9f3a"
             ],
             [
              0.8888888888888888,
              "#fdca26"
             ],
             [
              1,
              "#f0f921"
             ]
            ],
            "type": "heatmapgl"
           }
          ],
          "histogram": [
           {
            "marker": {
             "pattern": {
              "fillmode": "overlay",
              "size": 10,
              "solidity": 0.2
             }
            },
            "type": "histogram"
           }
          ],
          "histogram2d": [
           {
            "colorbar": {
             "outlinewidth": 0,
             "ticks": ""
            },
            "colorscale": [
             [
              0,
              "#0d0887"
             ],
             [
              0.1111111111111111,
              "#46039f"
             ],
             [
              0.2222222222222222,
              "#7201a8"
             ],
             [
              0.3333333333333333,
              "#9c179e"
             ],
             [
              0.4444444444444444,
              "#bd3786"
             ],
             [
              0.5555555555555556,
              "#d8576b"
             ],
             [
              0.6666666666666666,
              "#ed7953"
             ],
             [
              0.7777777777777778,
              "#fb9f3a"
             ],
             [
              0.8888888888888888,
              "#fdca26"
             ],
             [
              1,
              "#f0f921"
             ]
            ],
            "type": "histogram2d"
           }
          ],
          "histogram2dcontour": [
           {
            "colorbar": {
             "outlinewidth": 0,
             "ticks": ""
            },
            "colorscale": [
             [
              0,
              "#0d0887"
             ],
             [
              0.1111111111111111,
              "#46039f"
             ],
             [
              0.2222222222222222,
              "#7201a8"
             ],
             [
              0.3333333333333333,
              "#9c179e"
             ],
             [
              0.4444444444444444,
              "#bd3786"
             ],
             [
              0.5555555555555556,
              "#d8576b"
             ],
             [
              0.6666666666666666,
              "#ed7953"
             ],
             [
              0.7777777777777778,
              "#fb9f3a"
             ],
             [
              0.8888888888888888,
              "#fdca26"
             ],
             [
              1,
              "#f0f921"
             ]
            ],
            "type": "histogram2dcontour"
           }
          ],
          "mesh3d": [
           {
            "colorbar": {
             "outlinewidth": 0,
             "ticks": ""
            },
            "type": "mesh3d"
           }
          ],
          "parcoords": [
           {
            "line": {
             "colorbar": {
              "outlinewidth": 0,
              "ticks": ""
             }
            },
            "type": "parcoords"
           }
          ],
          "pie": [
           {
            "automargin": true,
            "type": "pie"
           }
          ],
          "scatter": [
           {
            "fillpattern": {
             "fillmode": "overlay",
             "size": 10,
             "solidity": 0.2
            },
            "type": "scatter"
           }
          ],
          "scatter3d": [
           {
            "line": {
             "colorbar": {
              "outlinewidth": 0,
              "ticks": ""
             }
            },
            "marker": {
             "colorbar": {
              "outlinewidth": 0,
              "ticks": ""
             }
            },
            "type": "scatter3d"
           }
          ],
          "scattercarpet": [
           {
            "marker": {
             "colorbar": {
              "outlinewidth": 0,
              "ticks": ""
             }
            },
            "type": "scattercarpet"
           }
          ],
          "scattergeo": [
           {
            "marker": {
             "colorbar": {
              "outlinewidth": 0,
              "ticks": ""
             }
            },
            "type": "scattergeo"
           }
          ],
          "scattergl": [
           {
            "marker": {
             "colorbar": {
              "outlinewidth": 0,
              "ticks": ""
             }
            },
            "type": "scattergl"
           }
          ],
          "scattermapbox": [
           {
            "marker": {
             "colorbar": {
              "outlinewidth": 0,
              "ticks": ""
             }
            },
            "type": "scattermapbox"
           }
          ],
          "scatterpolar": [
           {
            "marker": {
             "colorbar": {
              "outlinewidth": 0,
              "ticks": ""
             }
            },
            "type": "scatterpolar"
           }
          ],
          "scatterpolargl": [
           {
            "marker": {
             "colorbar": {
              "outlinewidth": 0,
              "ticks": ""
             }
            },
            "type": "scatterpolargl"
           }
          ],
          "scatterternary": [
           {
            "marker": {
             "colorbar": {
              "outlinewidth": 0,
              "ticks": ""
             }
            },
            "type": "scatterternary"
           }
          ],
          "surface": [
           {
            "colorbar": {
             "outlinewidth": 0,
             "ticks": ""
            },
            "colorscale": [
             [
              0,
              "#0d0887"
             ],
             [
              0.1111111111111111,
              "#46039f"
             ],
             [
              0.2222222222222222,
              "#7201a8"
             ],
             [
              0.3333333333333333,
              "#9c179e"
             ],
             [
              0.4444444444444444,
              "#bd3786"
             ],
             [
              0.5555555555555556,
              "#d8576b"
             ],
             [
              0.6666666666666666,
              "#ed7953"
             ],
             [
              0.7777777777777778,
              "#fb9f3a"
             ],
             [
              0.8888888888888888,
              "#fdca26"
             ],
             [
              1,
              "#f0f921"
             ]
            ],
            "type": "surface"
           }
          ],
          "table": [
           {
            "cells": {
             "fill": {
              "color": "#EBF0F8"
             },
             "line": {
              "color": "white"
             }
            },
            "header": {
             "fill": {
              "color": "#C8D4E3"
             },
             "line": {
              "color": "white"
             }
            },
            "type": "table"
           }
          ]
         },
         "layout": {
          "annotationdefaults": {
           "arrowcolor": "#2a3f5f",
           "arrowhead": 0,
           "arrowwidth": 1
          },
          "autotypenumbers": "strict",
          "coloraxis": {
           "colorbar": {
            "outlinewidth": 0,
            "ticks": ""
           }
          },
          "colorscale": {
           "diverging": [
            [
             0,
             "#8e0152"
            ],
            [
             0.1,
             "#c51b7d"
            ],
            [
             0.2,
             "#de77ae"
            ],
            [
             0.3,
             "#f1b6da"
            ],
            [
             0.4,
             "#fde0ef"
            ],
            [
             0.5,
             "#f7f7f7"
            ],
            [
             0.6,
             "#e6f5d0"
            ],
            [
             0.7,
             "#b8e186"
            ],
            [
             0.8,
             "#7fbc41"
            ],
            [
             0.9,
             "#4d9221"
            ],
            [
             1,
             "#276419"
            ]
           ],
           "sequential": [
            [
             0,
             "#0d0887"
            ],
            [
             0.1111111111111111,
             "#46039f"
            ],
            [
             0.2222222222222222,
             "#7201a8"
            ],
            [
             0.3333333333333333,
             "#9c179e"
            ],
            [
             0.4444444444444444,
             "#bd3786"
            ],
            [
             0.5555555555555556,
             "#d8576b"
            ],
            [
             0.6666666666666666,
             "#ed7953"
            ],
            [
             0.7777777777777778,
             "#fb9f3a"
            ],
            [
             0.8888888888888888,
             "#fdca26"
            ],
            [
             1,
             "#f0f921"
            ]
           ],
           "sequentialminus": [
            [
             0,
             "#0d0887"
            ],
            [
             0.1111111111111111,
             "#46039f"
            ],
            [
             0.2222222222222222,
             "#7201a8"
            ],
            [
             0.3333333333333333,
             "#9c179e"
            ],
            [
             0.4444444444444444,
             "#bd3786"
            ],
            [
             0.5555555555555556,
             "#d8576b"
            ],
            [
             0.6666666666666666,
             "#ed7953"
            ],
            [
             0.7777777777777778,
             "#fb9f3a"
            ],
            [
             0.8888888888888888,
             "#fdca26"
            ],
            [
             1,
             "#f0f921"
            ]
           ]
          },
          "colorway": [
           "#636efa",
           "#EF553B",
           "#00cc96",
           "#ab63fa",
           "#FFA15A",
           "#19d3f3",
           "#FF6692",
           "#B6E880",
           "#FF97FF",
           "#FECB52"
          ],
          "font": {
           "color": "#2a3f5f"
          },
          "geo": {
           "bgcolor": "white",
           "lakecolor": "white",
           "landcolor": "#E5ECF6",
           "showlakes": true,
           "showland": true,
           "subunitcolor": "white"
          },
          "hoverlabel": {
           "align": "left"
          },
          "hovermode": "closest",
          "mapbox": {
           "style": "light"
          },
          "paper_bgcolor": "white",
          "plot_bgcolor": "#E5ECF6",
          "polar": {
           "angularaxis": {
            "gridcolor": "white",
            "linecolor": "white",
            "ticks": ""
           },
           "bgcolor": "#E5ECF6",
           "radialaxis": {
            "gridcolor": "white",
            "linecolor": "white",
            "ticks": ""
           }
          },
          "scene": {
           "xaxis": {
            "backgroundcolor": "#E5ECF6",
            "gridcolor": "white",
            "gridwidth": 2,
            "linecolor": "white",
            "showbackground": true,
            "ticks": "",
            "zerolinecolor": "white"
           },
           "yaxis": {
            "backgroundcolor": "#E5ECF6",
            "gridcolor": "white",
            "gridwidth": 2,
            "linecolor": "white",
            "showbackground": true,
            "ticks": "",
            "zerolinecolor": "white"
           },
           "zaxis": {
            "backgroundcolor": "#E5ECF6",
            "gridcolor": "white",
            "gridwidth": 2,
            "linecolor": "white",
            "showbackground": true,
            "ticks": "",
            "zerolinecolor": "white"
           }
          },
          "shapedefaults": {
           "line": {
            "color": "#2a3f5f"
           }
          },
          "ternary": {
           "aaxis": {
            "gridcolor": "white",
            "linecolor": "white",
            "ticks": ""
           },
           "baxis": {
            "gridcolor": "white",
            "linecolor": "white",
            "ticks": ""
           },
           "bgcolor": "#E5ECF6",
           "caxis": {
            "gridcolor": "white",
            "linecolor": "white",
            "ticks": ""
           }
          },
          "title": {
           "x": 0.05
          },
          "xaxis": {
           "automargin": true,
           "gridcolor": "white",
           "linecolor": "white",
           "ticks": "",
           "title": {
            "standoff": 15
           },
           "zerolinecolor": "white",
           "zerolinewidth": 2
          },
          "yaxis": {
           "automargin": true,
           "gridcolor": "white",
           "linecolor": "white",
           "ticks": "",
           "title": {
            "standoff": 15
           },
           "zerolinecolor": "white",
           "zerolinewidth": 2
          }
         }
        },
        "title": {
         "text": "Genomsnittligt meritvärde beräknat på 17 ämnen för elever med olika bakgrund som avslutat årskurs 9 läsåret 2022/2023"
        },
        "xaxis": {
         "anchor": "y",
         "domain": [
          0,
          1
         ],
         "linecolor": "gray",
         "linewidth": 2,
         "showline": true,
         "showticklabels": true,
         "tickcolor": "gray",
         "ticks": "outside",
         "title": {
          "text": "Elevers bakgrund"
         }
        },
        "yaxis": {
         "anchor": "x",
         "domain": [
          0,
          1
         ],
         "dtick": 50,
         "linecolor": "gray",
         "linewidth": 2,
         "range": [
          0,
          300
         ],
         "showline": true,
         "showticklabels": true,
         "tick0": 0,
         "tickmode": "linear",
         "ticksuffix": " ",
         "title": {
          "text": "Meritvärde"
         }
        }
       }
      }
     },
     "metadata": {},
     "output_type": "display_data"
    }
   ],
   "source": [
    "fig = px.bar(\n",
    "    df_student_origin_23,\n",
    "    x=\"Elevers bakgrund\",\n",
    "    y=[\"Totalt\", \"Flickor\", \"Pojkar\"],\n",
    "    barmode=\"group\",\n",
    "    title=\"Genomsnittligt meritvärde beräknat på 17 ämnen för elever med olika bakgrund som avslutat årskurs 9 läsåret 2022/2023\",\n",
    "    color_discrete_map={\"Totalt\": \"gray\", \"Flickor\": \"#F073C3\", \"Pojkar\": \"#769BF0\"},\n",
    "    text_auto=True\n",
    ").update_layout(\n",
    "    yaxis_title=\"Meritvärde\",\n",
    "    legend_title=\"Kön\",\n",
    "    yaxis_range=[0, 300],\n",
    "    yaxis=dict(tickmode=\"linear\", tick0=0, dtick=50),\n",
    ")\n",
    "names = {\"variable\": \"Kön\", \"value\": \"%\"}\n",
    "fig.for_each_trace(\n",
    "    lambda t: t.update(\n",
    "        hovertemplate=t.hovertemplate.replace(\"variable\", names[\"variable\"]).replace(\n",
    "            \"value\", names[\"value\"]\n",
    "        )\n",
    "    )\n",
    ")\n",
    "fig.update_traces(textposition=\"outside\")\n",
    "fig.update_yaxes(\n",
    "    ticksuffix=\" \",\n",
    "    showline=True,\n",
    "    linewidth=2,\n",
    "    linecolor=\"gray\",\n",
    "    showticklabels=True,\n",
    ")\n",
    "fig.update_xaxes(\n",
    "    showline=True,\n",
    "    linewidth=2,\n",
    "    linecolor=\"gray\",\n",
    "    showticklabels=True,\n",
    "    ticks=\"outside\",\n",
    "    tickcolor=\"gray\",\n",
    ")\n",
    "\n",
    "fig.show()\n",
    "#fig.write_html(\"./Visualiseringar/elever_bakgrund_årskurs9.html\")"
   ]
  },
  {
   "cell_type": "markdown",
   "metadata": {},
   "source": [
    "## Uppgift 2 - KPIer & EDA"
   ]
  },
  {
   "cell_type": "markdown",
   "metadata": {},
   "source": [
    "KPI #1 En KPI att undersöka skulle kunna vara vilka kommuner som ser bäst respektive sämst resultat i nationella prov för Engelska årskurs 9"
   ]
  },
  {
   "cell_type": "code",
   "execution_count": 286,
   "metadata": {},
   "outputs": [
    {
     "data": {
      "text/html": [
       "<div>\n",
       "<style scoped>\n",
       "    .dataframe tbody tr th:only-of-type {\n",
       "        vertical-align: middle;\n",
       "    }\n",
       "\n",
       "    .dataframe tbody tr th {\n",
       "        vertical-align: top;\n",
       "    }\n",
       "\n",
       "    .dataframe thead th {\n",
       "        text-align: right;\n",
       "    }\n",
       "</style>\n",
       "<table border=\"1\" class=\"dataframe\">\n",
       "  <thead>\n",
       "    <tr style=\"text-align: right;\">\n",
       "      <th></th>\n",
       "      <th>Kommun</th>\n",
       "      <th>Kommun-kod</th>\n",
       "      <th>Län</th>\n",
       "      <th>Läns-kod</th>\n",
       "      <th>Totalt</th>\n",
       "      <th>Flickor</th>\n",
       "      <th>Pojkar</th>\n",
       "      <th>Totalt</th>\n",
       "      <th>Flickor</th>\n",
       "      <th>Pojkar</th>\n",
       "      <th>Totalt</th>\n",
       "      <th>Flickor</th>\n",
       "      <th>Pojkar</th>\n",
       "    </tr>\n",
       "  </thead>\n",
       "  <tbody>\n",
       "    <tr>\n",
       "      <th>0</th>\n",
       "      <td>Ale</td>\n",
       "      <td>1440</td>\n",
       "      <td>Västra Götalands län</td>\n",
       "      <td>14</td>\n",
       "      <td>333</td>\n",
       "      <td>161</td>\n",
       "      <td>172</td>\n",
       "      <td>98.5</td>\n",
       "      <td>~100</td>\n",
       "      <td>~100</td>\n",
       "      <td>15.7</td>\n",
       "      <td>15.6</td>\n",
       "      <td>15.8</td>\n",
       "    </tr>\n",
       "    <tr>\n",
       "      <th>1</th>\n",
       "      <td>Alingsås</td>\n",
       "      <td>1489</td>\n",
       "      <td>Västra Götalands län</td>\n",
       "      <td>14</td>\n",
       "      <td>475</td>\n",
       "      <td>224</td>\n",
       "      <td>251</td>\n",
       "      <td>97.9</td>\n",
       "      <td>~100</td>\n",
       "      <td>..</td>\n",
       "      <td>15.8</td>\n",
       "      <td>16.1</td>\n",
       "      <td>15.5</td>\n",
       "    </tr>\n",
       "    <tr>\n",
       "      <th>2</th>\n",
       "      <td>Alvesta</td>\n",
       "      <td>764</td>\n",
       "      <td>Kronobergs län</td>\n",
       "      <td>7</td>\n",
       "      <td>246</td>\n",
       "      <td>123</td>\n",
       "      <td>123</td>\n",
       "      <td>95.1</td>\n",
       "      <td>..</td>\n",
       "      <td>~100</td>\n",
       "      <td>14.9</td>\n",
       "      <td>14.9</td>\n",
       "      <td>14.9</td>\n",
       "    </tr>\n",
       "    <tr>\n",
       "      <th>3</th>\n",
       "      <td>Aneby</td>\n",
       "      <td>604</td>\n",
       "      <td>Jönköpings län</td>\n",
       "      <td>6</td>\n",
       "      <td>75</td>\n",
       "      <td>29</td>\n",
       "      <td>46</td>\n",
       "      <td>~100</td>\n",
       "      <td>~100</td>\n",
       "      <td>~100</td>\n",
       "      <td>14.9</td>\n",
       "      <td>14.3</td>\n",
       "      <td>15.3</td>\n",
       "    </tr>\n",
       "    <tr>\n",
       "      <th>4</th>\n",
       "      <td>Arboga</td>\n",
       "      <td>1984</td>\n",
       "      <td>Västmanlands län</td>\n",
       "      <td>19</td>\n",
       "      <td>130</td>\n",
       "      <td>53</td>\n",
       "      <td>77</td>\n",
       "      <td>93.1</td>\n",
       "      <td>..</td>\n",
       "      <td>~100</td>\n",
       "      <td>14.4</td>\n",
       "      <td>14.1</td>\n",
       "      <td>14.7</td>\n",
       "    </tr>\n",
       "  </tbody>\n",
       "</table>\n",
       "</div>"
      ],
      "text/plain": [
       "     Kommun  Kommun-kod                   Län  Läns-kod  Totalt Flickor  \\\n",
       "0       Ale        1440  Västra Götalands län        14     333     161   \n",
       "1  Alingsås        1489  Västra Götalands län        14     475     224   \n",
       "2   Alvesta         764        Kronobergs län         7     246     123   \n",
       "3     Aneby         604        Jönköpings län         6      75      29   \n",
       "4    Arboga        1984      Västmanlands län        19     130      53   \n",
       "\n",
       "  Pojkar Totalt  Flickor  Pojkar   Totalt   Flickor   Pojkar    \n",
       "0    172    98.5     ~100    ~100      15.7      15.6     15.8  \n",
       "1    251    97.9     ~100      ..      15.8      16.1     15.5  \n",
       "2    123    95.1       ..    ~100      14.9      14.9     14.9  \n",
       "3     46    ~100     ~100    ~100      14.9      14.3     15.3  \n",
       "4     77    93.1       ..    ~100      14.4      14.1     14.7  "
      ]
     },
     "execution_count": 286,
     "metadata": {},
     "output_type": "execute_result"
    }
   ],
   "source": [
    "# make relevant dataframe from excel sheet\n",
    "df_english_regions_23 = pd.read_excel(\"./data/betyg_o_prov_kommun.xlsx\", sheet_name=\"Engelska\", skiprows=8,)\n",
    "df_english_regions_23.head()"
   ]
  },
  {
   "cell_type": "code",
   "execution_count": 287,
   "metadata": {},
   "outputs": [
    {
     "name": "stdout",
     "output_type": "stream",
     "text": [
      "<class 'pandas.core.frame.DataFrame'>\n",
      "RangeIndex: 290 entries, 0 to 289\n",
      "Data columns (total 13 columns):\n",
      " #   Column           Non-Null Count  Dtype  \n",
      "---  ------           --------------  -----  \n",
      " 0   Kommun           290 non-null    object \n",
      " 1   Kommun-kod       290 non-null    int64  \n",
      " 2   Län              290 non-null    object \n",
      " 3   Läns-kod         290 non-null    int64  \n",
      " 4   Totalt (A-F)     290 non-null    int64  \n",
      " 5   Flickor (A-F)    290 non-null    object \n",
      " 6   Pojkar (A-F)     290 non-null    object \n",
      " 7   Totalt (A-E)     290 non-null    object \n",
      " 8   Flickor (A-E)    290 non-null    object \n",
      " 9   Pojkar (A-E)     290 non-null    object \n",
      " 10  Totalt (poäng)   290 non-null    float64\n",
      " 11  Flickor (poäng)  290 non-null    object \n",
      " 12  Pojkar (poäng)   290 non-null    object \n",
      "dtypes: float64(1), int64(3), object(9)\n",
      "memory usage: 29.6+ KB\n"
     ]
    }
   ],
   "source": [
    "# Adjust column titles\n",
    "df_english_regions_23.columns = [\n",
    "    \"Kommun\",\n",
    "    \"Kommun-kod\",\n",
    "    \"Län\",\n",
    "    \"Läns-kod\",\n",
    "    \"Totalt (A-F)\",\n",
    "    \"Flickor (A-F)\",\n",
    "    \"Pojkar (A-F)\",\n",
    "    \"Totalt (A-E)\",\n",
    "    \"Flickor (A-E)\",\n",
    "    \"Pojkar (A-E)\",\n",
    "    \"Totalt (poäng)\",\n",
    "    \"Flickor (poäng)\",\n",
    "    \"Pojkar (poäng)\",\n",
    "]\n",
    "df_english_regions_23.info()"
   ]
  },
  {
   "cell_type": "code",
   "execution_count": 288,
   "metadata": {},
   "outputs": [
    {
     "data": {
      "text/html": [
       "<div>\n",
       "<style scoped>\n",
       "    .dataframe tbody tr th:only-of-type {\n",
       "        vertical-align: middle;\n",
       "    }\n",
       "\n",
       "    .dataframe tbody tr th {\n",
       "        vertical-align: top;\n",
       "    }\n",
       "\n",
       "    .dataframe thead th {\n",
       "        text-align: right;\n",
       "    }\n",
       "</style>\n",
       "<table border=\"1\" class=\"dataframe\">\n",
       "  <thead>\n",
       "    <tr style=\"text-align: right;\">\n",
       "      <th></th>\n",
       "      <th>Kommun</th>\n",
       "      <th>Kommun-kod</th>\n",
       "      <th>Län</th>\n",
       "      <th>Läns-kod</th>\n",
       "      <th>Totalt (A-F)</th>\n",
       "      <th>Flickor (A-F)</th>\n",
       "      <th>Pojkar (A-F)</th>\n",
       "      <th>Totalt (A-E)</th>\n",
       "      <th>Flickor (A-E)</th>\n",
       "      <th>Pojkar (A-E)</th>\n",
       "      <th>Totalt (poäng)</th>\n",
       "      <th>Flickor (poäng)</th>\n",
       "      <th>Pojkar (poäng)</th>\n",
       "    </tr>\n",
       "  </thead>\n",
       "  <tbody>\n",
       "    <tr>\n",
       "      <th>0</th>\n",
       "      <td>Ale</td>\n",
       "      <td>1440</td>\n",
       "      <td>Västra Götalands län</td>\n",
       "      <td>14</td>\n",
       "      <td>333</td>\n",
       "      <td>161</td>\n",
       "      <td>172</td>\n",
       "      <td>98.5</td>\n",
       "      <td>~100</td>\n",
       "      <td>~100</td>\n",
       "      <td>15.7</td>\n",
       "      <td>15.6</td>\n",
       "      <td>15.8</td>\n",
       "    </tr>\n",
       "    <tr>\n",
       "      <th>1</th>\n",
       "      <td>Alingsås</td>\n",
       "      <td>1489</td>\n",
       "      <td>Västra Götalands län</td>\n",
       "      <td>14</td>\n",
       "      <td>475</td>\n",
       "      <td>224</td>\n",
       "      <td>251</td>\n",
       "      <td>97.9</td>\n",
       "      <td>~100</td>\n",
       "      <td>..</td>\n",
       "      <td>15.8</td>\n",
       "      <td>16.1</td>\n",
       "      <td>15.5</td>\n",
       "    </tr>\n",
       "    <tr>\n",
       "      <th>2</th>\n",
       "      <td>Alvesta</td>\n",
       "      <td>764</td>\n",
       "      <td>Kronobergs län</td>\n",
       "      <td>7</td>\n",
       "      <td>246</td>\n",
       "      <td>123</td>\n",
       "      <td>123</td>\n",
       "      <td>95.1</td>\n",
       "      <td>..</td>\n",
       "      <td>~100</td>\n",
       "      <td>14.9</td>\n",
       "      <td>14.9</td>\n",
       "      <td>14.9</td>\n",
       "    </tr>\n",
       "    <tr>\n",
       "      <th>4</th>\n",
       "      <td>Arboga</td>\n",
       "      <td>1984</td>\n",
       "      <td>Västmanlands län</td>\n",
       "      <td>19</td>\n",
       "      <td>130</td>\n",
       "      <td>53</td>\n",
       "      <td>77</td>\n",
       "      <td>93.1</td>\n",
       "      <td>..</td>\n",
       "      <td>~100</td>\n",
       "      <td>14.4</td>\n",
       "      <td>14.1</td>\n",
       "      <td>14.7</td>\n",
       "    </tr>\n",
       "    <tr>\n",
       "      <th>7</th>\n",
       "      <td>Arvika</td>\n",
       "      <td>1784</td>\n",
       "      <td>Värmlands län</td>\n",
       "      <td>17</td>\n",
       "      <td>226</td>\n",
       "      <td>113</td>\n",
       "      <td>113</td>\n",
       "      <td>~100</td>\n",
       "      <td>~100</td>\n",
       "      <td>~100</td>\n",
       "      <td>15.6</td>\n",
       "      <td>15.8</td>\n",
       "      <td>15.5</td>\n",
       "    </tr>\n",
       "  </tbody>\n",
       "</table>\n",
       "</div>"
      ],
      "text/plain": [
       "     Kommun  Kommun-kod                   Län  Läns-kod  Totalt (A-F)  \\\n",
       "0       Ale        1440  Västra Götalands län        14           333   \n",
       "1  Alingsås        1489  Västra Götalands län        14           475   \n",
       "2   Alvesta         764        Kronobergs län         7           246   \n",
       "4    Arboga        1984      Västmanlands län        19           130   \n",
       "7    Arvika        1784         Värmlands län        17           226   \n",
       "\n",
       "  Flickor (A-F) Pojkar (A-F) Totalt (A-E) Flickor (A-E) Pojkar (A-E)  \\\n",
       "0           161          172         98.5          ~100         ~100   \n",
       "1           224          251         97.9          ~100           ..   \n",
       "2           123          123         95.1            ..         ~100   \n",
       "4            53           77         93.1            ..         ~100   \n",
       "7           113          113         ~100          ~100         ~100   \n",
       "\n",
       "   Totalt (poäng) Flickor (poäng) Pojkar (poäng)  \n",
       "0            15.7            15.6           15.8  \n",
       "1            15.8            16.1           15.5  \n",
       "2            14.9            14.9           14.9  \n",
       "4            14.4            14.1           14.7  \n",
       "7            15.6            15.8           15.5  "
      ]
     },
     "execution_count": 288,
     "metadata": {},
     "output_type": "execute_result"
    }
   ],
   "source": [
    "# Remove regions where the total amount of students are less than 100 to reduce anomalies\n",
    "df_english_regions_23 = df_english_regions_23[df_english_regions_23[\"Totalt (A-F)\"] >= 100]\n",
    "df_english_regions_23.head()"
   ]
  },
  {
   "cell_type": "code",
   "execution_count": 289,
   "metadata": {},
   "outputs": [
    {
     "data": {
      "text/html": [
       "<div>\n",
       "<style scoped>\n",
       "    .dataframe tbody tr th:only-of-type {\n",
       "        vertical-align: middle;\n",
       "    }\n",
       "\n",
       "    .dataframe tbody tr th {\n",
       "        vertical-align: top;\n",
       "    }\n",
       "\n",
       "    .dataframe thead th {\n",
       "        text-align: right;\n",
       "    }\n",
       "</style>\n",
       "<table border=\"1\" class=\"dataframe\">\n",
       "  <thead>\n",
       "    <tr style=\"text-align: right;\">\n",
       "      <th></th>\n",
       "      <th>Kommun</th>\n",
       "      <th>Kommun-kod</th>\n",
       "      <th>Län</th>\n",
       "      <th>Läns-kod</th>\n",
       "      <th>Totalt (A-F)</th>\n",
       "      <th>Flickor (A-F)</th>\n",
       "      <th>Pojkar (A-F)</th>\n",
       "      <th>Totalt (A-E)</th>\n",
       "      <th>Flickor (A-E)</th>\n",
       "      <th>Pojkar (A-E)</th>\n",
       "      <th>Totalt (poäng)</th>\n",
       "      <th>Flickor (poäng)</th>\n",
       "      <th>Pojkar (poäng)</th>\n",
       "    </tr>\n",
       "  </thead>\n",
       "  <tbody>\n",
       "    <tr>\n",
       "      <th>27</th>\n",
       "      <td>Danderyd</td>\n",
       "      <td>162</td>\n",
       "      <td>Stockholms län</td>\n",
       "      <td>1</td>\n",
       "      <td>505</td>\n",
       "      <td>238</td>\n",
       "      <td>267</td>\n",
       "      <td>100</td>\n",
       "      <td>100</td>\n",
       "      <td>100</td>\n",
       "      <td>18.3</td>\n",
       "      <td>18.4</td>\n",
       "      <td>18.3</td>\n",
       "    </tr>\n",
       "    <tr>\n",
       "      <th>120</th>\n",
       "      <td>Lidingö</td>\n",
       "      <td>186</td>\n",
       "      <td>Stockholms län</td>\n",
       "      <td>1</td>\n",
       "      <td>590</td>\n",
       "      <td>299</td>\n",
       "      <td>291</td>\n",
       "      <td>~100</td>\n",
       "      <td>100</td>\n",
       "      <td>~100</td>\n",
       "      <td>18.1</td>\n",
       "      <td>18.2</td>\n",
       "      <td>18</td>\n",
       "    </tr>\n",
       "    <tr>\n",
       "      <th>234</th>\n",
       "      <td>Täby</td>\n",
       "      <td>160</td>\n",
       "      <td>Stockholms län</td>\n",
       "      <td>1</td>\n",
       "      <td>1243</td>\n",
       "      <td>584</td>\n",
       "      <td>659</td>\n",
       "      <td>~100</td>\n",
       "      <td>~100</td>\n",
       "      <td>~100</td>\n",
       "      <td>17.7</td>\n",
       "      <td>17.8</td>\n",
       "      <td>17.7</td>\n",
       "    </tr>\n",
       "    <tr>\n",
       "      <th>150</th>\n",
       "      <td>Nacka</td>\n",
       "      <td>182</td>\n",
       "      <td>Stockholms län</td>\n",
       "      <td>1</td>\n",
       "      <td>1472</td>\n",
       "      <td>699</td>\n",
       "      <td>773</td>\n",
       "      <td>99.5</td>\n",
       "      <td>~100</td>\n",
       "      <td>~100</td>\n",
       "      <td>17.4</td>\n",
       "      <td>17.4</td>\n",
       "      <td>17.5</td>\n",
       "    </tr>\n",
       "    <tr>\n",
       "      <th>128</th>\n",
       "      <td>Lomma</td>\n",
       "      <td>1262</td>\n",
       "      <td>Skåne län</td>\n",
       "      <td>12</td>\n",
       "      <td>374</td>\n",
       "      <td>168</td>\n",
       "      <td>206</td>\n",
       "      <td>~100</td>\n",
       "      <td>~100</td>\n",
       "      <td>100</td>\n",
       "      <td>17.4</td>\n",
       "      <td>17</td>\n",
       "      <td>17.6</td>\n",
       "    </tr>\n",
       "  </tbody>\n",
       "</table>\n",
       "</div>"
      ],
      "text/plain": [
       "       Kommun  Kommun-kod             Län  Läns-kod  Totalt (A-F)  \\\n",
       "27   Danderyd         162  Stockholms län         1           505   \n",
       "120   Lidingö         186  Stockholms län         1           590   \n",
       "234      Täby         160  Stockholms län         1          1243   \n",
       "150     Nacka         182  Stockholms län         1          1472   \n",
       "128     Lomma        1262       Skåne län        12           374   \n",
       "\n",
       "    Flickor (A-F) Pojkar (A-F) Totalt (A-E) Flickor (A-E) Pojkar (A-E)  \\\n",
       "27            238          267          100           100          100   \n",
       "120           299          291         ~100           100         ~100   \n",
       "234           584          659         ~100          ~100         ~100   \n",
       "150           699          773         99.5          ~100         ~100   \n",
       "128           168          206         ~100          ~100          100   \n",
       "\n",
       "     Totalt (poäng) Flickor (poäng) Pojkar (poäng)  \n",
       "27             18.3            18.4           18.3  \n",
       "120            18.1            18.2             18  \n",
       "234            17.7            17.8           17.7  \n",
       "150            17.4            17.4           17.5  \n",
       "128            17.4              17           17.6  "
      ]
     },
     "execution_count": 289,
     "metadata": {},
     "output_type": "execute_result"
    }
   ],
   "source": [
    "# pick out the top 5 and bottom 5 results\n",
    "[english_top5, english_bottom5] = [df_english_regions_23.sort_values(by=\"Totalt (poäng)\", ascending=b).head() for b in [False, True]]\n",
    "english_top5"
   ]
  },
  {
   "cell_type": "code",
   "execution_count": 290,
   "metadata": {},
   "outputs": [
    {
     "data": {
      "text/html": [
       "<div>\n",
       "<style scoped>\n",
       "    .dataframe tbody tr th:only-of-type {\n",
       "        vertical-align: middle;\n",
       "    }\n",
       "\n",
       "    .dataframe tbody tr th {\n",
       "        vertical-align: top;\n",
       "    }\n",
       "\n",
       "    .dataframe thead th {\n",
       "        text-align: right;\n",
       "    }\n",
       "</style>\n",
       "<table border=\"1\" class=\"dataframe\">\n",
       "  <thead>\n",
       "    <tr style=\"text-align: right;\">\n",
       "      <th></th>\n",
       "      <th>Kommun</th>\n",
       "      <th>Kommun-kod</th>\n",
       "      <th>Län</th>\n",
       "      <th>Läns-kod</th>\n",
       "      <th>Totalt (A-F)</th>\n",
       "      <th>Flickor (A-F)</th>\n",
       "      <th>Pojkar (A-F)</th>\n",
       "      <th>Totalt (A-E)</th>\n",
       "      <th>Flickor (A-E)</th>\n",
       "      <th>Pojkar (A-E)</th>\n",
       "      <th>Totalt (poäng)</th>\n",
       "      <th>Flickor (poäng)</th>\n",
       "      <th>Pojkar (poäng)</th>\n",
       "    </tr>\n",
       "  </thead>\n",
       "  <tbody>\n",
       "    <tr>\n",
       "      <th>287</th>\n",
       "      <td>Östra Göinge</td>\n",
       "      <td>1256</td>\n",
       "      <td>Skåne län</td>\n",
       "      <td>12</td>\n",
       "      <td>165</td>\n",
       "      <td>83</td>\n",
       "      <td>82</td>\n",
       "      <td>92.1</td>\n",
       "      <td>..</td>\n",
       "      <td>~100</td>\n",
       "      <td>13.5</td>\n",
       "      <td>12.9</td>\n",
       "      <td>14.2</td>\n",
       "    </tr>\n",
       "    <tr>\n",
       "      <th>225</th>\n",
       "      <td>Tomelilla</td>\n",
       "      <td>1270</td>\n",
       "      <td>Skåne län</td>\n",
       "      <td>12</td>\n",
       "      <td>118</td>\n",
       "      <td>62</td>\n",
       "      <td>56</td>\n",
       "      <td>92.4</td>\n",
       "      <td>85.5</td>\n",
       "      <td>100</td>\n",
       "      <td>13.5</td>\n",
       "      <td>12.3</td>\n",
       "      <td>14.7</td>\n",
       "    </tr>\n",
       "    <tr>\n",
       "      <th>248</th>\n",
       "      <td>Vara</td>\n",
       "      <td>1470</td>\n",
       "      <td>Västra Götalands län</td>\n",
       "      <td>14</td>\n",
       "      <td>155</td>\n",
       "      <td>67</td>\n",
       "      <td>88</td>\n",
       "      <td>91.6</td>\n",
       "      <td>~100</td>\n",
       "      <td>..</td>\n",
       "      <td>13.5</td>\n",
       "      <td>13.9</td>\n",
       "      <td>13.3</td>\n",
       "    </tr>\n",
       "    <tr>\n",
       "      <th>183</th>\n",
       "      <td>Simrishamn</td>\n",
       "      <td>1291</td>\n",
       "      <td>Skåne län</td>\n",
       "      <td>12</td>\n",
       "      <td>176</td>\n",
       "      <td>92</td>\n",
       "      <td>84</td>\n",
       "      <td>87.5</td>\n",
       "      <td>87</td>\n",
       "      <td>88.1</td>\n",
       "      <td>13.5</td>\n",
       "      <td>13.2</td>\n",
       "      <td>13.8</td>\n",
       "    </tr>\n",
       "    <tr>\n",
       "      <th>170</th>\n",
       "      <td>Oxelösund</td>\n",
       "      <td>481</td>\n",
       "      <td>Södermanlands län</td>\n",
       "      <td>4</td>\n",
       "      <td>104</td>\n",
       "      <td>45</td>\n",
       "      <td>59</td>\n",
       "      <td>90.4</td>\n",
       "      <td>88.9</td>\n",
       "      <td>91.5</td>\n",
       "      <td>12.9</td>\n",
       "      <td>12.3</td>\n",
       "      <td>13.3</td>\n",
       "    </tr>\n",
       "  </tbody>\n",
       "</table>\n",
       "</div>"
      ],
      "text/plain": [
       "           Kommun  Kommun-kod                   Län  Läns-kod  Totalt (A-F)  \\\n",
       "287  Östra Göinge        1256             Skåne län        12           165   \n",
       "225     Tomelilla        1270             Skåne län        12           118   \n",
       "248          Vara        1470  Västra Götalands län        14           155   \n",
       "183    Simrishamn        1291             Skåne län        12           176   \n",
       "170     Oxelösund         481     Södermanlands län         4           104   \n",
       "\n",
       "    Flickor (A-F) Pojkar (A-F) Totalt (A-E) Flickor (A-E) Pojkar (A-E)  \\\n",
       "287            83           82         92.1            ..         ~100   \n",
       "225            62           56         92.4          85.5          100   \n",
       "248            67           88         91.6          ~100           ..   \n",
       "183            92           84         87.5            87         88.1   \n",
       "170            45           59         90.4          88.9         91.5   \n",
       "\n",
       "     Totalt (poäng) Flickor (poäng) Pojkar (poäng)  \n",
       "287            13.5            12.9           14.2  \n",
       "225            13.5            12.3           14.7  \n",
       "248            13.5            13.9           13.3  \n",
       "183            13.5            13.2           13.8  \n",
       "170            12.9            12.3           13.3  "
      ]
     },
     "execution_count": 290,
     "metadata": {},
     "output_type": "execute_result"
    }
   ],
   "source": [
    "# sort the bottom 5 results to also be descending\n",
    "english_bottom5 = english_bottom5.sort_values(by=\"Totalt (poäng)\", ascending=False)\n",
    "english_bottom5"
   ]
  },
  {
   "cell_type": "code",
   "execution_count": 291,
   "metadata": {},
   "outputs": [
    {
     "data": {
      "image/png": "[encoded data removed]",
      "text/plain": [
       "<Figure size 1200x600 with 2 Axes>"
      ]
     },
     "metadata": {},
     "output_type": "display_data"
    }
   ],
   "source": [
    "# create bar chart for each dataframe\n",
    "fig, axes = plt.subplots(1, 2, dpi=100, figsize=(12, 6))\n",
    "measure = {\"högst\": english_top5, \"lägst\": english_bottom5}\n",
    "for ax, m in zip(axes, measure):\n",
    "    if m == \"högst\":\n",
    "        ax.bar(measure[m][\"Kommun\"], measure[m][\"Totalt (poäng)\"])\n",
    "        ax.set_title(f\"Kommuner med högst genomsnitt\", pad=10)\n",
    "    else:\n",
    "        ax.bar(measure[m][\"Kommun\"], measure[m][\"Totalt (poäng)\"], color=\"gray\")\n",
    "        ax.set_title(f\"Kommuner med lägst genomsnitt\", pad=10)\n",
    "    ax.set_xlabel(\"Kommun\", color=GRAY1, fontweight=\"bold\")\n",
    "    ax.set_ylabel(\"Poäng\", rotation=0, labelpad=20, color=GRAY1, fontweight=\"bold\")\n",
    "    ax.set_yticks(range(0, 21, 5))\n",
    "    ax.spines[[\"top\", \"right\"]].set_visible(False)\n",
    "    ax.spines[[\"bottom\", \"left\"]].set_color(GRAY1)\n",
    "    ax.tick_params(colors=GRAY1)\n",
    "    ax.bar_label(ax.containers[0], fmt=lambda x: x if x > 0 else \"\", label_type=\"edge\")\n",
    "\n",
    "fig.suptitle(\n",
    "    \"Högst respektive lägst genomsnittliga poäng i nationella prov årskurs 9\\nför kommuner med minst 100 elever läsår 2022/2023\",\n",
    "    y=1.03,\n",
    "    fontweight=\"bold\",\n",
    "    fontsize=15,\n",
    ")\n",
    "fig.tight_layout()"
   ]
  },
  {
   "cell_type": "markdown",
   "metadata": {},
   "source": [
    "KPI #2 En annan KPI skulle kunna vara att undersöka hur det genomsnittliga meritvärdet i min hemkommun Lerum har förändrats över de senaste åren"
   ]
  },
  {
   "cell_type": "code",
   "execution_count": 292,
   "metadata": {},
   "outputs": [
    {
     "data": {
      "text/html": [
       "<div>\n",
       "<style scoped>\n",
       "    .dataframe tbody tr th:only-of-type {\n",
       "        vertical-align: middle;\n",
       "    }\n",
       "\n",
       "    .dataframe tbody tr th {\n",
       "        vertical-align: top;\n",
       "    }\n",
       "\n",
       "    .dataframe thead th {\n",
       "        text-align: right;\n",
       "    }\n",
       "</style>\n",
       "<table border=\"1\" class=\"dataframe\">\n",
       "  <thead>\n",
       "    <tr style=\"text-align: right;\">\n",
       "      <th></th>\n",
       "      <th>Kommun</th>\n",
       "      <th>Uppgift</th>\n",
       "      <th>2022/23</th>\n",
       "      <th>2021/22</th>\n",
       "      <th>2020/21</th>\n",
       "      <th>2019/20</th>\n",
       "      <th>2018/19</th>\n",
       "      <th>2017/18</th>\n",
       "      <th>2016/17</th>\n",
       "      <th>2015/16</th>\n",
       "      <th>2014/15</th>\n",
       "      <th>2013/14</th>\n",
       "    </tr>\n",
       "  </thead>\n",
       "  <tbody>\n",
       "    <tr>\n",
       "      <th>0</th>\n",
       "      <td>Ale</td>\n",
       "      <td>Totalt antal elever årskurs 9</td>\n",
       "      <td>373</td>\n",
       "      <td>404</td>\n",
       "      <td>356</td>\n",
       "      <td>372</td>\n",
       "      <td>322</td>\n",
       "      <td>344</td>\n",
       "      <td>278</td>\n",
       "      <td>343</td>\n",
       "      <td>285</td>\n",
       "      <td>273</td>\n",
       "    </tr>\n",
       "    <tr>\n",
       "      <th>1</th>\n",
       "      <td>Ale</td>\n",
       "      <td>- andel (%) flickor</td>\n",
       "      <td>49.6</td>\n",
       "      <td>50.2</td>\n",
       "      <td>47.2</td>\n",
       "      <td>47.6</td>\n",
       "      <td>48.4</td>\n",
       "      <td>44.8</td>\n",
       "      <td>40.3</td>\n",
       "      <td>43.4</td>\n",
       "      <td>46</td>\n",
       "      <td>48</td>\n",
       "    </tr>\n",
       "    <tr>\n",
       "      <th>2</th>\n",
       "      <td>Ale</td>\n",
       "      <td>- andel (%) pojkar</td>\n",
       "      <td>50.4</td>\n",
       "      <td>49.8</td>\n",
       "      <td>52.8</td>\n",
       "      <td>52.4</td>\n",
       "      <td>51.6</td>\n",
       "      <td>55.2</td>\n",
       "      <td>59.7</td>\n",
       "      <td>56.6</td>\n",
       "      <td>54</td>\n",
       "      <td>52</td>\n",
       "    </tr>\n",
       "    <tr>\n",
       "      <th>3</th>\n",
       "      <td>Ale</td>\n",
       "      <td>- andel (%) elever med utländsk bakgrund</td>\n",
       "      <td>25.3</td>\n",
       "      <td>22.6</td>\n",
       "      <td>23.4</td>\n",
       "      <td>23.2</td>\n",
       "      <td>20</td>\n",
       "      <td>22</td>\n",
       "      <td>23</td>\n",
       "      <td>22.3</td>\n",
       "      <td>14.1</td>\n",
       "      <td>22.3</td>\n",
       "    </tr>\n",
       "    <tr>\n",
       "      <th>4</th>\n",
       "      <td>Ale</td>\n",
       "      <td>- andel (%) med föräldrar med eftergymnasial u...</td>\n",
       "      <td>60.3</td>\n",
       "      <td>56.5</td>\n",
       "      <td>55</td>\n",
       "      <td>54.8</td>\n",
       "      <td>54.1</td>\n",
       "      <td>47.6</td>\n",
       "      <td>48.3</td>\n",
       "      <td>42.4</td>\n",
       "      <td>44.3</td>\n",
       "      <td>40.6</td>\n",
       "    </tr>\n",
       "  </tbody>\n",
       "</table>\n",
       "</div>"
      ],
      "text/plain": [
       "  Kommun                                            Uppgift 2022/23 2021/22  \\\n",
       "0    Ale                      Totalt antal elever årskurs 9     373     404   \n",
       "1    Ale                                - andel (%) flickor    49.6    50.2   \n",
       "2    Ale                                 - andel (%) pojkar    50.4    49.8   \n",
       "3    Ale           - andel (%) elever med utländsk bakgrund    25.3    22.6   \n",
       "4    Ale  - andel (%) med föräldrar med eftergymnasial u...    60.3    56.5   \n",
       "\n",
       "  2020/21 2019/20 2018/19 2017/18 2016/17 2015/16 2014/15 2013/14  \n",
       "0     356     372     322     344     278     343     285     273  \n",
       "1    47.2    47.6    48.4    44.8    40.3    43.4      46      48  \n",
       "2    52.8    52.4    51.6    55.2    59.7    56.6      54      52  \n",
       "3    23.4    23.2      20      22      23    22.3    14.1    22.3  \n",
       "4      55    54.8    54.1    47.6    48.3    42.4    44.3    40.6  "
      ]
     },
     "execution_count": 292,
     "metadata": {},
     "output_type": "execute_result"
    }
   ],
   "source": [
    "# make relevant dataframe from excel sheet\n",
    "df_region = pd.read_excel(\"./data/betyg_över_tid_kommun.xlsx\", sheet_name=\"Kommunal\", skiprows=7, usecols=([0, 4, 5, 6, 7, 8, 9, 10, 11, 12, 13, 14]))\n",
    "df_region.head()"
   ]
  },
  {
   "cell_type": "code",
   "execution_count": 293,
   "metadata": {},
   "outputs": [
    {
     "data": {
      "text/html": [
       "<div>\n",
       "<style scoped>\n",
       "    .dataframe tbody tr th:only-of-type {\n",
       "        vertical-align: middle;\n",
       "    }\n",
       "\n",
       "    .dataframe tbody tr th {\n",
       "        vertical-align: top;\n",
       "    }\n",
       "\n",
       "    .dataframe thead th {\n",
       "        text-align: right;\n",
       "    }\n",
       "</style>\n",
       "<table border=\"1\" class=\"dataframe\">\n",
       "  <thead>\n",
       "    <tr style=\"text-align: right;\">\n",
       "      <th></th>\n",
       "      <th>Kommun</th>\n",
       "      <th>Uppgift</th>\n",
       "      <th>2022/23</th>\n",
       "      <th>2021/22</th>\n",
       "      <th>2020/21</th>\n",
       "      <th>2019/20</th>\n",
       "      <th>2018/19</th>\n",
       "      <th>2017/18</th>\n",
       "      <th>2016/17</th>\n",
       "      <th>2015/16</th>\n",
       "      <th>2014/15</th>\n",
       "      <th>2013/14</th>\n",
       "    </tr>\n",
       "  </thead>\n",
       "  <tbody>\n",
       "    <tr>\n",
       "      <th>1062</th>\n",
       "      <td>Lerum</td>\n",
       "      <td>Totalt antal elever årskurs 9</td>\n",
       "      <td>612</td>\n",
       "      <td>589</td>\n",
       "      <td>619</td>\n",
       "      <td>585</td>\n",
       "      <td>504</td>\n",
       "      <td>536</td>\n",
       "      <td>535</td>\n",
       "      <td>451</td>\n",
       "      <td>439</td>\n",
       "      <td>432</td>\n",
       "    </tr>\n",
       "    <tr>\n",
       "      <th>1063</th>\n",
       "      <td>Lerum</td>\n",
       "      <td>- andel (%) flickor</td>\n",
       "      <td>48.9</td>\n",
       "      <td>47.2</td>\n",
       "      <td>47.5</td>\n",
       "      <td>47.5</td>\n",
       "      <td>47.2</td>\n",
       "      <td>48.1</td>\n",
       "      <td>43</td>\n",
       "      <td>47.2</td>\n",
       "      <td>44.4</td>\n",
       "      <td>46.5</td>\n",
       "    </tr>\n",
       "    <tr>\n",
       "      <th>1064</th>\n",
       "      <td>Lerum</td>\n",
       "      <td>- andel (%) pojkar</td>\n",
       "      <td>51.1</td>\n",
       "      <td>52.8</td>\n",
       "      <td>52.5</td>\n",
       "      <td>52.5</td>\n",
       "      <td>52.8</td>\n",
       "      <td>51.9</td>\n",
       "      <td>57</td>\n",
       "      <td>52.8</td>\n",
       "      <td>55.6</td>\n",
       "      <td>53.5</td>\n",
       "    </tr>\n",
       "    <tr>\n",
       "      <th>1065</th>\n",
       "      <td>Lerum</td>\n",
       "      <td>- andel (%) elever med utländsk bakgrund</td>\n",
       "      <td>12</td>\n",
       "      <td>11.2</td>\n",
       "      <td>11.6</td>\n",
       "      <td>10.1</td>\n",
       "      <td>9.8</td>\n",
       "      <td>9.5</td>\n",
       "      <td>7.1</td>\n",
       "      <td>9.9</td>\n",
       "      <td>8.2</td>\n",
       "      <td>8.8</td>\n",
       "    </tr>\n",
       "    <tr>\n",
       "      <th>1066</th>\n",
       "      <td>Lerum</td>\n",
       "      <td>- andel (%) med föräldrar med eftergymnasial u...</td>\n",
       "      <td>70.4</td>\n",
       "      <td>70.7</td>\n",
       "      <td>70.2</td>\n",
       "      <td>66.3</td>\n",
       "      <td>66.8</td>\n",
       "      <td>63</td>\n",
       "      <td>62.9</td>\n",
       "      <td>63.8</td>\n",
       "      <td>61.3</td>\n",
       "      <td>62.2</td>\n",
       "    </tr>\n",
       "  </tbody>\n",
       "</table>\n",
       "</div>"
      ],
      "text/plain": [
       "     Kommun                                            Uppgift 2022/23  \\\n",
       "1062  Lerum                      Totalt antal elever årskurs 9     612   \n",
       "1063  Lerum                                - andel (%) flickor    48.9   \n",
       "1064  Lerum                                 - andel (%) pojkar    51.1   \n",
       "1065  Lerum           - andel (%) elever med utländsk bakgrund      12   \n",
       "1066  Lerum  - andel (%) med föräldrar med eftergymnasial u...    70.4   \n",
       "\n",
       "     2021/22 2020/21 2019/20 2018/19 2017/18 2016/17 2015/16 2014/15 2013/14  \n",
       "1062     589     619     585     504     536     535     451     439     432  \n",
       "1063    47.2    47.5    47.5    47.2    48.1      43    47.2    44.4    46.5  \n",
       "1064    52.8    52.5    52.5    52.8    51.9      57    52.8    55.6    53.5  \n",
       "1065    11.2    11.6    10.1     9.8     9.5     7.1     9.9     8.2     8.8  \n",
       "1066    70.7    70.2    66.3    66.8      63    62.9    63.8    61.3    62.2  "
      ]
     },
     "execution_count": 293,
     "metadata": {},
     "output_type": "execute_result"
    }
   ],
   "source": [
    "# Sort to get data for Lerums Kommun only\n",
    "df_lerum = df_region[df_region[\"Kommun\"] == \"Lerum\"]\n",
    "df_lerum.head()"
   ]
  },
  {
   "cell_type": "code",
   "execution_count": 294,
   "metadata": {},
   "outputs": [
    {
     "data": {
      "text/html": [
       "<div>\n",
       "<style scoped>\n",
       "    .dataframe tbody tr th:only-of-type {\n",
       "        vertical-align: middle;\n",
       "    }\n",
       "\n",
       "    .dataframe tbody tr th {\n",
       "        vertical-align: top;\n",
       "    }\n",
       "\n",
       "    .dataframe thead th {\n",
       "        text-align: right;\n",
       "    }\n",
       "</style>\n",
       "<table border=\"1\" class=\"dataframe\">\n",
       "  <thead>\n",
       "    <tr style=\"text-align: right;\">\n",
       "      <th></th>\n",
       "      <th>index</th>\n",
       "      <th>1062</th>\n",
       "      <th>1063</th>\n",
       "      <th>1064</th>\n",
       "      <th>1065</th>\n",
       "      <th>1066</th>\n",
       "      <th>1067</th>\n",
       "      <th>1068</th>\n",
       "      <th>1069</th>\n",
       "      <th>1070</th>\n",
       "    </tr>\n",
       "  </thead>\n",
       "  <tbody>\n",
       "    <tr>\n",
       "      <th>0</th>\n",
       "      <td>Kommun</td>\n",
       "      <td>Lerum</td>\n",
       "      <td>Lerum</td>\n",
       "      <td>Lerum</td>\n",
       "      <td>Lerum</td>\n",
       "      <td>Lerum</td>\n",
       "      <td>Lerum</td>\n",
       "      <td>Lerum</td>\n",
       "      <td>Lerum</td>\n",
       "      <td>Lerum</td>\n",
       "    </tr>\n",
       "    <tr>\n",
       "      <th>1</th>\n",
       "      <td>Uppgift</td>\n",
       "      <td>Totalt antal elever årskurs 9</td>\n",
       "      <td>- andel (%) flickor</td>\n",
       "      <td>- andel (%) pojkar</td>\n",
       "      <td>- andel (%) elever med utländsk bakgrund</td>\n",
       "      <td>- andel (%) med föräldrar med eftergymnasial u...</td>\n",
       "      <td>Genomsnittligt meritvärde (17 ämnen)</td>\n",
       "      <td>Genomsnittligt meritvärde (16 ämnen)</td>\n",
       "      <td>Andel (%) behöriga till yrkesprogram</td>\n",
       "      <td>Andel (%) som fått godkänt betyg i alla ämnen</td>\n",
       "    </tr>\n",
       "    <tr>\n",
       "      <th>2</th>\n",
       "      <td>2022/23</td>\n",
       "      <td>612</td>\n",
       "      <td>48.9</td>\n",
       "      <td>51.1</td>\n",
       "      <td>12</td>\n",
       "      <td>70.4</td>\n",
       "      <td>223.1</td>\n",
       "      <td>215.8</td>\n",
       "      <td>82.7</td>\n",
       "      <td>70.9</td>\n",
       "    </tr>\n",
       "    <tr>\n",
       "      <th>3</th>\n",
       "      <td>2021/22</td>\n",
       "      <td>589</td>\n",
       "      <td>47.2</td>\n",
       "      <td>52.8</td>\n",
       "      <td>11.2</td>\n",
       "      <td>70.7</td>\n",
       "      <td>230.1</td>\n",
       "      <td>221.7</td>\n",
       "      <td>86.6</td>\n",
       "      <td>76.1</td>\n",
       "    </tr>\n",
       "    <tr>\n",
       "      <th>4</th>\n",
       "      <td>2020/21</td>\n",
       "      <td>619</td>\n",
       "      <td>47.5</td>\n",
       "      <td>52.5</td>\n",
       "      <td>11.6</td>\n",
       "      <td>70.2</td>\n",
       "      <td>232.5</td>\n",
       "      <td>224.3</td>\n",
       "      <td>85.9</td>\n",
       "      <td>78</td>\n",
       "    </tr>\n",
       "    <tr>\n",
       "      <th>5</th>\n",
       "      <td>2019/20</td>\n",
       "      <td>585</td>\n",
       "      <td>47.5</td>\n",
       "      <td>52.5</td>\n",
       "      <td>10.1</td>\n",
       "      <td>66.3</td>\n",
       "      <td>238.7</td>\n",
       "      <td>229.7</td>\n",
       "      <td>88.7</td>\n",
       "      <td>80.7</td>\n",
       "    </tr>\n",
       "    <tr>\n",
       "      <th>6</th>\n",
       "      <td>2018/19</td>\n",
       "      <td>504</td>\n",
       "      <td>47.2</td>\n",
       "      <td>52.8</td>\n",
       "      <td>9.8</td>\n",
       "      <td>66.8</td>\n",
       "      <td>235.2</td>\n",
       "      <td>226.8</td>\n",
       "      <td>89.3</td>\n",
       "      <td>78.8</td>\n",
       "    </tr>\n",
       "    <tr>\n",
       "      <th>7</th>\n",
       "      <td>2017/18</td>\n",
       "      <td>536</td>\n",
       "      <td>48.1</td>\n",
       "      <td>51.9</td>\n",
       "      <td>9.5</td>\n",
       "      <td>63</td>\n",
       "      <td>234.1</td>\n",
       "      <td>225.4</td>\n",
       "      <td>89.2</td>\n",
       "      <td>82.1</td>\n",
       "    </tr>\n",
       "    <tr>\n",
       "      <th>8</th>\n",
       "      <td>2016/17</td>\n",
       "      <td>535</td>\n",
       "      <td>43</td>\n",
       "      <td>57</td>\n",
       "      <td>7.1</td>\n",
       "      <td>62.9</td>\n",
       "      <td>219.9</td>\n",
       "      <td>212.6</td>\n",
       "      <td>82.6</td>\n",
       "      <td>75.7</td>\n",
       "    </tr>\n",
       "    <tr>\n",
       "      <th>9</th>\n",
       "      <td>2015/16</td>\n",
       "      <td>451</td>\n",
       "      <td>47.2</td>\n",
       "      <td>52.8</td>\n",
       "      <td>9.9</td>\n",
       "      <td>63.8</td>\n",
       "      <td>224.7</td>\n",
       "      <td>217.2</td>\n",
       "      <td>87.1</td>\n",
       "      <td>77.4</td>\n",
       "    </tr>\n",
       "    <tr>\n",
       "      <th>10</th>\n",
       "      <td>2014/15</td>\n",
       "      <td>439</td>\n",
       "      <td>44.4</td>\n",
       "      <td>55.6</td>\n",
       "      <td>8.2</td>\n",
       "      <td>61.3</td>\n",
       "      <td>218.8</td>\n",
       "      <td>211.3</td>\n",
       "      <td>90.4</td>\n",
       "      <td>80</td>\n",
       "    </tr>\n",
       "    <tr>\n",
       "      <th>11</th>\n",
       "      <td>2013/14</td>\n",
       "      <td>432</td>\n",
       "      <td>46.5</td>\n",
       "      <td>53.5</td>\n",
       "      <td>8.8</td>\n",
       "      <td>62.2</td>\n",
       "      <td>.</td>\n",
       "      <td>219.8</td>\n",
       "      <td>92.1</td>\n",
       "      <td>83.6</td>\n",
       "    </tr>\n",
       "  </tbody>\n",
       "</table>\n",
       "</div>"
      ],
      "text/plain": [
       "      index                           1062                 1063  \\\n",
       "0    Kommun                          Lerum                Lerum   \n",
       "1   Uppgift  Totalt antal elever årskurs 9  - andel (%) flickor   \n",
       "2   2022/23                            612                 48.9   \n",
       "3   2021/22                            589                 47.2   \n",
       "4   2020/21                            619                 47.5   \n",
       "5   2019/20                            585                 47.5   \n",
       "6   2018/19                            504                 47.2   \n",
       "7   2017/18                            536                 48.1   \n",
       "8   2016/17                            535                   43   \n",
       "9   2015/16                            451                 47.2   \n",
       "10  2014/15                            439                 44.4   \n",
       "11  2013/14                            432                 46.5   \n",
       "\n",
       "                  1064                                      1065  \\\n",
       "0                Lerum                                     Lerum   \n",
       "1   - andel (%) pojkar  - andel (%) elever med utländsk bakgrund   \n",
       "2                 51.1                                        12   \n",
       "3                 52.8                                      11.2   \n",
       "4                 52.5                                      11.6   \n",
       "5                 52.5                                      10.1   \n",
       "6                 52.8                                       9.8   \n",
       "7                 51.9                                       9.5   \n",
       "8                   57                                       7.1   \n",
       "9                 52.8                                       9.9   \n",
       "10                55.6                                       8.2   \n",
       "11                53.5                                       8.8   \n",
       "\n",
       "                                                 1066  \\\n",
       "0                                               Lerum   \n",
       "1   - andel (%) med föräldrar med eftergymnasial u...   \n",
       "2                                                70.4   \n",
       "3                                                70.7   \n",
       "4                                                70.2   \n",
       "5                                                66.3   \n",
       "6                                                66.8   \n",
       "7                                                  63   \n",
       "8                                                62.9   \n",
       "9                                                63.8   \n",
       "10                                               61.3   \n",
       "11                                               62.2   \n",
       "\n",
       "                                    1067  \\\n",
       "0                                  Lerum   \n",
       "1   Genomsnittligt meritvärde (17 ämnen)   \n",
       "2                                  223.1   \n",
       "3                                  230.1   \n",
       "4                                  232.5   \n",
       "5                                  238.7   \n",
       "6                                  235.2   \n",
       "7                                  234.1   \n",
       "8                                  219.9   \n",
       "9                                  224.7   \n",
       "10                                 218.8   \n",
       "11                                     .   \n",
       "\n",
       "                                    1068  \\\n",
       "0                                  Lerum   \n",
       "1   Genomsnittligt meritvärde (16 ämnen)   \n",
       "2                                  215.8   \n",
       "3                                  221.7   \n",
       "4                                  224.3   \n",
       "5                                  229.7   \n",
       "6                                  226.8   \n",
       "7                                  225.4   \n",
       "8                                  212.6   \n",
       "9                                  217.2   \n",
       "10                                 211.3   \n",
       "11                                 219.8   \n",
       "\n",
       "                                    1069  \\\n",
       "0                                  Lerum   \n",
       "1   Andel (%) behöriga till yrkesprogram   \n",
       "2                                   82.7   \n",
       "3                                   86.6   \n",
       "4                                   85.9   \n",
       "5                                   88.7   \n",
       "6                                   89.3   \n",
       "7                                   89.2   \n",
       "8                                   82.6   \n",
       "9                                   87.1   \n",
       "10                                  90.4   \n",
       "11                                  92.1   \n",
       "\n",
       "                                             1070  \n",
       "0                                           Lerum  \n",
       "1   Andel (%) som fått godkänt betyg i alla ämnen  \n",
       "2                                            70.9  \n",
       "3                                            76.1  \n",
       "4                                              78  \n",
       "5                                            80.7  \n",
       "6                                            78.8  \n",
       "7                                            82.1  \n",
       "8                                            75.7  \n",
       "9                                            77.4  \n",
       "10                                             80  \n",
       "11                                           83.6  "
      ]
     },
     "execution_count": 294,
     "metadata": {},
     "output_type": "execute_result"
    }
   ],
   "source": [
    "# Transpose so that years are on rows\n",
    "df_lerum_over_time = df_lerum.T.reset_index(drop=False)\n",
    "df_lerum_over_time"
   ]
  },
  {
   "cell_type": "code",
   "execution_count": 295,
   "metadata": {},
   "outputs": [
    {
     "data": {
      "text/html": [
       "<div>\n",
       "<style scoped>\n",
       "    .dataframe tbody tr th:only-of-type {\n",
       "        vertical-align: middle;\n",
       "    }\n",
       "\n",
       "    .dataframe tbody tr th {\n",
       "        vertical-align: top;\n",
       "    }\n",
       "\n",
       "    .dataframe thead th {\n",
       "        text-align: right;\n",
       "    }\n",
       "</style>\n",
       "<table border=\"1\" class=\"dataframe\">\n",
       "  <thead>\n",
       "    <tr style=\"text-align: right;\">\n",
       "      <th></th>\n",
       "      <th>index</th>\n",
       "      <th>1062</th>\n",
       "      <th>1063</th>\n",
       "      <th>1064</th>\n",
       "      <th>1065</th>\n",
       "      <th>1066</th>\n",
       "      <th>1067</th>\n",
       "      <th>1068</th>\n",
       "      <th>1069</th>\n",
       "      <th>1070</th>\n",
       "    </tr>\n",
       "  </thead>\n",
       "  <tbody>\n",
       "    <tr>\n",
       "      <th>2</th>\n",
       "      <td>2022/23</td>\n",
       "      <td>612</td>\n",
       "      <td>48.9</td>\n",
       "      <td>51.1</td>\n",
       "      <td>12</td>\n",
       "      <td>70.4</td>\n",
       "      <td>223.1</td>\n",
       "      <td>215.8</td>\n",
       "      <td>82.7</td>\n",
       "      <td>70.9</td>\n",
       "    </tr>\n",
       "    <tr>\n",
       "      <th>3</th>\n",
       "      <td>2021/22</td>\n",
       "      <td>589</td>\n",
       "      <td>47.2</td>\n",
       "      <td>52.8</td>\n",
       "      <td>11.2</td>\n",
       "      <td>70.7</td>\n",
       "      <td>230.1</td>\n",
       "      <td>221.7</td>\n",
       "      <td>86.6</td>\n",
       "      <td>76.1</td>\n",
       "    </tr>\n",
       "    <tr>\n",
       "      <th>4</th>\n",
       "      <td>2020/21</td>\n",
       "      <td>619</td>\n",
       "      <td>47.5</td>\n",
       "      <td>52.5</td>\n",
       "      <td>11.6</td>\n",
       "      <td>70.2</td>\n",
       "      <td>232.5</td>\n",
       "      <td>224.3</td>\n",
       "      <td>85.9</td>\n",
       "      <td>78</td>\n",
       "    </tr>\n",
       "    <tr>\n",
       "      <th>5</th>\n",
       "      <td>2019/20</td>\n",
       "      <td>585</td>\n",
       "      <td>47.5</td>\n",
       "      <td>52.5</td>\n",
       "      <td>10.1</td>\n",
       "      <td>66.3</td>\n",
       "      <td>238.7</td>\n",
       "      <td>229.7</td>\n",
       "      <td>88.7</td>\n",
       "      <td>80.7</td>\n",
       "    </tr>\n",
       "    <tr>\n",
       "      <th>6</th>\n",
       "      <td>2018/19</td>\n",
       "      <td>504</td>\n",
       "      <td>47.2</td>\n",
       "      <td>52.8</td>\n",
       "      <td>9.8</td>\n",
       "      <td>66.8</td>\n",
       "      <td>235.2</td>\n",
       "      <td>226.8</td>\n",
       "      <td>89.3</td>\n",
       "      <td>78.8</td>\n",
       "    </tr>\n",
       "    <tr>\n",
       "      <th>7</th>\n",
       "      <td>2017/18</td>\n",
       "      <td>536</td>\n",
       "      <td>48.1</td>\n",
       "      <td>51.9</td>\n",
       "      <td>9.5</td>\n",
       "      <td>63</td>\n",
       "      <td>234.1</td>\n",
       "      <td>225.4</td>\n",
       "      <td>89.2</td>\n",
       "      <td>82.1</td>\n",
       "    </tr>\n",
       "    <tr>\n",
       "      <th>8</th>\n",
       "      <td>2016/17</td>\n",
       "      <td>535</td>\n",
       "      <td>43</td>\n",
       "      <td>57</td>\n",
       "      <td>7.1</td>\n",
       "      <td>62.9</td>\n",
       "      <td>219.9</td>\n",
       "      <td>212.6</td>\n",
       "      <td>82.6</td>\n",
       "      <td>75.7</td>\n",
       "    </tr>\n",
       "    <tr>\n",
       "      <th>9</th>\n",
       "      <td>2015/16</td>\n",
       "      <td>451</td>\n",
       "      <td>47.2</td>\n",
       "      <td>52.8</td>\n",
       "      <td>9.9</td>\n",
       "      <td>63.8</td>\n",
       "      <td>224.7</td>\n",
       "      <td>217.2</td>\n",
       "      <td>87.1</td>\n",
       "      <td>77.4</td>\n",
       "    </tr>\n",
       "    <tr>\n",
       "      <th>10</th>\n",
       "      <td>2014/15</td>\n",
       "      <td>439</td>\n",
       "      <td>44.4</td>\n",
       "      <td>55.6</td>\n",
       "      <td>8.2</td>\n",
       "      <td>61.3</td>\n",
       "      <td>218.8</td>\n",
       "      <td>211.3</td>\n",
       "      <td>90.4</td>\n",
       "      <td>80</td>\n",
       "    </tr>\n",
       "    <tr>\n",
       "      <th>11</th>\n",
       "      <td>2013/14</td>\n",
       "      <td>432</td>\n",
       "      <td>46.5</td>\n",
       "      <td>53.5</td>\n",
       "      <td>8.8</td>\n",
       "      <td>62.2</td>\n",
       "      <td>.</td>\n",
       "      <td>219.8</td>\n",
       "      <td>92.1</td>\n",
       "      <td>83.6</td>\n",
       "    </tr>\n",
       "  </tbody>\n",
       "</table>\n",
       "</div>"
      ],
      "text/plain": [
       "      index 1062  1063  1064  1065  1066   1067   1068  1069  1070\n",
       "2   2022/23  612  48.9  51.1    12  70.4  223.1  215.8  82.7  70.9\n",
       "3   2021/22  589  47.2  52.8  11.2  70.7  230.1  221.7  86.6  76.1\n",
       "4   2020/21  619  47.5  52.5  11.6  70.2  232.5  224.3  85.9    78\n",
       "5   2019/20  585  47.5  52.5  10.1  66.3  238.7  229.7  88.7  80.7\n",
       "6   2018/19  504  47.2  52.8   9.8  66.8  235.2  226.8  89.3  78.8\n",
       "7   2017/18  536  48.1  51.9   9.5    63  234.1  225.4  89.2  82.1\n",
       "8   2016/17  535    43    57   7.1  62.9  219.9  212.6  82.6  75.7\n",
       "9   2015/16  451  47.2  52.8   9.9  63.8  224.7  217.2  87.1  77.4\n",
       "10  2014/15  439  44.4  55.6   8.2  61.3  218.8  211.3  90.4    80\n",
       "11  2013/14  432  46.5  53.5   8.8  62.2      .  219.8  92.1  83.6"
      ]
     },
     "execution_count": 295,
     "metadata": {},
     "output_type": "execute_result"
    }
   ],
   "source": [
    "# Remove unnecessary rows\n",
    "df_lerum_over_time = df_lerum_over_time.drop([0, 1], axis=\"rows\")\n",
    "df_lerum_over_time"
   ]
  },
  {
   "cell_type": "code",
   "execution_count": 296,
   "metadata": {},
   "outputs": [
    {
     "data": {
      "text/html": [
       "<div>\n",
       "<style scoped>\n",
       "    .dataframe tbody tr th:only-of-type {\n",
       "        vertical-align: middle;\n",
       "    }\n",
       "\n",
       "    .dataframe tbody tr th {\n",
       "        vertical-align: top;\n",
       "    }\n",
       "\n",
       "    .dataframe thead th {\n",
       "        text-align: right;\n",
       "    }\n",
       "</style>\n",
       "<table border=\"1\" class=\"dataframe\">\n",
       "  <thead>\n",
       "    <tr style=\"text-align: right;\">\n",
       "      <th></th>\n",
       "      <th>Läsår</th>\n",
       "      <th>Totalt antal elever årskurs 9</th>\n",
       "      <th>andel (%) flickor</th>\n",
       "      <th>andel (%) pojkar</th>\n",
       "      <th>andel (%) elever med utländsk bakgrund</th>\n",
       "      <th>andel (%) med föräldrar med eftergymnasial utbildning</th>\n",
       "      <th>Genomsnittligt meritvärde (17 ämnen)</th>\n",
       "      <th>Genomsnittligt meritvärde (16 ämnen)</th>\n",
       "      <th>Andel (%) behöriga till yrkesprogram</th>\n",
       "      <th>Andel (%) som fått godkänt betyg i alla ämnen</th>\n",
       "    </tr>\n",
       "  </thead>\n",
       "  <tbody>\n",
       "    <tr>\n",
       "      <th>2</th>\n",
       "      <td>2022/23</td>\n",
       "      <td>612</td>\n",
       "      <td>48.9</td>\n",
       "      <td>51.1</td>\n",
       "      <td>12</td>\n",
       "      <td>70.4</td>\n",
       "      <td>223.1</td>\n",
       "      <td>215.8</td>\n",
       "      <td>82.7</td>\n",
       "      <td>70.9</td>\n",
       "    </tr>\n",
       "    <tr>\n",
       "      <th>3</th>\n",
       "      <td>2021/22</td>\n",
       "      <td>589</td>\n",
       "      <td>47.2</td>\n",
       "      <td>52.8</td>\n",
       "      <td>11.2</td>\n",
       "      <td>70.7</td>\n",
       "      <td>230.1</td>\n",
       "      <td>221.7</td>\n",
       "      <td>86.6</td>\n",
       "      <td>76.1</td>\n",
       "    </tr>\n",
       "    <tr>\n",
       "      <th>4</th>\n",
       "      <td>2020/21</td>\n",
       "      <td>619</td>\n",
       "      <td>47.5</td>\n",
       "      <td>52.5</td>\n",
       "      <td>11.6</td>\n",
       "      <td>70.2</td>\n",
       "      <td>232.5</td>\n",
       "      <td>224.3</td>\n",
       "      <td>85.9</td>\n",
       "      <td>78</td>\n",
       "    </tr>\n",
       "    <tr>\n",
       "      <th>5</th>\n",
       "      <td>2019/20</td>\n",
       "      <td>585</td>\n",
       "      <td>47.5</td>\n",
       "      <td>52.5</td>\n",
       "      <td>10.1</td>\n",
       "      <td>66.3</td>\n",
       "      <td>238.7</td>\n",
       "      <td>229.7</td>\n",
       "      <td>88.7</td>\n",
       "      <td>80.7</td>\n",
       "    </tr>\n",
       "    <tr>\n",
       "      <th>6</th>\n",
       "      <td>2018/19</td>\n",
       "      <td>504</td>\n",
       "      <td>47.2</td>\n",
       "      <td>52.8</td>\n",
       "      <td>9.8</td>\n",
       "      <td>66.8</td>\n",
       "      <td>235.2</td>\n",
       "      <td>226.8</td>\n",
       "      <td>89.3</td>\n",
       "      <td>78.8</td>\n",
       "    </tr>\n",
       "    <tr>\n",
       "      <th>7</th>\n",
       "      <td>2017/18</td>\n",
       "      <td>536</td>\n",
       "      <td>48.1</td>\n",
       "      <td>51.9</td>\n",
       "      <td>9.5</td>\n",
       "      <td>63</td>\n",
       "      <td>234.1</td>\n",
       "      <td>225.4</td>\n",
       "      <td>89.2</td>\n",
       "      <td>82.1</td>\n",
       "    </tr>\n",
       "    <tr>\n",
       "      <th>8</th>\n",
       "      <td>2016/17</td>\n",
       "      <td>535</td>\n",
       "      <td>43</td>\n",
       "      <td>57</td>\n",
       "      <td>7.1</td>\n",
       "      <td>62.9</td>\n",
       "      <td>219.9</td>\n",
       "      <td>212.6</td>\n",
       "      <td>82.6</td>\n",
       "      <td>75.7</td>\n",
       "    </tr>\n",
       "    <tr>\n",
       "      <th>9</th>\n",
       "      <td>2015/16</td>\n",
       "      <td>451</td>\n",
       "      <td>47.2</td>\n",
       "      <td>52.8</td>\n",
       "      <td>9.9</td>\n",
       "      <td>63.8</td>\n",
       "      <td>224.7</td>\n",
       "      <td>217.2</td>\n",
       "      <td>87.1</td>\n",
       "      <td>77.4</td>\n",
       "    </tr>\n",
       "    <tr>\n",
       "      <th>10</th>\n",
       "      <td>2014/15</td>\n",
       "      <td>439</td>\n",
       "      <td>44.4</td>\n",
       "      <td>55.6</td>\n",
       "      <td>8.2</td>\n",
       "      <td>61.3</td>\n",
       "      <td>218.8</td>\n",
       "      <td>211.3</td>\n",
       "      <td>90.4</td>\n",
       "      <td>80</td>\n",
       "    </tr>\n",
       "    <tr>\n",
       "      <th>11</th>\n",
       "      <td>2013/14</td>\n",
       "      <td>432</td>\n",
       "      <td>46.5</td>\n",
       "      <td>53.5</td>\n",
       "      <td>8.8</td>\n",
       "      <td>62.2</td>\n",
       "      <td>.</td>\n",
       "      <td>219.8</td>\n",
       "      <td>92.1</td>\n",
       "      <td>83.6</td>\n",
       "    </tr>\n",
       "  </tbody>\n",
       "</table>\n",
       "</div>"
      ],
      "text/plain": [
       "      Läsår Totalt antal elever årskurs 9 andel (%) flickor andel (%) pojkar  \\\n",
       "2   2022/23                           612              48.9             51.1   \n",
       "3   2021/22                           589              47.2             52.8   \n",
       "4   2020/21                           619              47.5             52.5   \n",
       "5   2019/20                           585              47.5             52.5   \n",
       "6   2018/19                           504              47.2             52.8   \n",
       "7   2017/18                           536              48.1             51.9   \n",
       "8   2016/17                           535                43               57   \n",
       "9   2015/16                           451              47.2             52.8   \n",
       "10  2014/15                           439              44.4             55.6   \n",
       "11  2013/14                           432              46.5             53.5   \n",
       "\n",
       "   andel (%) elever med utländsk bakgrund  \\\n",
       "2                                      12   \n",
       "3                                    11.2   \n",
       "4                                    11.6   \n",
       "5                                    10.1   \n",
       "6                                     9.8   \n",
       "7                                     9.5   \n",
       "8                                     7.1   \n",
       "9                                     9.9   \n",
       "10                                    8.2   \n",
       "11                                    8.8   \n",
       "\n",
       "   andel (%) med föräldrar med eftergymnasial utbildning  \\\n",
       "2                                                70.4      \n",
       "3                                                70.7      \n",
       "4                                                70.2      \n",
       "5                                                66.3      \n",
       "6                                                66.8      \n",
       "7                                                  63      \n",
       "8                                                62.9      \n",
       "9                                                63.8      \n",
       "10                                               61.3      \n",
       "11                                               62.2      \n",
       "\n",
       "   Genomsnittligt meritvärde (17 ämnen) Genomsnittligt meritvärde (16 ämnen)  \\\n",
       "2                                 223.1                                215.8   \n",
       "3                                 230.1                                221.7   \n",
       "4                                 232.5                                224.3   \n",
       "5                                 238.7                                229.7   \n",
       "6                                 235.2                                226.8   \n",
       "7                                 234.1                                225.4   \n",
       "8                                 219.9                                212.6   \n",
       "9                                 224.7                                217.2   \n",
       "10                                218.8                                211.3   \n",
       "11                                    .                                219.8   \n",
       "\n",
       "   Andel (%) behöriga till yrkesprogram  \\\n",
       "2                                  82.7   \n",
       "3                                  86.6   \n",
       "4                                  85.9   \n",
       "5                                  88.7   \n",
       "6                                  89.3   \n",
       "7                                  89.2   \n",
       "8                                  82.6   \n",
       "9                                  87.1   \n",
       "10                                 90.4   \n",
       "11                                 92.1   \n",
       "\n",
       "   Andel (%) som fått godkänt betyg i alla ämnen  \n",
       "2                                           70.9  \n",
       "3                                           76.1  \n",
       "4                                             78  \n",
       "5                                           80.7  \n",
       "6                                           78.8  \n",
       "7                                           82.1  \n",
       "8                                           75.7  \n",
       "9                                           77.4  \n",
       "10                                            80  \n",
       "11                                          83.6  "
      ]
     },
     "execution_count": 296,
     "metadata": {},
     "output_type": "execute_result"
    }
   ],
   "source": [
    "# Rename columns\n",
    "df_lerum_over_time.columns = [\n",
    "        \"Läsår\",\n",
    "        \"Totalt antal elever årskurs 9\",\n",
    "        \"andel (%) flickor\",\n",
    "        \"andel (%) pojkar\",\n",
    "        \"andel (%) elever med utländsk bakgrund\",\n",
    "        \"andel (%) med föräldrar med eftergymnasial utbildning\",\n",
    "        \"Genomsnittligt meritvärde (17 ämnen)\",\n",
    "        \"Genomsnittligt meritvärde (16 ämnen)\",\n",
    "        \"Andel (%) behöriga till yrkesprogram\",\n",
    "        \"Andel (%) som fått godkänt betyg i alla ämnen\"\n",
    "    ]\n",
    "\n",
    "df_lerum_over_time"
   ]
  },
  {
   "cell_type": "code",
   "execution_count": 297,
   "metadata": {},
   "outputs": [],
   "source": [
    "# sort so that years are in chronological order\n",
    "df_lerum_over_time = df_lerum_over_time.sort_index(ascending=False)"
   ]
  },
  {
   "cell_type": "code",
   "execution_count": 298,
   "metadata": {},
   "outputs": [
    {
     "name": "stderr",
     "output_type": "stream",
     "text": [
      "C:\\Users\\Erik\\AppData\\Local\\Temp\\ipykernel_20248\\3811192508.py:14: UserWarning:\n",
      "\n",
      "set_ticklabels() should only be used with a fixed number of ticks, i.e. after set_ticks() or using a FixedLocator.\n",
      "\n"
     ]
    },
    {
     "data": {
      "image/png": "[encoded data removed]",
      "text/plain": [
       "<Figure size 640x480 with 1 Axes>"
      ]
     },
     "metadata": {},
     "output_type": "display_data"
    }
   ],
   "source": [
    "import seaborn as sns\n",
    "# Make lineplot with seaborn\n",
    "ax = sns.lineplot(\n",
    "    data=df_lerum_over_time, x=\"Läsår\", y=\"Genomsnittligt meritvärde (16 ämnen)\"\n",
    ")\n",
    "ax.set(\n",
    "    ylabel=\"Meritvärde\",\n",
    "    title=\"Genomsnittligt meritvärde beräknat på 16 ämnen för elever årskurs 9\\ni Lerums kommun läsåren 2013/14 till 2022/23\",\n",
    "    ylim=(200, 250)\n",
    ")\n",
    "ax.spines[[\"top\", \"right\"]].set_visible(False)\n",
    "ax.spines[[\"bottom\", \"left\"]].set_color(\"gray\")\n",
    "ax.tick_params(colors=\"gray\")\n",
    "ax.set_xticklabels(df_lerum_over_time[\"Läsår\"], rotation=30)\n",
    "plt.show()"
   ]
  },
  {
   "cell_type": "markdown",
   "metadata": {},
   "source": [
    "KPI #3 En tredje KPI skulle kunna vara att undersöka antalet elever med svensk respektive utländsk bakgrund för de gymnasieskoler som har flest elever i Sverige"
   ]
  },
  {
   "cell_type": "code",
   "execution_count": 299,
   "metadata": {},
   "outputs": [
    {
     "data": {
      "text/html": [
       "<div>\n",
       "<style scoped>\n",
       "    .dataframe tbody tr th:only-of-type {\n",
       "        vertical-align: middle;\n",
       "    }\n",
       "\n",
       "    .dataframe tbody tr th {\n",
       "        vertical-align: top;\n",
       "    }\n",
       "\n",
       "    .dataframe thead th {\n",
       "        text-align: right;\n",
       "    }\n",
       "</style>\n",
       "<table border=\"1\" class=\"dataframe\">\n",
       "  <thead>\n",
       "    <tr style=\"text-align: right;\">\n",
       "      <th></th>\n",
       "      <th>Skola</th>\n",
       "      <th>Skol-enhetskod</th>\n",
       "      <th>Skolkommun</th>\n",
       "      <th>Kommun-kod</th>\n",
       "      <th>Typ av huvudman</th>\n",
       "      <th>Huvudman</th>\n",
       "      <th>Huvudman orgnr</th>\n",
       "      <th>Antal elever</th>\n",
       "      <th>Antal elever skolår 1</th>\n",
       "      <th>Antal elever skolår 2</th>\n",
       "      <th>Antal elever skolår 3</th>\n",
       "      <th>Andel kvinnor (%)</th>\n",
       "      <th>Andel m utl bakgr (%)</th>\n",
       "      <th>Andel m högutb föräldrar (%)</th>\n",
       "    </tr>\n",
       "  </thead>\n",
       "  <tbody>\n",
       "    <tr>\n",
       "      <th>0</th>\n",
       "      <td>Ale gymnasium</td>\n",
       "      <td>17221836</td>\n",
       "      <td>Ale</td>\n",
       "      <td>1440</td>\n",
       "      <td>Kommunal</td>\n",
       "      <td>Ale kommun</td>\n",
       "      <td>2120001439</td>\n",
       "      <td>120</td>\n",
       "      <td>63</td>\n",
       "      <td>34</td>\n",
       "      <td>23</td>\n",
       "      <td>48</td>\n",
       "      <td>39</td>\n",
       "      <td>28</td>\n",
       "    </tr>\n",
       "    <tr>\n",
       "      <th>1</th>\n",
       "      <td>Lärlingsgymnasiet i Ale</td>\n",
       "      <td>93221031</td>\n",
       "      <td>Ale</td>\n",
       "      <td>1440</td>\n",
       "      <td>Enskild</td>\n",
       "      <td>Lärlingsgymnasiet i Sverige AB</td>\n",
       "      <td>5567628176</td>\n",
       "      <td>286</td>\n",
       "      <td>95</td>\n",
       "      <td>109</td>\n",
       "      <td>82</td>\n",
       "      <td>27</td>\n",
       "      <td>17</td>\n",
       "      <td>39</td>\n",
       "    </tr>\n",
       "    <tr>\n",
       "      <th>2</th>\n",
       "      <td>Alingsås Yrkesgymnasium</td>\n",
       "      <td>17474377</td>\n",
       "      <td>Alingsås</td>\n",
       "      <td>1489</td>\n",
       "      <td>Enskild</td>\n",
       "      <td>Alingsås Yrkesgymnasium AB</td>\n",
       "      <td>5567290548</td>\n",
       "      <td>76</td>\n",
       "      <td>31</td>\n",
       "      <td>21</td>\n",
       "      <td>24</td>\n",
       "      <td>38</td>\n",
       "      <td>..</td>\n",
       "      <td>49</td>\n",
       "    </tr>\n",
       "    <tr>\n",
       "      <th>3</th>\n",
       "      <td>Alströmergymnasiet sektor 2</td>\n",
       "      <td>18345915</td>\n",
       "      <td>Alingsås</td>\n",
       "      <td>1489</td>\n",
       "      <td>Kommunal</td>\n",
       "      <td>Alingsås kommun</td>\n",
       "      <td>2120001553</td>\n",
       "      <td>362</td>\n",
       "      <td>114</td>\n",
       "      <td>140</td>\n",
       "      <td>108</td>\n",
       "      <td>28</td>\n",
       "      <td>20</td>\n",
       "      <td>70</td>\n",
       "    </tr>\n",
       "    <tr>\n",
       "      <th>4</th>\n",
       "      <td>Alströmergymnasiet sektor 3</td>\n",
       "      <td>68229719</td>\n",
       "      <td>Alingsås</td>\n",
       "      <td>1489</td>\n",
       "      <td>Kommunal</td>\n",
       "      <td>Alingsås kommun</td>\n",
       "      <td>2120001553</td>\n",
       "      <td>288</td>\n",
       "      <td>87</td>\n",
       "      <td>103</td>\n",
       "      <td>98</td>\n",
       "      <td>68</td>\n",
       "      <td>18</td>\n",
       "      <td>68</td>\n",
       "    </tr>\n",
       "  </tbody>\n",
       "</table>\n",
       "</div>"
      ],
      "text/plain": [
       "                         Skola  Skol-enhetskod Skolkommun  Kommun-kod  \\\n",
       "0                Ale gymnasium        17221836        Ale        1440   \n",
       "1      Lärlingsgymnasiet i Ale        93221031        Ale        1440   \n",
       "2      Alingsås Yrkesgymnasium        17474377   Alingsås        1489   \n",
       "3  Alströmergymnasiet sektor 2        18345915   Alingsås        1489   \n",
       "4  Alströmergymnasiet sektor 3        68229719   Alingsås        1489   \n",
       "\n",
       "  Typ av huvudman                        Huvudman  Huvudman orgnr  \\\n",
       "0        Kommunal                      Ale kommun      2120001439   \n",
       "1         Enskild  Lärlingsgymnasiet i Sverige AB      5567628176   \n",
       "2         Enskild      Alingsås Yrkesgymnasium AB      5567290548   \n",
       "3        Kommunal                 Alingsås kommun      2120001553   \n",
       "4        Kommunal                 Alingsås kommun      2120001553   \n",
       "\n",
       "   Antal elever Antal elever skolår 1 Antal elever skolår 2  \\\n",
       "0           120                    63                    34   \n",
       "1           286                    95                   109   \n",
       "2            76                    31                    21   \n",
       "3           362                   114                   140   \n",
       "4           288                    87                   103   \n",
       "\n",
       "  Antal elever skolår 3 Andel kvinnor (%) Andel m utl bakgr (%)  \\\n",
       "0                    23                48                    39   \n",
       "1                    82                27                    17   \n",
       "2                    24                38                    ..   \n",
       "3                   108                28                    20   \n",
       "4                    98                68                    18   \n",
       "\n",
       "  Andel m högutb föräldrar (%)  \n",
       "0                           28  \n",
       "1                           39  \n",
       "2                           49  \n",
       "3                           70  \n",
       "4                           68  "
      ]
     },
     "execution_count": 299,
     "metadata": {},
     "output_type": "execute_result"
    }
   ],
   "source": [
    "# make relevant dataframe from excel sheet\n",
    "df_students = pd.read_excel(\"./data/antal_elever_gymnasiet.xlsx\", sheet_name=\"Sheet1\", skiprows=7)\n",
    "df_students.head()"
   ]
  },
  {
   "cell_type": "code",
   "execution_count": 300,
   "metadata": {},
   "outputs": [
    {
     "data": {
      "text/html": [
       "<div>\n",
       "<style scoped>\n",
       "    .dataframe tbody tr th:only-of-type {\n",
       "        vertical-align: middle;\n",
       "    }\n",
       "\n",
       "    .dataframe tbody tr th {\n",
       "        vertical-align: top;\n",
       "    }\n",
       "\n",
       "    .dataframe thead th {\n",
       "        text-align: right;\n",
       "    }\n",
       "</style>\n",
       "<table border=\"1\" class=\"dataframe\">\n",
       "  <thead>\n",
       "    <tr style=\"text-align: right;\">\n",
       "      <th></th>\n",
       "      <th>Skola</th>\n",
       "      <th>Skol-enhetskod</th>\n",
       "      <th>Skolkommun</th>\n",
       "      <th>Kommun-kod</th>\n",
       "      <th>Typ av huvudman</th>\n",
       "      <th>Huvudman</th>\n",
       "      <th>Huvudman orgnr</th>\n",
       "      <th>Antal elever</th>\n",
       "      <th>Antal elever skolår 1</th>\n",
       "      <th>Antal elever skolår 2</th>\n",
       "      <th>Antal elever skolår 3</th>\n",
       "      <th>Andel kvinnor (%)</th>\n",
       "      <th>Andel m utl bakgr (%)</th>\n",
       "      <th>Andel m högutb föräldrar (%)</th>\n",
       "    </tr>\n",
       "  </thead>\n",
       "  <tbody>\n",
       "    <tr>\n",
       "      <th>582</th>\n",
       "      <td>Polhemskolan</td>\n",
       "      <td>53896162</td>\n",
       "      <td>Lund</td>\n",
       "      <td>1281</td>\n",
       "      <td>Kommunal</td>\n",
       "      <td>Lunds kommun</td>\n",
       "      <td>2120001132</td>\n",
       "      <td>2595</td>\n",
       "      <td>886</td>\n",
       "      <td>855</td>\n",
       "      <td>854</td>\n",
       "      <td>45</td>\n",
       "      <td>16</td>\n",
       "      <td>86</td>\n",
       "    </tr>\n",
       "    <tr>\n",
       "      <th>671</th>\n",
       "      <td>Nacka Gymnasium</td>\n",
       "      <td>92506886</td>\n",
       "      <td>Nacka</td>\n",
       "      <td>182</td>\n",
       "      <td>Kommunal</td>\n",
       "      <td>Nacka kommun</td>\n",
       "      <td>2120000167</td>\n",
       "      <td>2213</td>\n",
       "      <td>785</td>\n",
       "      <td>742</td>\n",
       "      <td>686</td>\n",
       "      <td>35</td>\n",
       "      <td>14</td>\n",
       "      <td>81</td>\n",
       "    </tr>\n",
       "    <tr>\n",
       "      <th>849</th>\n",
       "      <td>Anna Whitlocks gymnasium 54040574</td>\n",
       "      <td>54040574</td>\n",
       "      <td>Stockholm</td>\n",
       "      <td>180</td>\n",
       "      <td>Kommunal</td>\n",
       "      <td>Stockholms kommun</td>\n",
       "      <td>2120000142</td>\n",
       "      <td>2161</td>\n",
       "      <td>761</td>\n",
       "      <td>715</td>\n",
       "      <td>685</td>\n",
       "      <td>68</td>\n",
       "      <td>13</td>\n",
       "      <td>89</td>\n",
       "    </tr>\n",
       "    <tr>\n",
       "      <th>261</th>\n",
       "      <td>Fredrika Bremergymnasiet</td>\n",
       "      <td>16313848</td>\n",
       "      <td>Haninge</td>\n",
       "      <td>136</td>\n",
       "      <td>Kommunal</td>\n",
       "      <td>Haninge kommun</td>\n",
       "      <td>2120000084</td>\n",
       "      <td>2015</td>\n",
       "      <td>799</td>\n",
       "      <td>667</td>\n",
       "      <td>549</td>\n",
       "      <td>39</td>\n",
       "      <td>34</td>\n",
       "      <td>49</td>\n",
       "    </tr>\n",
       "    <tr>\n",
       "      <th>1031</th>\n",
       "      <td>Tibble Gymnasium Campus Täby</td>\n",
       "      <td>31486865</td>\n",
       "      <td>Täby</td>\n",
       "      <td>160</td>\n",
       "      <td>Enskild</td>\n",
       "      <td>Tibble Fristående Gymnasium TFG AB</td>\n",
       "      <td>5566978556</td>\n",
       "      <td>1797</td>\n",
       "      <td>602</td>\n",
       "      <td>601</td>\n",
       "      <td>594</td>\n",
       "      <td>53</td>\n",
       "      <td>9</td>\n",
       "      <td>84</td>\n",
       "    </tr>\n",
       "  </tbody>\n",
       "</table>\n",
       "</div>"
      ],
      "text/plain": [
       "                                  Skola  Skol-enhetskod Skolkommun  \\\n",
       "582                        Polhemskolan        53896162       Lund   \n",
       "671                     Nacka Gymnasium        92506886      Nacka   \n",
       "849   Anna Whitlocks gymnasium 54040574        54040574  Stockholm   \n",
       "261            Fredrika Bremergymnasiet        16313848    Haninge   \n",
       "1031       Tibble Gymnasium Campus Täby        31486865       Täby   \n",
       "\n",
       "      Kommun-kod Typ av huvudman                            Huvudman  \\\n",
       "582         1281        Kommunal                        Lunds kommun   \n",
       "671          182        Kommunal                        Nacka kommun   \n",
       "849          180        Kommunal                   Stockholms kommun   \n",
       "261          136        Kommunal                      Haninge kommun   \n",
       "1031         160         Enskild  Tibble Fristående Gymnasium TFG AB   \n",
       "\n",
       "      Huvudman orgnr  Antal elever Antal elever skolår 1  \\\n",
       "582       2120001132          2595                   886   \n",
       "671       2120000167          2213                   785   \n",
       "849       2120000142          2161                   761   \n",
       "261       2120000084          2015                   799   \n",
       "1031      5566978556          1797                   602   \n",
       "\n",
       "     Antal elever skolår 2 Antal elever skolår 3 Andel kvinnor (%)  \\\n",
       "582                    855                   854                45   \n",
       "671                    742                   686                35   \n",
       "849                    715                   685                68   \n",
       "261                    667                   549                39   \n",
       "1031                   601                   594                53   \n",
       "\n",
       "     Andel m utl bakgr (%) Andel m högutb föräldrar (%)  \n",
       "582                     16                           86  \n",
       "671                     14                           81  \n",
       "849                     13                           89  \n",
       "261                     34                           49  \n",
       "1031                     9                           84  "
      ]
     },
     "execution_count": 300,
     "metadata": {},
     "output_type": "execute_result"
    }
   ],
   "source": [
    "# sort by total number of students\n",
    "df_students_top5 = df_students.sort_values(by=\"Antal elever\", ascending=False).head()\n",
    "df_students_top5"
   ]
  },
  {
   "cell_type": "code",
   "execution_count": 301,
   "metadata": {},
   "outputs": [],
   "source": [
    "# reset index so it's easier to work with\n",
    "df_students_top5 = df_students_top5.reset_index(drop=True)"
   ]
  },
  {
   "cell_type": "code",
   "execution_count": 302,
   "metadata": {},
   "outputs": [
    {
     "data": {
      "text/html": [
       "<div>\n",
       "<style scoped>\n",
       "    .dataframe tbody tr th:only-of-type {\n",
       "        vertical-align: middle;\n",
       "    }\n",
       "\n",
       "    .dataframe tbody tr th {\n",
       "        vertical-align: top;\n",
       "    }\n",
       "\n",
       "    .dataframe thead th {\n",
       "        text-align: right;\n",
       "    }\n",
       "</style>\n",
       "<table border=\"1\" class=\"dataframe\">\n",
       "  <thead>\n",
       "    <tr style=\"text-align: right;\">\n",
       "      <th></th>\n",
       "      <th>Skola</th>\n",
       "      <th>Skol-enhetskod</th>\n",
       "      <th>Skolkommun</th>\n",
       "      <th>Kommun-kod</th>\n",
       "      <th>Typ av huvudman</th>\n",
       "      <th>Huvudman</th>\n",
       "      <th>Huvudman orgnr</th>\n",
       "      <th>Antal elever</th>\n",
       "      <th>Antal elever skolår 1</th>\n",
       "      <th>Antal elever skolår 2</th>\n",
       "      <th>Antal elever skolår 3</th>\n",
       "      <th>Andel kvinnor (%)</th>\n",
       "      <th>Andel m utl bakgr (%)</th>\n",
       "      <th>Andel m högutb föräldrar (%)</th>\n",
       "      <th>Elever med utländsk bakgrund</th>\n",
       "      <th>Elever med svensk bakgrund</th>\n",
       "    </tr>\n",
       "  </thead>\n",
       "  <tbody>\n",
       "    <tr>\n",
       "      <th>0</th>\n",
       "      <td>Polhemskolan</td>\n",
       "      <td>53896162</td>\n",
       "      <td>Lund</td>\n",
       "      <td>1281</td>\n",
       "      <td>Kommunal</td>\n",
       "      <td>Lunds kommun</td>\n",
       "      <td>2120001132</td>\n",
       "      <td>2595</td>\n",
       "      <td>886</td>\n",
       "      <td>855</td>\n",
       "      <td>854</td>\n",
       "      <td>45</td>\n",
       "      <td>16</td>\n",
       "      <td>86</td>\n",
       "      <td>415</td>\n",
       "      <td>2180</td>\n",
       "    </tr>\n",
       "    <tr>\n",
       "      <th>1</th>\n",
       "      <td>Nacka Gymnasium</td>\n",
       "      <td>92506886</td>\n",
       "      <td>Nacka</td>\n",
       "      <td>182</td>\n",
       "      <td>Kommunal</td>\n",
       "      <td>Nacka kommun</td>\n",
       "      <td>2120000167</td>\n",
       "      <td>2213</td>\n",
       "      <td>785</td>\n",
       "      <td>742</td>\n",
       "      <td>686</td>\n",
       "      <td>35</td>\n",
       "      <td>14</td>\n",
       "      <td>81</td>\n",
       "      <td>310</td>\n",
       "      <td>1903</td>\n",
       "    </tr>\n",
       "    <tr>\n",
       "      <th>2</th>\n",
       "      <td>Anna Whitlocks gymnasium 54040574</td>\n",
       "      <td>54040574</td>\n",
       "      <td>Stockholm</td>\n",
       "      <td>180</td>\n",
       "      <td>Kommunal</td>\n",
       "      <td>Stockholms kommun</td>\n",
       "      <td>2120000142</td>\n",
       "      <td>2161</td>\n",
       "      <td>761</td>\n",
       "      <td>715</td>\n",
       "      <td>685</td>\n",
       "      <td>68</td>\n",
       "      <td>13</td>\n",
       "      <td>89</td>\n",
       "      <td>281</td>\n",
       "      <td>1880</td>\n",
       "    </tr>\n",
       "    <tr>\n",
       "      <th>3</th>\n",
       "      <td>Fredrika Bremergymnasiet</td>\n",
       "      <td>16313848</td>\n",
       "      <td>Haninge</td>\n",
       "      <td>136</td>\n",
       "      <td>Kommunal</td>\n",
       "      <td>Haninge kommun</td>\n",
       "      <td>2120000084</td>\n",
       "      <td>2015</td>\n",
       "      <td>799</td>\n",
       "      <td>667</td>\n",
       "      <td>549</td>\n",
       "      <td>39</td>\n",
       "      <td>34</td>\n",
       "      <td>49</td>\n",
       "      <td>685</td>\n",
       "      <td>1330</td>\n",
       "    </tr>\n",
       "    <tr>\n",
       "      <th>4</th>\n",
       "      <td>Tibble Gymnasium Campus Täby</td>\n",
       "      <td>31486865</td>\n",
       "      <td>Täby</td>\n",
       "      <td>160</td>\n",
       "      <td>Enskild</td>\n",
       "      <td>Tibble Fristående Gymnasium TFG AB</td>\n",
       "      <td>5566978556</td>\n",
       "      <td>1797</td>\n",
       "      <td>602</td>\n",
       "      <td>601</td>\n",
       "      <td>594</td>\n",
       "      <td>53</td>\n",
       "      <td>9</td>\n",
       "      <td>84</td>\n",
       "      <td>162</td>\n",
       "      <td>1635</td>\n",
       "    </tr>\n",
       "  </tbody>\n",
       "</table>\n",
       "</div>"
      ],
      "text/plain": [
       "                               Skola  Skol-enhetskod Skolkommun  Kommun-kod  \\\n",
       "0                       Polhemskolan        53896162       Lund        1281   \n",
       "1                    Nacka Gymnasium        92506886      Nacka         182   \n",
       "2  Anna Whitlocks gymnasium 54040574        54040574  Stockholm         180   \n",
       "3           Fredrika Bremergymnasiet        16313848    Haninge         136   \n",
       "4       Tibble Gymnasium Campus Täby        31486865       Täby         160   \n",
       "\n",
       "  Typ av huvudman                            Huvudman  Huvudman orgnr  \\\n",
       "0        Kommunal                        Lunds kommun      2120001132   \n",
       "1        Kommunal                        Nacka kommun      2120000167   \n",
       "2        Kommunal                   Stockholms kommun      2120000142   \n",
       "3        Kommunal                      Haninge kommun      2120000084   \n",
       "4         Enskild  Tibble Fristående Gymnasium TFG AB      5566978556   \n",
       "\n",
       "   Antal elever Antal elever skolår 1 Antal elever skolår 2  \\\n",
       "0          2595                   886                   855   \n",
       "1          2213                   785                   742   \n",
       "2          2161                   761                   715   \n",
       "3          2015                   799                   667   \n",
       "4          1797                   602                   601   \n",
       "\n",
       "  Antal elever skolår 3 Andel kvinnor (%) Andel m utl bakgr (%)  \\\n",
       "0                   854                45                    16   \n",
       "1                   686                35                    14   \n",
       "2                   685                68                    13   \n",
       "3                   549                39                    34   \n",
       "4                   594                53                     9   \n",
       "\n",
       "  Andel m högutb föräldrar (%)  Elever med utländsk bakgrund  \\\n",
       "0                           86                           415   \n",
       "1                           81                           310   \n",
       "2                           89                           281   \n",
       "3                           49                           685   \n",
       "4                           84                           162   \n",
       "\n",
       "   Elever med svensk bakgrund  \n",
       "0                        2180  \n",
       "1                        1903  \n",
       "2                        1880  \n",
       "3                        1330  \n",
       "4                        1635  "
      ]
     },
     "execution_count": 302,
     "metadata": {},
     "output_type": "execute_result"
    }
   ],
   "source": [
    "# add columns for number of students with swedish/foreign background\n",
    "df_students_top5[\"Elever med utländsk bakgrund\"] = [round(df_students_top5.at[i, \"Antal elever\"] * df_students_top5.at[i, \"Andel m utl bakgr (%)\"]/100) for i in range(5)]\n",
    "df_students_top5[\"Elever med svensk bakgrund\"] = [round(df_students_top5.at[i, \"Antal elever\"] * (100 - df_students_top5.at[i, \"Andel m utl bakgr (%)\"])/100) for i in range(5)]\n",
    "\n",
    "df_students_top5"
   ]
  },
  {
   "cell_type": "code",
   "execution_count": 305,
   "metadata": {},
   "outputs": [
    {
     "data": {
      "text/html": [
       "<div>\n",
       "<style scoped>\n",
       "    .dataframe tbody tr th:only-of-type {\n",
       "        vertical-align: middle;\n",
       "    }\n",
       "\n",
       "    .dataframe tbody tr th {\n",
       "        vertical-align: top;\n",
       "    }\n",
       "\n",
       "    .dataframe thead th {\n",
       "        text-align: right;\n",
       "    }\n",
       "</style>\n",
       "<table border=\"1\" class=\"dataframe\">\n",
       "  <thead>\n",
       "    <tr style=\"text-align: right;\">\n",
       "      <th></th>\n",
       "      <th>Skola</th>\n",
       "      <th>Skol-enhetskod</th>\n",
       "      <th>Skolkommun</th>\n",
       "      <th>Kommun-kod</th>\n",
       "      <th>Typ av huvudman</th>\n",
       "      <th>Huvudman</th>\n",
       "      <th>Huvudman orgnr</th>\n",
       "      <th>Antal elever</th>\n",
       "      <th>Antal elever skolår 1</th>\n",
       "      <th>Antal elever skolår 2</th>\n",
       "      <th>Antal elever skolår 3</th>\n",
       "      <th>Andel kvinnor (%)</th>\n",
       "      <th>Andel m utl bakgr (%)</th>\n",
       "      <th>Andel m högutb föräldrar (%)</th>\n",
       "      <th>Elever med utländsk bakgrund</th>\n",
       "      <th>Elever med svensk bakgrund</th>\n",
       "    </tr>\n",
       "  </thead>\n",
       "  <tbody>\n",
       "    <tr>\n",
       "      <th>0</th>\n",
       "      <td>Polhemskolan</td>\n",
       "      <td>53896162</td>\n",
       "      <td>Lund</td>\n",
       "      <td>1281</td>\n",
       "      <td>Kommunal</td>\n",
       "      <td>Lunds kommun</td>\n",
       "      <td>2120001132</td>\n",
       "      <td>2595</td>\n",
       "      <td>886</td>\n",
       "      <td>855</td>\n",
       "      <td>854</td>\n",
       "      <td>45</td>\n",
       "      <td>16</td>\n",
       "      <td>86</td>\n",
       "      <td>415</td>\n",
       "      <td>2180</td>\n",
       "    </tr>\n",
       "    <tr>\n",
       "      <th>1</th>\n",
       "      <td>Nacka Gymnasium</td>\n",
       "      <td>92506886</td>\n",
       "      <td>Nacka</td>\n",
       "      <td>182</td>\n",
       "      <td>Kommunal</td>\n",
       "      <td>Nacka kommun</td>\n",
       "      <td>2120000167</td>\n",
       "      <td>2213</td>\n",
       "      <td>785</td>\n",
       "      <td>742</td>\n",
       "      <td>686</td>\n",
       "      <td>35</td>\n",
       "      <td>14</td>\n",
       "      <td>81</td>\n",
       "      <td>310</td>\n",
       "      <td>1903</td>\n",
       "    </tr>\n",
       "    <tr>\n",
       "      <th>2</th>\n",
       "      <td>Anna Whitlocks gymnasium</td>\n",
       "      <td>54040574</td>\n",
       "      <td>Stockholm</td>\n",
       "      <td>180</td>\n",
       "      <td>Kommunal</td>\n",
       "      <td>Stockholms kommun</td>\n",
       "      <td>2120000142</td>\n",
       "      <td>2161</td>\n",
       "      <td>761</td>\n",
       "      <td>715</td>\n",
       "      <td>685</td>\n",
       "      <td>68</td>\n",
       "      <td>13</td>\n",
       "      <td>89</td>\n",
       "      <td>281</td>\n",
       "      <td>1880</td>\n",
       "    </tr>\n",
       "    <tr>\n",
       "      <th>3</th>\n",
       "      <td>Fredrika Bremergymnasiet</td>\n",
       "      <td>16313848</td>\n",
       "      <td>Haninge</td>\n",
       "      <td>136</td>\n",
       "      <td>Kommunal</td>\n",
       "      <td>Haninge kommun</td>\n",
       "      <td>2120000084</td>\n",
       "      <td>2015</td>\n",
       "      <td>799</td>\n",
       "      <td>667</td>\n",
       "      <td>549</td>\n",
       "      <td>39</td>\n",
       "      <td>34</td>\n",
       "      <td>49</td>\n",
       "      <td>685</td>\n",
       "      <td>1330</td>\n",
       "    </tr>\n",
       "    <tr>\n",
       "      <th>4</th>\n",
       "      <td>Tibble Gymnasium Campus Täby</td>\n",
       "      <td>31486865</td>\n",
       "      <td>Täby</td>\n",
       "      <td>160</td>\n",
       "      <td>Enskild</td>\n",
       "      <td>Tibble Fristående Gymnasium TFG AB</td>\n",
       "      <td>5566978556</td>\n",
       "      <td>1797</td>\n",
       "      <td>602</td>\n",
       "      <td>601</td>\n",
       "      <td>594</td>\n",
       "      <td>53</td>\n",
       "      <td>9</td>\n",
       "      <td>84</td>\n",
       "      <td>162</td>\n",
       "      <td>1635</td>\n",
       "    </tr>\n",
       "  </tbody>\n",
       "</table>\n",
       "</div>"
      ],
      "text/plain": [
       "                          Skola  Skol-enhetskod Skolkommun  Kommun-kod  \\\n",
       "0                  Polhemskolan        53896162       Lund        1281   \n",
       "1               Nacka Gymnasium        92506886      Nacka         182   \n",
       "2      Anna Whitlocks gymnasium        54040574  Stockholm         180   \n",
       "3      Fredrika Bremergymnasiet        16313848    Haninge         136   \n",
       "4  Tibble Gymnasium Campus Täby        31486865       Täby         160   \n",
       "\n",
       "  Typ av huvudman                            Huvudman  Huvudman orgnr  \\\n",
       "0        Kommunal                        Lunds kommun      2120001132   \n",
       "1        Kommunal                        Nacka kommun      2120000167   \n",
       "2        Kommunal                   Stockholms kommun      2120000142   \n",
       "3        Kommunal                      Haninge kommun      2120000084   \n",
       "4         Enskild  Tibble Fristående Gymnasium TFG AB      5566978556   \n",
       "\n",
       "   Antal elever Antal elever skolår 1 Antal elever skolår 2  \\\n",
       "0          2595                   886                   855   \n",
       "1          2213                   785                   742   \n",
       "2          2161                   761                   715   \n",
       "3          2015                   799                   667   \n",
       "4          1797                   602                   601   \n",
       "\n",
       "  Antal elever skolår 3 Andel kvinnor (%) Andel m utl bakgr (%)  \\\n",
       "0                   854                45                    16   \n",
       "1                   686                35                    14   \n",
       "2                   685                68                    13   \n",
       "3                   549                39                    34   \n",
       "4                   594                53                     9   \n",
       "\n",
       "  Andel m högutb föräldrar (%)  Elever med utländsk bakgrund  \\\n",
       "0                           86                           415   \n",
       "1                           81                           310   \n",
       "2                           89                           281   \n",
       "3                           49                           685   \n",
       "4                           84                           162   \n",
       "\n",
       "   Elever med svensk bakgrund  \n",
       "0                        2180  \n",
       "1                        1903  \n",
       "2                        1880  \n",
       "3                        1330  \n",
       "4                        1635  "
      ]
     },
     "execution_count": 305,
     "metadata": {},
     "output_type": "execute_result"
    }
   ],
   "source": [
    "# Adjust name of school that had weird data\n",
    "df_students_top5.at[2, \"Skola\"] = \"Anna Whitlocks gymnasium\"\n",
    "df_students_top5"
   ]
  },
  {
   "cell_type": "code",
   "execution_count": 322,
   "metadata": {},
   "outputs": [
    {
     "data": {
      "application/vnd.plotly.v1+json": {
       "config": {
        "plotlyServerURL": "https://plot.ly"
       },
       "data": [
        {
         "alignmentgroup": "True",
         "hovertemplate": "Bakgrund=Elever med svensk bakgrund<br>Skola=%{x}<br>Antal=%{y}<extra></extra>",
         "legendgroup": "Elever med svensk bakgrund",
         "marker": {
          "color": "#4A7FE8",
          "pattern": {
           "shape": ""
          }
         },
         "name": "Elever med svensk bakgrund",
         "offsetgroup": "Elever med svensk bakgrund",
         "orientation": "v",
         "showlegend": true,
         "textposition": "auto",
         "texttemplate": "%{y}",
         "type": "bar",
         "x": [
          "Polhemskolan",
          "Nacka Gymnasium",
          "Anna Whitlocks gymnasium",
          "Fredrika Bremergymnasiet",
          "Tibble Gymnasium Campus Täby"
         ],
         "xaxis": "x",
         "y": [
          2180,
          1903,
          1880,
          1330,
          1635
         ],
         "yaxis": "y"
        },
        {
         "alignmentgroup": "True",
         "hovertemplate": "Bakgrund=Elever med utländsk bakgrund<br>Skola=%{x}<br>Antal=%{y}<extra></extra>",
         "legendgroup": "Elever med utländsk bakgrund",
         "marker": {
          "color": "#F0BC1C",
          "pattern": {
           "shape": ""
          }
         },
         "name": "Elever med utländsk bakgrund",
         "offsetgroup": "Elever med utländsk bakgrund",
         "orientation": "v",
         "showlegend": true,
         "textposition": "auto",
         "texttemplate": "%{y}",
         "type": "bar",
         "x": [
          "Polhemskolan",
          "Nacka Gymnasium",
          "Anna Whitlocks gymnasium",
          "Fredrika Bremergymnasiet",
          "Tibble Gymnasium Campus Täby"
         ],
         "xaxis": "x",
         "y": [
          415,
          310,
          281,
          685,
          162
         ],
         "yaxis": "y"
        }
       ],
       "layout": {
        "barmode": "relative",
        "height": 600,
        "legend": {
         "title": {
          "text": "Bakgrund"
         },
         "tracegroupgap": 0
        },
        "template": {
         "data": {
          "bar": [
           {
            "error_x": {
             "color": "#2a3f5f"
            },
            "error_y": {
             "color": "#2a3f5f"
            },
            "marker": {
             "line": {
              "color": "#E5ECF6",
              "width": 0.5
             },
             "pattern": {
              "fillmode": "overlay",
              "size": 10,
              "solidity": 0.2
             }
            },
            "type": "bar"
           }
          ],
          "barpolar": [
           {
            "marker": {
             "line": {
              "color": "#E5ECF6",
              "width": 0.5
             },
             "pattern": {
              "fillmode": "overlay",
              "size": 10,
              "solidity": 0.2
             }
            },
            "type": "barpolar"
           }
          ],
          "carpet": [
           {
            "aaxis": {
             "endlinecolor": "#2a3f5f",
             "gridcolor": "white",
             "linecolor": "white",
             "minorgridcolor": "white",
             "startlinecolor": "#2a3f5f"
            },
            "baxis": {
             "endlinecolor": "#2a3f5f",
             "gridcolor": "white",
             "linecolor": "white",
             "minorgridcolor": "white",
             "startlinecolor": "#2a3f5f"
            },
            "type": "carpet"
           }
          ],
          "choropleth": [
           {
            "colorbar": {
             "outlinewidth": 0,
             "ticks": ""
            },
            "type": "choropleth"
           }
          ],
          "contour": [
           {
            "colorbar": {
             "outlinewidth": 0,
             "ticks": ""
            },
            "colorscale": [
             [
              0,
              "#0d0887"
             ],
             [
              0.1111111111111111,
              "#46039f"
             ],
             [
              0.2222222222222222,
              "#7201a8"
             ],
             [
              0.3333333333333333,
              "#9c179e"
             ],
             [
              0.4444444444444444,
              "#bd3786"
             ],
             [
              0.5555555555555556,
              "#d8576b"
             ],
             [
              0.6666666666666666,
              "#ed7953"
             ],
             [
              0.7777777777777778,
              "#fb9f3a"
             ],
             [
              0.8888888888888888,
              "#fdca26"
             ],
             [
              1,
              "#f0f921"
             ]
            ],
            "type": "contour"
           }
          ],
          "contourcarpet": [
           {
            "colorbar": {
             "outlinewidth": 0,
             "ticks": ""
            },
            "type": "contourcarpet"
           }
          ],
          "heatmap": [
           {
            "colorbar": {
             "outlinewidth": 0,
             "ticks": ""
            },
            "colorscale": [
             [
              0,
              "#0d0887"
             ],
             [
              0.1111111111111111,
              "#46039f"
             ],
             [
              0.2222222222222222,
              "#7201a8"
             ],
             [
              0.3333333333333333,
              "#9c179e"
             ],
             [
              0.4444444444444444,
              "#bd3786"
             ],
             [
              0.5555555555555556,
              "#d8576b"
             ],
             [
              0.6666666666666666,
              "#ed7953"
             ],
             [
              0.7777777777777778,
              "#fb9f3a"
             ],
             [
              0.8888888888888888,
              "#fdca26"
             ],
             [
              1,
              "#f0f921"
             ]
            ],
            "type": "heatmap"
           }
          ],
          "heatmapgl": [
           {
            "colorbar": {
             "outlinewidth": 0,
             "ticks": ""
            },
            "colorscale": [
             [
              0,
              "#0d0887"
             ],
             [
              0.1111111111111111,
              "#46039f"
             ],
             [
              0.2222222222222222,
              "#7201a8"
             ],
             [
              0.3333333333333333,
              "#9c179e"
             ],
             [
              0.4444444444444444,
              "#bd3786"
             ],
             [
              0.5555555555555556,
              "#d8576b"
             ],
             [
              0.6666666666666666,
              "#ed7953"
             ],
             [
              0.7777777777777778,
              "#fb9f3a"
             ],
             [
              0.8888888888888888,
              "#fdca26"
             ],
             [
              1,
              "#f0f921"
             ]
            ],
            "type": "heatmapgl"
           }
          ],
          "histogram": [
           {
            "marker": {
             "pattern": {
              "fillmode": "overlay",
              "size": 10,
              "solidity": 0.2
             }
            },
            "type": "histogram"
           }
          ],
          "histogram2d": [
           {
            "colorbar": {
             "outlinewidth": 0,
             "ticks": ""
            },
            "colorscale": [
             [
              0,
              "#0d0887"
             ],
             [
              0.1111111111111111,
              "#46039f"
             ],
             [
              0.2222222222222222,
              "#7201a8"
             ],
             [
              0.3333333333333333,
              "#9c179e"
             ],
             [
              0.4444444444444444,
              "#bd3786"
             ],
             [
              0.5555555555555556,
              "#d8576b"
             ],
             [
              0.6666666666666666,
              "#ed7953"
             ],
             [
              0.7777777777777778,
              "#fb9f3a"
             ],
             [
              0.8888888888888888,
              "#fdca26"
             ],
             [
              1,
              "#f0f921"
             ]
            ],
            "type": "histogram2d"
           }
          ],
          "histogram2dcontour": [
           {
            "colorbar": {
             "outlinewidth": 0,
             "ticks": ""
            },
            "colorscale": [
             [
              0,
              "#0d0887"
             ],
             [
              0.1111111111111111,
              "#46039f"
             ],
             [
              0.2222222222222222,
              "#7201a8"
             ],
             [
              0.3333333333333333,
              "#9c179e"
             ],
             [
              0.4444444444444444,
              "#bd3786"
             ],
             [
              0.5555555555555556,
              "#d8576b"
             ],
             [
              0.6666666666666666,
              "#ed7953"
             ],
             [
              0.7777777777777778,
              "#fb9f3a"
             ],
             [
              0.8888888888888888,
              "#fdca26"
             ],
             [
              1,
              "#f0f921"
             ]
            ],
            "type": "histogram2dcontour"
           }
          ],
          "mesh3d": [
           {
            "colorbar": {
             "outlinewidth": 0,
             "ticks": ""
            },
            "type": "mesh3d"
           }
          ],
          "parcoords": [
           {
            "line": {
             "colorbar": {
              "outlinewidth": 0,
              "ticks": ""
             }
            },
            "type": "parcoords"
           }
          ],
          "pie": [
           {
            "automargin": true,
            "type": "pie"
           }
          ],
          "scatter": [
           {
            "fillpattern": {
             "fillmode": "overlay",
             "size": 10,
             "solidity": 0.2
            },
            "type": "scatter"
           }
          ],
          "scatter3d": [
           {
            "line": {
             "colorbar": {
              "outlinewidth": 0,
              "ticks": ""
             }
            },
            "marker": {
             "colorbar": {
              "outlinewidth": 0,
              "ticks": ""
             }
            },
            "type": "scatter3d"
           }
          ],
          "scattercarpet": [
           {
            "marker": {
             "colorbar": {
              "outlinewidth": 0,
              "ticks": ""
             }
            },
            "type": "scattercarpet"
           }
          ],
          "scattergeo": [
           {
            "marker": {
             "colorbar": {
              "outlinewidth": 0,
              "ticks": ""
             }
            },
            "type": "scattergeo"
           }
          ],
          "scattergl": [
           {
            "marker": {
             "colorbar": {
              "outlinewidth": 0,
              "ticks": ""
             }
            },
            "type": "scattergl"
           }
          ],
          "scattermapbox": [
           {
            "marker": {
             "colorbar": {
              "outlinewidth": 0,
              "ticks": ""
             }
            },
            "type": "scattermapbox"
           }
          ],
          "scatterpolar": [
           {
            "marker": {
             "colorbar": {
              "outlinewidth": 0,
              "ticks": ""
             }
            },
            "type": "scatterpolar"
           }
          ],
          "scatterpolargl": [
           {
            "marker": {
             "colorbar": {
              "outlinewidth": 0,
              "ticks": ""
             }
            },
            "type": "scatterpolargl"
           }
          ],
          "scatterternary": [
           {
            "marker": {
             "colorbar": {
              "outlinewidth": 0,
              "ticks": ""
             }
            },
            "type": "scatterternary"
           }
          ],
          "surface": [
           {
            "colorbar": {
             "outlinewidth": 0,
             "ticks": ""
            },
            "colorscale": [
             [
              0,
              "#0d0887"
             ],
             [
              0.1111111111111111,
              "#46039f"
             ],
             [
              0.2222222222222222,
              "#7201a8"
             ],
             [
              0.3333333333333333,
              "#9c179e"
             ],
             [
              0.4444444444444444,
              "#bd3786"
             ],
             [
              0.5555555555555556,
              "#d8576b"
             ],
             [
              0.6666666666666666,
              "#ed7953"
             ],
             [
              0.7777777777777778,
              "#fb9f3a"
             ],
             [
              0.8888888888888888,
              "#fdca26"
             ],
             [
              1,
              "#f0f921"
             ]
            ],
            "type": "surface"
           }
          ],
          "table": [
           {
            "cells": {
             "fill": {
              "color": "#EBF0F8"
             },
             "line": {
              "color": "white"
             }
            },
            "header": {
             "fill": {
              "color": "#C8D4E3"
             },
             "line": {
              "color": "white"
             }
            },
            "type": "table"
           }
          ]
         },
         "layout": {
          "annotationdefaults": {
           "arrowcolor": "#2a3f5f",
           "arrowhead": 0,
           "arrowwidth": 1
          },
          "autotypenumbers": "strict",
          "coloraxis": {
           "colorbar": {
            "outlinewidth": 0,
            "ticks": ""
           }
          },
          "colorscale": {
           "diverging": [
            [
             0,
             "#8e0152"
            ],
            [
             0.1,
             "#c51b7d"
            ],
            [
             0.2,
             "#de77ae"
            ],
            [
             0.3,
             "#f1b6da"
            ],
            [
             0.4,
             "#fde0ef"
            ],
            [
             0.5,
             "#f7f7f7"
            ],
            [
             0.6,
             "#e6f5d0"
            ],
            [
             0.7,
             "#b8e186"
            ],
            [
             0.8,
             "#7fbc41"
            ],
            [
             0.9,
             "#4d9221"
            ],
            [
             1,
             "#276419"
            ]
           ],
           "sequential": [
            [
             0,
             "#0d0887"
            ],
            [
             0.1111111111111111,
             "#46039f"
            ],
            [
             0.2222222222222222,
             "#7201a8"
            ],
            [
             0.3333333333333333,
             "#9c179e"
            ],
            [
             0.4444444444444444,
             "#bd3786"
            ],
            [
             0.5555555555555556,
             "#d8576b"
            ],
            [
             0.6666666666666666,
             "#ed7953"
            ],
            [
             0.7777777777777778,
             "#fb9f3a"
            ],
            [
             0.8888888888888888,
             "#fdca26"
            ],
            [
             1,
             "#f0f921"
            ]
           ],
           "sequentialminus": [
            [
             0,
             "#0d0887"
            ],
            [
             0.1111111111111111,
             "#46039f"
            ],
            [
             0.2222222222222222,
             "#7201a8"
            ],
            [
             0.3333333333333333,
             "#9c179e"
            ],
            [
             0.4444444444444444,
             "#bd3786"
            ],
            [
             0.5555555555555556,
             "#d8576b"
            ],
            [
             0.6666666666666666,
             "#ed7953"
            ],
            [
             0.7777777777777778,
             "#fb9f3a"
            ],
            [
             0.8888888888888888,
             "#fdca26"
            ],
            [
             1,
             "#f0f921"
            ]
           ]
          },
          "colorway": [
           "#636efa",
           "#EF553B",
           "#00cc96",
           "#ab63fa",
           "#FFA15A",
           "#19d3f3",
           "#FF6692",
           "#B6E880",
           "#FF97FF",
           "#FECB52"
          ],
          "font": {
           "color": "#2a3f5f"
          },
          "geo": {
           "bgcolor": "white",
           "lakecolor": "white",
           "landcolor": "#E5ECF6",
           "showlakes": true,
           "showland": true,
           "subunitcolor": "white"
          },
          "hoverlabel": {
           "align": "left"
          },
          "hovermode": "closest",
          "mapbox": {
           "style": "light"
          },
          "paper_bgcolor": "white",
          "plot_bgcolor": "#E5ECF6",
          "polar": {
           "angularaxis": {
            "gridcolor": "white",
            "linecolor": "white",
            "ticks": ""
           },
           "bgcolor": "#E5ECF6",
           "radialaxis": {
            "gridcolor": "white",
            "linecolor": "white",
            "ticks": ""
           }
          },
          "scene": {
           "xaxis": {
            "backgroundcolor": "#E5ECF6",
            "gridcolor": "white",
            "gridwidth": 2,
            "linecolor": "white",
            "showbackground": true,
            "ticks": "",
            "zerolinecolor": "white"
           },
           "yaxis": {
            "backgroundcolor": "#E5ECF6",
            "gridcolor": "white",
            "gridwidth": 2,
            "linecolor": "white",
            "showbackground": true,
            "ticks": "",
            "zerolinecolor": "white"
           },
           "zaxis": {
            "backgroundcolor": "#E5ECF6",
            "gridcolor": "white",
            "gridwidth": 2,
            "linecolor": "white",
            "showbackground": true,
            "ticks": "",
            "zerolinecolor": "white"
           }
          },
          "shapedefaults": {
           "line": {
            "color": "#2a3f5f"
           }
          },
          "ternary": {
           "aaxis": {
            "gridcolor": "white",
            "linecolor": "white",
            "ticks": ""
           },
           "baxis": {
            "gridcolor": "white",
            "linecolor": "white",
            "ticks": ""
           },
           "bgcolor": "#E5ECF6",
           "caxis": {
            "gridcolor": "white",
            "linecolor": "white",
            "ticks": ""
           }
          },
          "title": {
           "x": 0.05
          },
          "xaxis": {
           "automargin": true,
           "gridcolor": "white",
           "linecolor": "white",
           "ticks": "",
           "title": {
            "standoff": 15
           },
           "zerolinecolor": "white",
           "zerolinewidth": 2
          },
          "yaxis": {
           "automargin": true,
           "gridcolor": "white",
           "linecolor": "white",
           "ticks": "",
           "title": {
            "standoff": 15
           },
           "zerolinecolor": "white",
           "zerolinewidth": 2
          }
         }
        },
        "title": {
         "text": "Antal elever med svensk respektive utländsk bakgrund i sveriges största gymnasieskolor läsåret 2023/2024"
        },
        "xaxis": {
         "anchor": "y",
         "domain": [
          0,
          1
         ],
         "linecolor": "gray",
         "linewidth": 2,
         "showline": true,
         "showticklabels": true,
         "tickangle": 0,
         "tickcolor": "gray",
         "ticks": "outside",
         "title": {
          "text": "Skola"
         }
        },
        "yaxis": {
         "anchor": "x",
         "domain": [
          0,
          1
         ],
         "linecolor": "gray",
         "linewidth": 2,
         "range": [
          0,
          3000
         ],
         "showline": true,
         "showticklabels": true,
         "ticksuffix": " ",
         "title": {
          "text": "Antal elever"
         }
        }
       }
      }
     },
     "metadata": {},
     "output_type": "display_data"
    }
   ],
   "source": [
    "fig = px.bar(\n",
    "    df_students_top5,\n",
    "    x=\"Skola\",\n",
    "    y=[\"Elever med svensk bakgrund\", \"Elever med utländsk bakgrund\"],\n",
    "    title=\"Antal elever med svensk respektive utländsk bakgrund i sveriges största gymnasieskolor läsåret 2023/2024\",\n",
    "    color_discrete_map={\"Elever med svensk bakgrund\": \"#4A7FE8\", \"Elever med utländsk bakgrund\": \"#F0BC1C\"},\n",
    "    text_auto=True\n",
    ").update_layout(\n",
    "    yaxis_title=\"Antal elever\",\n",
    "    legend_title=\"Bakgrund\",\n",
    "    yaxis_range=[0, 3000],\n",
    "    height=600\n",
    ")\n",
    "names = {\"variable\": \"Bakgrund\", \"value\": \"Antal\"}\n",
    "fig.for_each_trace(\n",
    "    lambda t: t.update(\n",
    "        hovertemplate=t.hovertemplate.replace(\"variable\", names[\"variable\"]).replace(\n",
    "            \"value\", names[\"value\"]\n",
    "        )\n",
    "    )\n",
    ")\n",
    "fig.update_yaxes(\n",
    "    ticksuffix=\" \",\n",
    "    showline=True,\n",
    "    linewidth=2,\n",
    "    linecolor=\"gray\",\n",
    "    showticklabels=True,\n",
    ")\n",
    "fig.update_xaxes(\n",
    "    showline=True,\n",
    "    linewidth=2,\n",
    "    linecolor=\"gray\",\n",
    "    showticklabels=True,\n",
    "    ticks=\"outside\",\n",
    "    tickcolor=\"gray\",\n",
    "    tickangle=0\n",
    ")\n",
    "fig.show()\n",
    "#fig.write_html(\"./Visualiseringar/elever_bakgrund_gymnasiet.html\")"
   ]
  },
  {
   "cell_type": "code",
   "execution_count": null,
   "metadata": {},
   "outputs": [],
   "source": []
  }
 ],
 "metadata": {
  "kernelspec": {
   "display_name": "venv",
   "language": "python",
   "name": "python3"
  },
  "language_info": {
   "codemirror_mode": {
    "name": "ipython",
    "version": 3
   },
   "file_extension": ".py",
   "mimetype": "text/x-python",
   "name": "python",
   "nbconvert_exporter": "python",
   "pygments_lexer": "ipython3",
   "version": "3.11.7"
  }
 },
 "nbformat": 4,
 "nbformat_minor": 2
}
